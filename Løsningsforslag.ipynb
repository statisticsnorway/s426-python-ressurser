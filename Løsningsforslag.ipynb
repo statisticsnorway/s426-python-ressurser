{
 "cells": [
  {
   "cell_type": "markdown",
   "id": "6b034028-a6f4-42d6-b94a-9c60dcaa1aa6",
   "metadata": {},
   "source": [
    "# Løsningsforslag"
   ]
  },
  {
   "cell_type": "markdown",
   "id": "79e66e09-c64c-4e78-8898-fddc0fa7dd46",
   "metadata": {},
   "source": [
    "#### 1) Importér pandas\n",
    "Kall pakken for \"pd\" slik at du kan referere til den med dette navnet framover."
   ]
  },
  {
   "cell_type": "code",
   "execution_count": null,
   "id": "ad62a053-231e-4d8e-9aca-330591ddc2f6",
   "metadata": {},
   "outputs": [],
   "source": [
    "import pandas as pd"
   ]
  },
  {
   "cell_type": "code",
   "execution_count": null,
   "id": "c143295b-f5bd-4b29-8cd5-ef4e5314d8a0",
   "metadata": {},
   "outputs": [],
   "source": [
    "#For å sjekke om pakken er importert, kjør denne snutten. Om den er importert, skal du få versjonsnummeret opp\n",
    "print(pd.__version__)"
   ]
  },
  {
   "cell_type": "markdown",
   "id": "db5bb490-a004-491c-8374-391be147dab5",
   "metadata": {},
   "source": [
    "#### 2) Importér datasett fra csv til pandas-datasett\n",
    "Sørg først for å få lastet opp csv-filen (\"S:\\Organisasjon\\A400\\S426\\Felles\\Diverse samordning\\seksjonsseminar_python_data\\bygg_kongsvinger.csv\") til Dapla og legg den inn i mappen \"s426-python-ressurser\". \\\n",
    "Print deretter ut datasettet."
   ]
  },
  {
   "cell_type": "code",
   "execution_count": null,
   "id": "2815eea6-8876-4ea7-b4a6-c514d12ea349",
   "metadata": {},
   "outputs": [],
   "source": [
    "bygg = pd.read_csv(\"bygg_kongsvinger.csv\")\n",
    "bygg"
   ]
  },
  {
   "cell_type": "markdown",
   "id": "b456b223-13be-42ed-bf03-6420f9fac9ea",
   "metadata": {},
   "source": [
    "#### 3) Utforsk datasett med enkel deskriptiv statistikk\n",
    "Skriv ut deskriptiv statistikk: f. eks. gjennomsnitt, antall rader og median. Dette er mest interessant for bruksareal. \\\n",
    "Her kan det også være ønskelig å skrive ut den deskriptive statistikken gruppert på en annen variabel (for eksempel bygningstype) slik at vi får et gjennomsnitt, antall rader og median for hver gruppe."
   ]
  },
  {
   "cell_type": "code",
   "execution_count": null,
   "id": "06b4981f-7f38-48c5-af7e-2b598612eb2d",
   "metadata": {},
   "outputs": [],
   "source": [
    "bygg['BRUKSAREAL_TOTALT'].describe()"
   ]
  },
  {
   "cell_type": "code",
   "execution_count": null,
   "id": "bcf25e54-9f16-4224-a614-080eeee919bc",
   "metadata": {},
   "outputs": [],
   "source": [
    "bygg.groupby('BYGNINGSTYPE')['BRUKSAREAL_TOTALT'].describe()"
   ]
  },
  {
   "cell_type": "markdown",
   "id": "9326c371-4877-43ff-8699-582b80188bde",
   "metadata": {},
   "source": [
    "#### 4) Sortér datasett etter bygningstype"
   ]
  },
  {
   "cell_type": "code",
   "execution_count": null,
   "id": "79dc416c-5a6d-4e2b-8d97-c1b70608bdb7",
   "metadata": {},
   "outputs": [],
   "source": [
    "bygg = bygg.sort_values(by=['BYGNINGSTYPE'])\n",
    "bygg"
   ]
  },
  {
   "cell_type": "markdown",
   "id": "aed67ab1-3438-495c-a690-fd6c24d0f03d",
   "metadata": {},
   "source": [
    "#### 5) Endre navn på kolonne\n",
    "Vi synes bygningsstatus er litt langt. Derfor kan vi endre navn på denne til bare \"status\". Print datasettet for å sjekke om kolonnen faktisk endret navn."
   ]
  },
  {
   "cell_type": "code",
   "execution_count": null,
   "id": "f7a43ab5-b16d-4d12-9061-1a46f1dae05a",
   "metadata": {},
   "outputs": [],
   "source": [
    "bygg = bygg.rename(columns={\"BYGNINGSSTATUS\" : \"STATUS\"})\n",
    "bygg"
   ]
  },
  {
   "cell_type": "markdown",
   "id": "4de07755-37de-4769-be7c-dd913ec0f574",
   "metadata": {
    "tags": []
   },
   "source": [
    "#### 6) Filtrér datasett\n",
    "##### a) Lag et nytt datasett som heter \"igangsatte_bygg\" hvor bare bygg med igangsatt-status (IG) kommer med.\n",
    "##### b) I datasettet igangsatte_bygg vil vi kun ha med kolonnene ID, BYGNINGSTYPE og BRUKSAREAL_TOTALT."
   ]
  },
  {
   "cell_type": "code",
   "execution_count": null,
   "id": "66420d6e-7a1d-4f7f-ab3e-fdc64040056d",
   "metadata": {},
   "outputs": [],
   "source": [
    "igangsatte_bygg = bygg.loc[bygg['STATUS'] == \"IG\"]\n",
    "\n",
    "igangsatte_bygg = igangsatte_bygg[['ID', 'BYGNINGSTYPE', 'BRUKSAREAL_TOTALT']]\n",
    "igangsatte_bygg"
   ]
  },
  {
   "cell_type": "markdown",
   "id": "b3c2b246-ca43-4ec1-bf5b-ca0a14e203d7",
   "metadata": {},
   "source": [
    "#### 7) Endre datatype til kolonne\n",
    "Vi kan se hvilke datatyper de ulike kolonnene er ved å bruke \"dtypes\"-funksjonen:"
   ]
  },
  {
   "cell_type": "code",
   "execution_count": null,
   "id": "4e5517a4-72be-4883-b2f0-10507fd49af5",
   "metadata": {},
   "outputs": [],
   "source": [
    "bygg.dtypes"
   ]
  },
  {
   "cell_type": "markdown",
   "id": "2af94260-c9f1-4a6b-bbe4-dfff7b99cd3d",
   "metadata": {},
   "source": [
    "KOMMUNENR er en såkalt int64-kolonne (numerisk). Denne ønsker vi å gjøre om til en \"string\"-kolonne (tekst)."
   ]
  },
  {
   "cell_type": "code",
   "execution_count": null,
   "id": "d876e3ab-96c6-4e16-8d82-c3d5081d78c0",
   "metadata": {},
   "outputs": [],
   "source": [
    "bygg['KOMMUNENR'] = bygg['KOMMUNENR'].astype(\"string\")"
   ]
  },
  {
   "cell_type": "code",
   "execution_count": null,
   "id": "22488803-d6a8-4f70-b8ae-4c221a76c71d",
   "metadata": {},
   "outputs": [],
   "source": [
    "#For å sjekke om variabelen ble gjort om til string, kjør bygg.dtypes igjen:\n",
    "bygg.dtypes"
   ]
  },
  {
   "cell_type": "markdown",
   "id": "1c8bfee6-49af-4c70-ac90-292461a5715d",
   "metadata": {},
   "source": [
    "#### 8) Lag ny kolonne\n",
    "##### a) Lag en ny kolonne for fylke basert på de to første sifrene i kommunenummeret.\n",
    "Husk at i Python teller en fra 0!\n",
    "##### b) Mange av bygningene har veldig lavt bruksareal. Dette er kanskje tilbygg og påbygg eller bygninger som ikke har ført areal i det hele tatt. Vi ønsker å lage en dikotom variabel som indikerer om bruksareal er mindre enn 15 kvadratmeter."
   ]
  },
  {
   "cell_type": "code",
   "execution_count": null,
   "id": "131960d8-ff17-4cf4-bc26-47eb5088d1c6",
   "metadata": {},
   "outputs": [],
   "source": [
    "bygg['FYLKE'] = bygg['KOMMUNENR'].str[:2]\n",
    "\n",
    "bygg.loc[bygg['BRUKSAREAL_TOTALT'] < 15, 'LITE_BRUKSAREAL'] = True\n",
    "bygg.loc[bygg['BRUKSAREAL_TOTALT'] >= 15, 'LITE_BRUKSAREAL'] = False\n",
    "bygg"
   ]
  },
  {
   "cell_type": "markdown",
   "id": "a939a9f2-9e1c-4122-bdc8-e4056d177e0d",
   "metadata": {},
   "source": [
    "#### 9) Koble på dato-variabel fra byggesakshistorikk\n",
    "I bygningstabellen finner en datovariabler som sier noe om når et bygg er igangsatt, har fått rammetillatelse osv. med bakgrunn i byggesakshistorikk. Vi ønsker å koble på datoen som bygningen ble tatt i bruk på, som vi har lagt i en annen tabell. Denne tabellen heter byggdato_kongsvinger.csv og må lastes inn på samme måte som den andre csv-filen.\n",
    "\n",
    "Når csv-filen er lastet inn som et pandas-datasett, kan vi koble denne tabellen med nøkkelen \"ID\" (bygningid)."
   ]
  },
  {
   "cell_type": "code",
   "execution_count": null,
   "id": "202a5364-64fd-4144-8a42-75b261c4307c",
   "metadata": {},
   "outputs": [],
   "source": [
    "byggdato = pd.read_csv(\"byggdato_kongsvinger.csv\")\n",
    "koblet = bygg.merge(byggdato)\n",
    "#Merk at den skjønner hvilken variabel som er koblingsnøkkel automatisk\n",
    "koblet"
   ]
  },
  {
   "cell_type": "markdown",
   "id": "dea85210-e61d-4d7c-8ae4-26b539ac0dda",
   "metadata": {},
   "source": [
    "#### 10) Lag et histogram av bruksareal i tabellen\n",
    "Da må vi først importere en ny pakke, hvor plotly_express er et ypperlig alternativ. For et mer informativt histogram, kan det også være fint å fargelegge histogrammet basert på bygningstype. "
   ]
  },
  {
   "cell_type": "code",
   "execution_count": null,
   "id": "1ecad2ce-77d8-4b10-b4fd-1d90a3e03e7d",
   "metadata": {},
   "outputs": [],
   "source": [
    "import plotly.express as px\n",
    "\n",
    "px.histogram(bygg, x=\"BRUKSAREAL_TOTALT\", color=\"BYGNINGSTYPE\")"
   ]
  },
  {
   "cell_type": "code",
   "execution_count": null,
   "id": "813f8f20-54f3-4a5f-a751-eb3057453215",
   "metadata": {},
   "outputs": [],
   "source": []
  }
 ],
 "metadata": {
  "language_info": {
   "codemirror_mode": {
    "name": "ipython"
   },
   "file_extension": ".py",
   "mimetype": "text/x-python",
   "name": "python",
   "nbconvert_exporter": "python"
  }
 },
 "nbformat": 4,
 "nbformat_minor": 5
}
