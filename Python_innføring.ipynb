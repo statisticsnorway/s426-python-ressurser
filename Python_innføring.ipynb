{
 "cells": [
  {
   "cell_type": "markdown",
   "id": "b70355d6-2436-4243-9839-2d0cc96d5507",
   "metadata": {
    "tags": []
   },
   "source": [
    "<a id='toppen'></a>\n",
    "# Python innføring"
   ]
  },
  {
   "cell_type": "markdown",
   "id": "9fd99084-b5ae-4e89-84c2-27815b5532f3",
   "metadata": {},
   "source": [
    "### Hvorfor Python?\n",
    "- Populært, aktive forum, massevis av funksjoner og utvikling\n",
    "- Lesbar og forståelig kode\n",
    "    - En liten morsomhet med \"import this\""
   ]
  },
  {
   "cell_type": "code",
   "execution_count": null,
   "id": "707d5cf6-3733-4357-ab0b-781fe03fac88",
   "metadata": {},
   "outputs": [],
   "source": [
    "import this"
   ]
  },
  {
   "cell_type": "markdown",
   "id": "0ac37c03-bdba-4659-b725-0a1d3c518448",
   "metadata": {},
   "source": [
    "### Hva er minimum for å komme igang med python for databehandling?\n",
    "- Brukergrensesnitt\n",
    "    - Jupyterlab\n",
    "- Biblioteker\n",
    "    - Pandas\n",
    "- Grunnleggende python syntax\n",
    "    - Opprette variabler\n",
    "    - Operatorer\n",
    "    - Python datatyper som brukes i pandas\n",
    "- Grunnleggende pandas\n",
    "    - Viktige funksjoner\n",
    "        - [Lagre datasett](#lagre_data)\n",
    "    - Lære å lese dokumentasjonen til pandas\n",
    "- [Lese feilmeldinger](#feilmeldinger)\n",
    "### For å kunne utnytte python bedre burde du se mer på\n",
    "- Normer for måten du skriver og setter opp kode\n",
    "    - Lær å skrive lettlest kode\n",
    "    - \"Pythonic\"\n",
    "        - https://peps.python.org/pep-0008/\n",
    "        - https://builtin.com/data-science/pythonic-code\n",
    "        - https://docs.python-guide.org/writing/style/\n",
    "- sette deg inn i de ulike datatypene sine bruksområder\n",
    "- Hvordan du skriver funksjoner\n",
    "    - Hva er funksjoner?\n",
    "    - Hvorfor bruke funksjoner?\n",
    "    - Nyttige tips\n",
    "- Hvordan du bruker loops\n",
    "    - Hva er loops?\n",
    "    - Hvorfor bruke loops?\n",
    "    - Nyttige tips\n",
    "\n",
    "### [Tips for å lære](#tips)\n",
    "### [Kort om git og Github](#git)"
   ]
  },
  {
   "cell_type": "markdown",
   "id": "1b80e042-9a4c-49e7-bc1c-70bad80e9821",
   "metadata": {
    "tags": []
   },
   "source": [
    "## Brukergrensesnitt\n",
    "Python er et programmeringsspråk med mange ulike brukergrensesnitt. Koden er lik i alle, men de ulike grensesnittene har ulike støttefunksjoner.\n",
    "\n",
    "Brukergrensesnittene kalles gjerne for \"IDE\" (Integrated Development Environment)\n",
    "- Kan ses på som skriveprogram, mange ulike men er bare smak og behag\n",
    "- Jupyterlab er standard på dapla, men det skal være mulig å bruke andre også\n",
    "- IT kan nok bistå om man finner noe man ønsker å bruke\n",
    "#### Jupyterlab\n",
    "- Arbeid gjøres i notebooks, som denne.  \n",
    "- Notebooks består av celler som enten er tekst (markdown), kode eller raw.\n",
    "- Trenger bare tenke på markdown og kode\n",
    "    - Raw har en nytte for mer avansert bruk\n",
    "- Celler kjøres enkeltvis, som om du markerer kode og kjører det i SAS.  \n",
    "- Du kan få innhold vist ved å kjøre en celle med det du vil inspisere alene/nederst i cellen."
   ]
  },
  {
   "cell_type": "markdown",
   "id": "629ff60a-6375-40a7-b708-ce17f7516d17",
   "metadata": {
    "tags": []
   },
   "source": [
    "## Biblioteker\n",
    "\n",
    "Et bibliotek i python er en samling av gjenbrukbar kode som man kan hente inn og bruke i egne program.\n",
    "Det sparer deg for å skrive alt fra scratch og gir rask tilgang til mye funksjonalitet.\n",
    "\n",
    "Antatt at biblioteket er installert kan du hente det inn ved å skrive:\n",
    "\n",
    "> import navn_på_bibliotek  \n",
    "> import pandas as pd"
   ]
  },
  {
   "cell_type": "code",
   "execution_count": null,
   "id": "98687708-60fa-4de0-9701-ec1efe219d7e",
   "metadata": {},
   "outputs": [],
   "source": [
    "import numpy as np"
   ]
  },
  {
   "cell_type": "markdown",
   "id": "42ee549f-0bad-46f5-902f-9c4792b90390",
   "metadata": {},
   "source": [
    "# Grunnleggende Python syntax"
   ]
  },
  {
   "cell_type": "markdown",
   "id": "9291707d-ee3b-4ee7-aacd-2a5cba9cfd05",
   "metadata": {},
   "source": [
    "### Opprette variabler\n",
    "Du oppretter en variabel slik:"
   ]
  },
  {
   "cell_type": "code",
   "execution_count": null,
   "id": "590af4ad-fe76-43e8-b20d-1d95a089b871",
   "metadata": {},
   "outputs": [],
   "source": [
    "a = \"Hello\"\n",
    "A = \"world\""
   ]
  },
  {
   "cell_type": "markdown",
   "id": "3fd05fa0-91bd-4100-b580-2e3c24f1730e",
   "metadata": {},
   "source": [
    "Variabelnavn må starte med enten underscore eller en bokstav og er case sensitive\n",
    "\n",
    "print() kan brukes for å se hva en variabel inneholder. Man kan printe flere samtidig"
   ]
  },
  {
   "cell_type": "code",
   "execution_count": null,
   "id": "f42102ed-875f-47f0-909f-4c862ae9f153",
   "metadata": {},
   "outputs": [],
   "source": [
    "print(a)\n",
    "print(a, A)"
   ]
  },
  {
   "cell_type": "markdown",
   "id": "c764ba3b-def9-488d-bf3c-55679b8e14a1",
   "metadata": {},
   "source": [
    "### Operatorer"
   ]
  },
  {
   "cell_type": "markdown",
   "id": "0dfb9962-dcb9-41d4-aff1-a7744278d228",
   "metadata": {},
   "source": [
    "#### Aritmetikk"
   ]
  },
  {
   "cell_type": "code",
   "execution_count": null,
   "id": "e4ccdce2-72e4-4371-8152-723ee4ae11af",
   "metadata": {},
   "outputs": [],
   "source": [
    "1 + 1"
   ]
  },
  {
   "cell_type": "code",
   "execution_count": null,
   "id": "4a20be7b-fa05-4e16-b956-baf645bf9c25",
   "metadata": {},
   "outputs": [],
   "source": [
    "1 - 1"
   ]
  },
  {
   "cell_type": "code",
   "execution_count": null,
   "id": "c3a362bb-4721-4ca0-872d-db5ba0b57ed2",
   "metadata": {},
   "outputs": [],
   "source": [
    "2 * 2"
   ]
  },
  {
   "cell_type": "code",
   "execution_count": null,
   "id": "9a0769c9-1778-4a66-91d2-e0e9021f0c37",
   "metadata": {},
   "outputs": [],
   "source": [
    "2 / 2"
   ]
  },
  {
   "cell_type": "code",
   "execution_count": null,
   "id": "46b8b8b2-309f-4059-afb8-5ebf8e2c8546",
   "metadata": {},
   "outputs": [],
   "source": [
    "10%11"
   ]
  },
  {
   "cell_type": "code",
   "execution_count": null,
   "id": "54fd84d3-7a6c-4dd4-8912-4586c0d053a8",
   "metadata": {},
   "outputs": [],
   "source": [
    "5 ** 2"
   ]
  },
  {
   "cell_type": "code",
   "execution_count": null,
   "id": "e61eddff-0aae-4526-b0ce-99b4f12b23b6",
   "metadata": {},
   "outputs": [],
   "source": [
    "100 // 3"
   ]
  },
  {
   "cell_type": "markdown",
   "id": "60cb7ac1-9c44-4174-b836-3cae286d43df",
   "metadata": {},
   "source": [
    "#### Tildeling"
   ]
  },
  {
   "cell_type": "code",
   "execution_count": null,
   "id": "d034378b-78f3-47a7-a611-19e6323af87d",
   "metadata": {},
   "outputs": [],
   "source": [
    "a = 15\n",
    "a"
   ]
  },
  {
   "cell_type": "code",
   "execution_count": null,
   "id": "2c9e7052-abcd-4510-8685-ee9d30bf4368",
   "metadata": {},
   "outputs": [],
   "source": [
    "a += 5\n",
    "a"
   ]
  },
  {
   "cell_type": "code",
   "execution_count": null,
   "id": "bbf97362-576e-4c5f-8687-a065fbc2777a",
   "metadata": {},
   "outputs": [],
   "source": [
    "a -= 10\n",
    "a"
   ]
  },
  {
   "cell_type": "code",
   "execution_count": null,
   "id": "a8bf9f80-6595-489c-af8c-729305dc6ebe",
   "metadata": {},
   "outputs": [],
   "source": [
    "a *= 3\n",
    "a"
   ]
  },
  {
   "cell_type": "code",
   "execution_count": null,
   "id": "e23d08c0-a20d-4948-b45a-b41ec26e0a0e",
   "metadata": {},
   "outputs": [],
   "source": [
    "a /= 2\n",
    "a"
   ]
  },
  {
   "cell_type": "raw",
   "id": "507bf609-3077-497e-91d3-d267117558e7",
   "metadata": {},
   "source": [
    "%="
   ]
  },
  {
   "cell_type": "raw",
   "id": "0b74c427-d2c8-48aa-8a28-11aa876dca29",
   "metadata": {},
   "source": [
    "//="
   ]
  },
  {
   "cell_type": "raw",
   "id": "416b1b5a-e1c3-43d3-9269-2139eb695ca9",
   "metadata": {},
   "source": [
    "**="
   ]
  },
  {
   "cell_type": "raw",
   "id": "6f2d02c0-c6d5-4341-b3bd-8e6822639793",
   "metadata": {},
   "source": [
    "&="
   ]
  },
  {
   "cell_type": "raw",
   "id": "7f0c54e0-2603-4741-bcbc-7e12e7e8c32f",
   "metadata": {},
   "source": [
    "|="
   ]
  },
  {
   "cell_type": "raw",
   "id": "c80c662a-0cf6-43b4-8538-358c1550e108",
   "metadata": {},
   "source": [
    "^="
   ]
  },
  {
   "cell_type": "raw",
   "id": "15254506-d1de-4a20-bb8c-118dd19a8d86",
   "metadata": {},
   "source": [
    ">>="
   ]
  },
  {
   "cell_type": "raw",
   "id": "b06b6820-1765-4dc6-910d-c4f8035d3d1d",
   "metadata": {},
   "source": [
    "<<="
   ]
  },
  {
   "cell_type": "markdown",
   "id": "33c9eadd-98a5-4539-a8c4-28be2a09c447",
   "metadata": {},
   "source": [
    "#### Sammenligning"
   ]
  },
  {
   "cell_type": "code",
   "execution_count": null,
   "id": "65e2c1a6-75ad-4c31-8e59-0156094e5247",
   "metadata": {},
   "outputs": [],
   "source": [
    "5 == 10"
   ]
  },
  {
   "cell_type": "code",
   "execution_count": null,
   "id": "b63745b0-a52b-4346-aec2-bd9ba966d992",
   "metadata": {},
   "outputs": [],
   "source": [
    "5 != 10"
   ]
  },
  {
   "cell_type": "code",
   "execution_count": null,
   "id": "06443ebc-cbc6-420f-b377-ff2489796be5",
   "metadata": {},
   "outputs": [],
   "source": [
    "5 < 10"
   ]
  },
  {
   "cell_type": "code",
   "execution_count": null,
   "id": "beb07666-5e06-4bf9-a97f-f06c34c8574a",
   "metadata": {},
   "outputs": [],
   "source": [
    "5 > 10"
   ]
  },
  {
   "cell_type": "markdown",
   "id": "0b657364-8369-48ba-a3cb-78117ca424f6",
   "metadata": {
    "jp-MarkdownHeadingCollapsed": true,
    "tags": []
   },
   "source": [
    "#### Logiske"
   ]
  },
  {
   "cell_type": "code",
   "execution_count": null,
   "id": "5aa1f64d-ac05-4c43-8a70-d6a3958b7082",
   "metadata": {},
   "outputs": [],
   "source": [
    "a = 7\n",
    "b = 5\n",
    "c = 3"
   ]
  },
  {
   "cell_type": "code",
   "execution_count": null,
   "id": "175a9d0d-965b-4091-9cb6-fde22106f1ff",
   "metadata": {},
   "outputs": [],
   "source": [
    "a > 6"
   ]
  },
  {
   "cell_type": "code",
   "execution_count": null,
   "id": "26a846da-f9a8-4c71-999e-921e313e8cc7",
   "metadata": {},
   "outputs": [],
   "source": [
    "not(a > 6)"
   ]
  },
  {
   "cell_type": "code",
   "execution_count": null,
   "id": "cd5acda2-2fd8-47bc-9096-87223bc2869e",
   "metadata": {},
   "outputs": [],
   "source": [
    "a > 6 and b > 6"
   ]
  },
  {
   "cell_type": "code",
   "execution_count": null,
   "id": "acdf5035-26bf-400e-964d-2725f08f0d49",
   "metadata": {},
   "outputs": [],
   "source": [
    "a > 6 or b > 6"
   ]
  },
  {
   "cell_type": "code",
   "execution_count": null,
   "id": "ad902331-f492-435b-90f4-139816fbb4c3",
   "metadata": {},
   "outputs": [],
   "source": [
    "a != b or a == c"
   ]
  },
  {
   "cell_type": "code",
   "execution_count": null,
   "id": "9f60cab9-5d63-49d4-a9c6-a8dfb5c10159",
   "metadata": {},
   "outputs": [],
   "source": [
    "a != b and a == c"
   ]
  },
  {
   "cell_type": "markdown",
   "id": "5204b92c-a735-4cdb-b3b4-a18bae91b24f",
   "metadata": {
    "tags": []
   },
   "source": [
    "#### Tilhørighet"
   ]
  },
  {
   "cell_type": "code",
   "execution_count": null,
   "id": "a5600f1f-95d0-4b5d-be69-317d30ad7294",
   "metadata": {},
   "outputs": [],
   "source": [
    "a = [1, 2, 3, 4, 5]\n",
    "b = 2"
   ]
  },
  {
   "cell_type": "code",
   "execution_count": null,
   "id": "9b2990d3-72d7-4efa-9859-f3a022820dc0",
   "metadata": {},
   "outputs": [],
   "source": [
    "b in a"
   ]
  },
  {
   "cell_type": "code",
   "execution_count": null,
   "id": "6e265804-6d18-4cd2-a6b0-2557db219c90",
   "metadata": {},
   "outputs": [],
   "source": [
    "b not in a"
   ]
  },
  {
   "cell_type": "markdown",
   "id": "035dacc6-a20c-4919-af03-3935a3924f89",
   "metadata": {
    "jp-MarkdownHeadingCollapsed": true,
    "tags": []
   },
   "source": [
    "#### Identitet\n",
    "Sjekker om noe er nøyaktig samme objekt. Ikke om objektene er like, men om de er *nøyaktig* det samme. Om objektene er lagret på samme sted i datamaskinen sitt minne.  \n",
    "Sjelden nødvendig for databehandling.  \n",
    "Kan brukes for å sjekke om du med et uhell har gjort at to objekter er det samme, som potensielt kan skape noen litt rare problemer."
   ]
  },
  {
   "cell_type": "code",
   "execution_count": null,
   "id": "6accce3d-99a0-4288-9f73-56ac0dae70a1",
   "metadata": {},
   "outputs": [],
   "source": [
    "a = \"Eksempel på noe\"\n",
    "b = \"Eksempel på noe\"\n",
    "c = a"
   ]
  },
  {
   "cell_type": "code",
   "execution_count": null,
   "id": "7174715c-5382-4df6-b8e6-0add84cb9bc2",
   "metadata": {},
   "outputs": [],
   "source": [
    "a is a"
   ]
  },
  {
   "cell_type": "code",
   "execution_count": null,
   "id": "8d93bff7-76c9-4d57-bc69-8712b85e2c42",
   "metadata": {},
   "outputs": [],
   "source": [
    "a is b"
   ]
  },
  {
   "cell_type": "code",
   "execution_count": null,
   "id": "97c95a52-fc10-467f-acd3-1239efbd6af2",
   "metadata": {},
   "outputs": [],
   "source": [
    "a == b"
   ]
  },
  {
   "cell_type": "code",
   "execution_count": null,
   "id": "c5506471-3164-4e70-83be-9bc00d6bfe9d",
   "metadata": {},
   "outputs": [],
   "source": [
    "a is c"
   ]
  },
  {
   "cell_type": "code",
   "execution_count": null,
   "id": "41cbba84-842c-4276-b430-d3c9c5d1447e",
   "metadata": {},
   "outputs": [],
   "source": [
    "b is c"
   ]
  },
  {
   "cell_type": "code",
   "execution_count": null,
   "id": "351e8d29-8c17-4b0b-b0aa-21dc2f73298e",
   "metadata": {},
   "outputs": [],
   "source": [
    "a is not b"
   ]
  },
  {
   "cell_type": "code",
   "execution_count": null,
   "id": "8f35092a-4eb8-46a0-a4bd-d6cf29d3b6ea",
   "metadata": {},
   "outputs": [],
   "source": [
    "a is not c"
   ]
  },
  {
   "cell_type": "markdown",
   "id": "85511223-0e93-46d4-bc0f-5392c995d89c",
   "metadata": {},
   "source": [
    "## Datatyper som brukes i pandas\n",
    "For å bruke funksjonalitet i pandas må man gi informasjon til funksjonene i riktig format.  \n",
    "Dette gjøres vanligvis med datatypene string, list eller dict, det er derfor nødvendig å vite hvordan de skrives."
   ]
  },
  {
   "cell_type": "markdown",
   "id": "8bf7cb93-6177-4794-8768-696b6af0be75",
   "metadata": {},
   "source": [
    "#### string"
   ]
  },
  {
   "cell_type": "code",
   "execution_count": null,
   "id": "a338731b-be04-4538-8cbc-6aa27aa06603",
   "metadata": {},
   "outputs": [],
   "source": [
    "string = \"Dette er en string\"\n",
    "print(string)"
   ]
  },
  {
   "cell_type": "markdown",
   "id": "c052436e-7eeb-4aa7-8e4d-165f3323fd2b",
   "metadata": {},
   "source": [
    "#### list\n",
    "OBS! Python teller fra 0, så en liste med 4 verdier har index-verdiene 0,1,2,3.  \n",
    "Fort gjort å med et uhell gjør noe 1 gang for mye eller for lite pga. dette."
   ]
  },
  {
   "cell_type": "code",
   "execution_count": null,
   "id": "3a4abb96-ed19-4348-92d5-267408b989dc",
   "metadata": {},
   "outputs": [],
   "source": [
    "liste = [\"a\", \"b\", \"1\", 2]"
   ]
  },
  {
   "cell_type": "markdown",
   "id": "528a3f5e-a563-4c19-8a3a-7f2ead47c0ab",
   "metadata": {},
   "source": [
    "#### dictionary\n",
    "En dictionary i Python brukes for å lagre data med par av \"nøkkel: verdi\".  \n",
    "Du kan bruke en dictionary for å koble kolonnenavn til datatypen som lagres i kolonnen.  \n",
    ">\"Organisasjonsnummer\": \"String\"\n",
    "\n",
    "Eksemplene nedenfor er to måter å skrive samme dictionary.  \n",
    "Vil si at eksempel 2 er lettest å lese."
   ]
  },
  {
   "cell_type": "code",
   "execution_count": null,
   "id": "51a515f0-713e-4d26-88a1-db1ba2582377",
   "metadata": {},
   "outputs": [],
   "source": [
    "dictionary = {\"Dyr\": \"Sau\", \"Grønnsak\": \"Purre\", \"Bær\": \"Jordbær\"}\n",
    "\n",
    "dictionary = {\n",
    "    \"Dyr\": \"Sau\",\n",
    "    \"Grønnsak\": \"Purre\",\n",
    "    \"Bær\": \"Jordbær\"\n",
    "}\n",
    "\n",
    "print(dictionary[\"Dyr\"])"
   ]
  },
  {
   "cell_type": "markdown",
   "id": "a044cdaa-f8c0-4060-a670-775ed4f514c2",
   "metadata": {},
   "source": [
    "# Pandas\n",
    "\n",
    "Pandas er bygd \"oppå\" et annet bibliotek som heter Numpy, men man kommer langt med å kun lære seg pandas.\n",
    "\n",
    "Dokumentasjonen er stort sett forståelig og inneholder eksempler på bruk, det er også en veiledning som kan være til hjelp:\n",
    "\n",
    "> https://pandas.pydata.org/pandas-docs/stable/getting_started/intro_tutorials/index.html\n",
    "\n",
    "Ikke bare SSB som går fra SAS til python, det er en egen side i Pandas sin dokumentasjon som viser sammenligning mellom Pandas og SAS:\n",
    "\n",
    "> https://pandas.pydata.org/pandas-docs/stable/getting_started/comparison/comparison_with_sas.html\n",
    "\n",
    "#### Litt terminologi\n",
    "Det meste du gjør i Pandas bruker funksjoner.  \n",
    "Når man i python bruker en funksjon så heter det å \"kalle\" på funksjonen.  \n",
    "Når du kaller på en funksjon gir du den \"argumenter\". Argumenter er informasjon som gis til funksjonen."
   ]
  },
  {
   "cell_type": "code",
   "execution_count": null,
   "id": "34b23b46-6883-4dd6-b6c7-375d0020f88f",
   "metadata": {},
   "outputs": [],
   "source": [
    "# Konvensjonen er å laste inn pandas med aliaset \"pd\".\n",
    "import pandas as pd"
   ]
  },
  {
   "cell_type": "markdown",
   "id": "119fdd96-8d97-4e49-a519-6323e6f71c5d",
   "metadata": {},
   "source": [
    "## Hvordan bruke pandas?\n",
    "\n",
    "Laster først inn et testdatasett som finnes i Plotly biblioteket"
   ]
  },
  {
   "cell_type": "code",
   "execution_count": null,
   "id": "ff5494a2-02f6-4129-aed9-05abb2cb2a22",
   "metadata": {
    "tags": []
   },
   "outputs": [],
   "source": [
    "import plotly.express as px  # Plotly er et bibliotek for visualisering\n",
    "# Det inneholder også flere innebygde datasett som kan brukes for å øve\n",
    "# derfor jeg laster det inn her\n",
    "# Flere datasett finnes her: https://plotly.com/python-api-reference/generated/plotly.express.data.html\n",
    "df = px.data.tips()"
   ]
  },
  {
   "cell_type": "code",
   "execution_count": null,
   "id": "76f16ab5-6100-4f7b-9315-30a3f29cc936",
   "metadata": {},
   "outputs": [],
   "source": [
    "# .head(x) viser de x øverste radene i datasettet. Er det ingen tall satt inn er standardargumentet 5\n",
    "\n",
    "df.head()"
   ]
  },
  {
   "cell_type": "code",
   "execution_count": null,
   "id": "eb8f9933-e147-422d-b6bb-fd56968831d2",
   "metadata": {},
   "outputs": [],
   "source": [
    "df.head(2)"
   ]
  },
  {
   "cell_type": "markdown",
   "id": "c812a48f-b312-48de-ac4f-4c347cb9c710",
   "metadata": {},
   "source": [
    "### Sortere data"
   ]
  },
  {
   "cell_type": "code",
   "execution_count": null,
   "id": "04da14fa-c38e-48b1-ad65-f2bca6891930",
   "metadata": {},
   "outputs": [],
   "source": [
    "df.sort_values(by = \"total_bill\")"
   ]
  },
  {
   "cell_type": "code",
   "execution_count": null,
   "id": "d52e1c2a-d65e-4599-96d7-97485987ac77",
   "metadata": {},
   "outputs": [],
   "source": [
    "df.sort_values(by = \"total_bill\", ascending = False)"
   ]
  },
  {
   "cell_type": "markdown",
   "id": "5d86edd5-f8ed-481c-b16c-a96055981802",
   "metadata": {},
   "source": [
    "Noe som kan være mystisk i starten er hvorfor noen endringer man gjør på dataene blir værende, mens andre endringer forsvinner.  \n",
    "Forklaringen på dette er måten Python behandler objekter (som dataframes) og måten funksjoner fungerer.\n",
    "\n",
    "Noen funksjoner og operasjoner vil modifisere objektet direkte, vanligvis er det god praksis å eksplisitt skrive = uansett for lesbarheten sin skyld.\n",
    "\n",
    "De fleste funksjoner tar imot en input, og returnerer en output.  \n",
    "For eksempel vil koden nedenfor returnere en filtrert dataframe med kun røykere som output ved å bruke .loc funksjonen  \n",
    "Men siden denne outputen ikke lagres til en variabel, så vil ikke outputen lagres på noen måte  \n",
    "For å lagre det så må du si at en variabel = den filtrerte dataframen"
   ]
  },
  {
   "cell_type": "markdown",
   "id": "2a2a803e-b5f8-48c5-8453-991411832b32",
   "metadata": {},
   "source": [
    "### filtrere datasett"
   ]
  },
  {
   "cell_type": "code",
   "execution_count": null,
   "id": "de46434f-dd3a-493e-9bb7-18e6dedb9ff6",
   "metadata": {},
   "outputs": [],
   "source": [
    "df.loc[df[\"smoker\"] == \"Yes\"]  # Denne lagres ikke til noe"
   ]
  },
  {
   "cell_type": "code",
   "execution_count": null,
   "id": "ceb0f662-79b8-4c84-ad5f-79448a0d24c9",
   "metadata": {},
   "outputs": [],
   "source": [
    "df = df.loc[df[\"smoker\"] == \"Yes\"]  # Denne lagres som objektet dff\n",
    "df"
   ]
  },
  {
   "cell_type": "code",
   "execution_count": null,
   "id": "10d74442-6651-4a72-8577-59ddbe753483",
   "metadata": {},
   "outputs": [],
   "source": [
    "df = px.data.tips()\n",
    "df.head(1)"
   ]
  },
  {
   "cell_type": "markdown",
   "id": "74540073-b783-473a-aae7-dc68a17a6f0d",
   "metadata": {},
   "source": [
    "### Velge ut spesifikke kolonner"
   ]
  },
  {
   "cell_type": "code",
   "execution_count": null,
   "id": "baae9a1a-c62d-4aaa-8f2c-e6c967418742",
   "metadata": {},
   "outputs": [],
   "source": [
    "# Nedenfor er eksempel på å velge ut kun de kolonnene man ønsker for å forkorte datasett/bare ta med aktuelle kolonner videre. Begge eksemplene oppnår det samme resultatet\n",
    "\n",
    "# Eksempel 1\n",
    "dff = df[[\"sex\", \"day\", \"total_bill\", \"tip\"]]\n",
    "\n",
    "# Eksempel 2\n",
    "liste = [\"sex\", \"day\", \"total_bill\", \"tip\"]\n",
    "dff = df[liste]\n",
    "\n",
    "dff"
   ]
  },
  {
   "cell_type": "markdown",
   "id": "3f56a716-73a2-42b8-a4d4-db0e78872dc5",
   "metadata": {},
   "source": [
    "### Opprette ny kolonne"
   ]
  },
  {
   "cell_type": "code",
   "execution_count": null,
   "id": "dd721a3b-a206-474b-bcd7-2e6b9495946b",
   "metadata": {},
   "outputs": [],
   "source": [
    "# Opprette en ny kolonne med fast verdi\n",
    "df[\"kommunenr\"] = \"0301\""
   ]
  },
  {
   "cell_type": "code",
   "execution_count": null,
   "id": "afab5b2d-0be7-443e-b709-37cd89e77821",
   "metadata": {},
   "outputs": [],
   "source": [
    "df.head(1)"
   ]
  },
  {
   "cell_type": "markdown",
   "id": "5767c1bf-5034-436b-8a11-19864c9ac142",
   "metadata": {},
   "source": [
    "### Substring til ny kolonne"
   ]
  },
  {
   "cell_type": "code",
   "execution_count": null,
   "id": "5a4e998a",
   "metadata": {},
   "outputs": [],
   "source": [
    "# Hente ut en substring\n",
    "# Eksempel. Henter ut fylkesnummer fra kommunenummer\n",
    "\n",
    "df[\"fylkenr\"] = df[\"kommunenr\"].str[:2] # .str gjør verdien om til string\n",
    "                                        #  [:2] tar vare på de 2 første tegnene"
   ]
  },
  {
   "cell_type": "code",
   "execution_count": null,
   "id": "49f02ed1-89ce-4fc2-9d8e-7aec6ef581da",
   "metadata": {},
   "outputs": [],
   "source": [
    "df.head(1)"
   ]
  },
  {
   "cell_type": "markdown",
   "id": "13edc04b-f8c4-40f2-b242-b1a940494aa7",
   "metadata": {
    "tags": []
   },
   "source": [
    "### Opprette kolonner med .loc\n",
    "Anbefaler å bruke .loc til å opprette nye kolonner hvor verdi avhenger av andre kolonner"
   ]
  },
  {
   "cell_type": "code",
   "execution_count": null,
   "id": "d98bbad6-fd13-4ab5-b04d-0cc03980de29",
   "metadata": {},
   "outputs": [],
   "source": [
    "# Endre kolonneverdi basert på andre kolonneverdier\n",
    "df[\"gruppe\"] = False\n",
    "df.loc[df[\"size\"] > 2, \"gruppe\"] = True"
   ]
  },
  {
   "cell_type": "code",
   "execution_count": null,
   "id": "5f10b426-b7c7-47d6-bfdf-7dfd7c5951cc",
   "metadata": {},
   "outputs": [],
   "source": [
    "df.head(5)"
   ]
  },
  {
   "cell_type": "code",
   "execution_count": null,
   "id": "dcb46d22-d477-461f-8a4b-7f654c624e84",
   "metadata": {},
   "outputs": [],
   "source": [
    "# loc med en liste av aksepterte verdier\n",
    "df.loc[df[\"day\"].isin([\"Sat\", \"Sun\"]), \"helg\"] = True"
   ]
  },
  {
   "cell_type": "code",
   "execution_count": null,
   "id": "87b0fa82-ced4-4016-8630-06679f76368f",
   "metadata": {},
   "outputs": [],
   "source": [
    "# loc basert på to betingelser\n",
    "df.loc[\n",
    "    (df[\"total_bill\"] > 10) &\n",
    "    (df[\"total_bill\"] < 20), \"bill 10-20\"] = 1 # Når det er flere conditions må hver av de være i () med & mellom "
   ]
  },
  {
   "cell_type": "markdown",
   "id": "6652549f-b27d-4fe3-ac60-e0932f8b18b8",
   "metadata": {},
   "source": [
    "#### Endre datatype\n",
    "Eksempel, gjøre size om til en string"
   ]
  },
  {
   "cell_type": "code",
   "execution_count": null,
   "id": "ee5e8571-394b-453e-bfc4-6af002db08de",
   "metadata": {},
   "outputs": [],
   "source": [
    "df.dtypes"
   ]
  },
  {
   "cell_type": "code",
   "execution_count": null,
   "id": "31f6dd6c-4793-43d7-a735-c481714c3102",
   "metadata": {},
   "outputs": [],
   "source": [
    "df[\"size\"] = df[\"size\"].astype(\"string\")"
   ]
  },
  {
   "cell_type": "code",
   "execution_count": null,
   "id": "e3ae73ad-e499-423b-b8e3-19835d0defa6",
   "metadata": {},
   "outputs": [],
   "source": [
    "df.dtypes"
   ]
  },
  {
   "cell_type": "markdown",
   "id": "d44011a8-e2c9-476b-b16b-fdc68ee5d8c0",
   "metadata": {
    "tags": []
   },
   "source": [
    "### Gruppering og aggregering"
   ]
  },
  {
   "cell_type": "code",
   "execution_count": null,
   "id": "ad1a502d-5c5d-45ee-98cf-24b181d86d3f",
   "metadata": {},
   "outputs": [],
   "source": [
    "# Summere flere kolonner radvis\n",
    "column_names = ['total_bill', 'tip']\n",
    "df['bill+tip']= df[column_names].sum(axis=1)\n",
    "df.head()"
   ]
  },
  {
   "cell_type": "code",
   "execution_count": null,
   "id": "f01edc0e-6aed-479e-becc-fe904793c6c3",
   "metadata": {},
   "outputs": [],
   "source": [
    "# Enkel summering med 1 nivå\n",
    "\n",
    "# OBS! Legg merke til at koden nedenfor foretar 2 steg.\n",
    "# Først grupperes dataene, deretter summeres kolonnene.\n",
    "\n",
    "df.groupby(\"sex\").sum()"
   ]
  },
  {
   "cell_type": "code",
   "execution_count": null,
   "id": "b98a96f6-7d48-4edd-969a-eadfd7353f93",
   "metadata": {},
   "outputs": [],
   "source": [
    "# Enkel summering med 2 nivå\n",
    "df.groupby([\"day\", \"sex\"]).sum()"
   ]
  },
  {
   "cell_type": "code",
   "execution_count": null,
   "id": "11299297-468b-4c8e-b4b9-76d770d54595",
   "metadata": {},
   "outputs": [],
   "source": [
    "# Mer skreddersydd aggregering med egendefinert aggregeringsmetode per kolonne\n",
    "df.groupby([\"day\", \"sex\"]).agg({\"total_bill\": \"mean\", \"tip\": \"mean\", \"size\": \"count\", \"bill+tip\": \"sum\"})\n",
    "\n",
    "# Merk at med .agg metoden får man kun ut de kolonnene som man definerer en metode for"
   ]
  },
  {
   "cell_type": "code",
   "execution_count": null,
   "id": "9693f7be-63e0-464d-a86d-c91009e4ff1b",
   "metadata": {},
   "outputs": [],
   "source": [
    "# Gruppere opp til dagsnivå fra aggregering med to nivåer\n",
    "eksempel = {\n",
    "    \"total_bill\": \"sum\",\n",
    "    \"tip\": \"sum\",\n",
    "    \"size\": \"count\",\n",
    "    \"bill+tip\": \"sum\"\n",
    "}\n",
    "df.groupby([\"day\", \"sex\"]).agg(eksempel)"
   ]
  },
  {
   "cell_type": "markdown",
   "id": "b9083324-e152-4411-b257-14a4c39e4813",
   "metadata": {},
   "source": [
    "#### En veldig nyttig funksjon å vite om når man aggregerer: reset_index()\n",
    "\"Skyver\" indexen ut til å bli vanlige kolonner igjen. Kan iblant være nyttig om man summerer data men vil ha det som en vanlig dataframe for å jobbe videre med det."
   ]
  },
  {
   "cell_type": "code",
   "execution_count": null,
   "id": "5eaf33e6-3d7f-47f8-9295-094c97664a2d",
   "metadata": {},
   "outputs": [],
   "source": [
    "df.groupby([\"day\", \"sex\"]).sum()"
   ]
  },
  {
   "cell_type": "code",
   "execution_count": null,
   "id": "0e1ad158-9819-4ec4-b863-610033a1782f",
   "metadata": {},
   "outputs": [],
   "source": [
    "df.groupby([\"day\", \"sex\"]).sum().reset_index()"
   ]
  },
  {
   "cell_type": "markdown",
   "id": "7b008eb3-5fb5-43d6-a2c2-adaefa2308a8",
   "metadata": {},
   "source": [
    "### Endre kolonneverdier\n",
    ".replace brukes for å erstatte kolonneverdier med nye verdier. Tar imot f.eks. et dict med {\"tidligere navn\": \"nytt navn\",} par"
   ]
  },
  {
   "cell_type": "code",
   "execution_count": null,
   "id": "471ad9cd-5876-49c4-8997-382a8db5da6d",
   "metadata": {},
   "outputs": [],
   "source": [
    "# Eksempel med fylkenr til fylkenavn\n",
    "df[\"fylke\"] = df[\"fylkenr\"].replace({ # Samme logikk for å Lage ny kolonne med fullt fylkesnavn\n",
    "    '03': '03 Oslo',\n",
    "    '11': '11 Rogaland',\n",
    "    '15': '15 Møre og Romsdal',\n",
    "    '18': '18 Nordland',\n",
    "    '30': '30 Viken',\n",
    "    '34': '34 Innlandet',\n",
    "    '38': '38 Vestfold og Telemark',\n",
    "    '42': '42 Agder',\n",
    "    '46': '46 Vestland',\n",
    "    '50': '50 Trøndelag',\n",
    "    '54': '54 Troms og Finnmark'\n",
    "})\n",
    "df.head()"
   ]
  },
  {
   "cell_type": "markdown",
   "id": "98ee8654-c2e7-47ef-a82d-0ce6ef863937",
   "metadata": {},
   "source": [
    "### Koble datasett"
   ]
  },
  {
   "cell_type": "code",
   "execution_count": null,
   "id": "b3458288-73a5-4956-b57e-865095046783",
   "metadata": {},
   "outputs": [],
   "source": [
    "df_a = pd.DataFrame(\n",
    "    {\n",
    "        \"key\": [\"K0\", \"K1\", \"K2\", \"K3\"],\n",
    "        \"A\": [\"A0\", \"A1\", \"A2\", \"A3\"],\n",
    "        \"B\": [\"B0\", \"B1\", \"B2\", \"B3\"],\n",
    "    }\n",
    ")\n",
    "df_a"
   ]
  },
  {
   "cell_type": "code",
   "execution_count": null,
   "id": "8f1518b5-60db-45da-afe9-6054aa187f7e",
   "metadata": {},
   "outputs": [],
   "source": [
    "df_b = pd.DataFrame(\n",
    "    {\n",
    "        \"key\": [\"K0\", \"K1\", \"K2\", \"K3\"],\n",
    "        \"C\": [\"C0\", \"C1\", \"C2\", \"C3\"],\n",
    "        \"D\": [\"D0\", \"D1\", \"D2\", \"D3\"],\n",
    "    }\n",
    ")\n",
    "df_b"
   ]
  },
  {
   "cell_type": "code",
   "execution_count": null,
   "id": "c9517b66-f644-4222-aff9-d5fc63226d55",
   "metadata": {},
   "outputs": [],
   "source": [
    "pd.merge(df_a, df_b, on=\"key\")"
   ]
  },
  {
   "cell_type": "markdown",
   "id": "5ac21352-a150-4615-a243-4f473bdd8dde",
   "metadata": {},
   "source": [
    "<a id='standardinnstillinger'></a>\n",
    "### [En viktig detalj om Pandas, som også gjelder for Python generelt](#standardinnstillinger2)\n",
    "De aller fleste funksjoner man bruker i Python har mange valg som må gjøres for at den skal fungere, men de fleste valgene har en standard-verdi.  \n",
    "Merk at disse innstillingene kalles \"argumenter\" i Python.  \n",
    "Du kan finne dokumentasjonen som beskriver hva slags innstillinger som er tilgjengelige i en funksjon ved å høyreklikke i Jupyter Notebooken og klikke på \"Show Contextual Help\"  \n",
    "Contextual help kan også åpnes ved å holde inne CTRL og trykke på i\n",
    "\n",
    "Nedenfor er et eksempel med pandas.DataFrame.sum() med og uten alle innstillingene."
   ]
  },
  {
   "cell_type": "code",
   "execution_count": null,
   "id": "fb68d466-0b35-49bb-8907-f6661d917144",
   "metadata": {},
   "outputs": [],
   "source": [
    "df[\"total_bill\"].sum()"
   ]
  },
  {
   "cell_type": "code",
   "execution_count": null,
   "id": "f215d7aa-119f-41a3-ae6c-c9a80885d24a",
   "metadata": {},
   "outputs": [],
   "source": [
    "df[\"total_bill\"].sum(axis=None, skipna=True, level=None, numeric_only=None, min_count=0)"
   ]
  },
  {
   "cell_type": "markdown",
   "id": "1ca806e3-2d04-4c05-aa2b-e43629c6d17d",
   "metadata": {
    "tags": []
   },
   "source": [
    "#### Enkel deskriptiv statistikk"
   ]
  },
  {
   "cell_type": "code",
   "execution_count": null,
   "id": "fc165a7c-4209-4402-8f4f-76802fe70efa",
   "metadata": {},
   "outputs": [],
   "source": [
    "df.describe(include=\"all\")#.transpose()\n",
    "# Inkluderer alle for å vise mer enn bare numeriske kolonner\n",
    "# Merk at .transpose() kan brukes for å gjøre større dataframes lettere å lese"
   ]
  },
  {
   "cell_type": "code",
   "execution_count": null,
   "id": "24e6139a-b7e4-4169-a198-a7f57543ea34",
   "metadata": {},
   "outputs": [],
   "source": [
    "df[\"day\"].value_counts()"
   ]
  },
  {
   "cell_type": "markdown",
   "id": "7740236a-92af-49ad-88a7-862d3a80efb2",
   "metadata": {},
   "source": [
    "<a id='lagre_data'></a>\n",
    "### Lagre datasett\n",
    "Når du jobber med datasett i python lagres det på en måte som tilsvarer work.  \n",
    "Det lagres ikke med mindre du gir en eksplisitt beskjed til Python om at det skal lagres"
   ]
  },
  {
   "cell_type": "code",
   "execution_count": null,
   "id": "ae7379c2-0d0e-45b8-b03f-c25083ef3beb",
   "metadata": {},
   "outputs": [],
   "source": [
    "df.to_csv(\"Data/Output_data.csv\", index = False)"
   ]
  },
  {
   "cell_type": "code",
   "execution_count": null,
   "id": "a2a8574b-7b65-4b2c-8a0c-6d6c0db7d6bc",
   "metadata": {},
   "outputs": [],
   "source": [
    "del df  # Kan slette variabler, kan være greit om man starter å ha for mye \"aktivt\" i koden sin. Sjelden nødvendig.\n",
    "df"
   ]
  },
  {
   "cell_type": "markdown",
   "id": "511cc599-eef6-40ba-8705-43c6af5df4bb",
   "metadata": {},
   "source": [
    "Kan også lagres direkte til stammen med riktig filsti\n",
    "\n",
    "Eksempel:  \n",
    "/ssb/stamme02/jordbruk/sbkorn/wk2\n",
    "\n",
    "#### Datasettet kan leses inn igjen med:"
   ]
  },
  {
   "cell_type": "code",
   "execution_count": null,
   "id": "00e3c2ad-6db7-4f27-b178-7a81b6e13bdf",
   "metadata": {},
   "outputs": [],
   "source": [
    "df = pd.read_csv(\"Data/Output_data.csv\")"
   ]
  },
  {
   "cell_type": "code",
   "execution_count": null,
   "id": "877a7cae-ebfc-4f06-addc-773b52fa2288",
   "metadata": {},
   "outputs": [],
   "source": [
    "df"
   ]
  },
  {
   "cell_type": "markdown",
   "id": "17e449b5-22bf-4b74-8b43-524b342bbd7e",
   "metadata": {
    "tags": []
   },
   "source": [
    "#### Litt mer avansert måte man kan skrive filstier og strings er med formaterte strings og \"replacement fields\""
   ]
  },
  {
   "cell_type": "markdown",
   "id": "130c4417-9634-4a41-b69b-44cdff5bfd95",
   "metadata": {},
   "source": [
    "Har man en string skrevet med f\"stringens innhold\" så kan man sette inn erstatningsfelter (replacement fields).  \n",
    "Det ser da sånn her ut:  \n",
    "foo = \"stringens\"  \n",
    "f\"{foo} innhold\"  \n",
    "\n",
    "\"stringens innhold\" == f\"{foo} innhold\""
   ]
  },
  {
   "cell_type": "raw",
   "id": "b8a7d0e6-8884-4621-88ee-8f2069966ee4",
   "metadata": {},
   "source": [
    "korn_wk2 = f\"/ssb/stamme02/jordbruk/sbkorn/wk2\"\n",
    "\n",
    "df.to_csv(f\"{korn_wk2}/datasett.csv\")"
   ]
  },
  {
   "cell_type": "markdown",
   "id": "491b04b3-685e-4dc3-80cb-5a8d00e80135",
   "metadata": {},
   "source": [
    "<a id='feilmeldinger'></a>\n",
    "## [Tolke feilmeldinger, nyttig å lære](#toppen)\n",
    "Vanligvis burde feilmeldinger leses fra bunnen, den mest lettleste feilmeldingen står nederst."
   ]
  },
  {
   "cell_type": "code",
   "execution_count": null,
   "id": "d4091e9f-843c-4155-82ea-76c09cbe2831",
   "metadata": {},
   "outputs": [],
   "source": [
    "# \"Off by one\" feil. Du forventer at noe skal gjøres N ganger / være N langt, men det er N-1 eller N+1\n",
    "liste = [\"a\", \"b\", 1, 1]\n",
    "print(liste[4])"
   ]
  },
  {
   "cell_type": "code",
   "execution_count": null,
   "id": "41cc9218-4371-4b64-ae7d-e2967f5fb742",
   "metadata": {},
   "outputs": [],
   "source": [
    "dictionary = [\n",
    "    \"Dyr\": \"Sau\",\n",
    "    \"Grønnsak\": \"Purre\",\n",
    "    \"Bær\": \"Jordbær\"\n",
    "]"
   ]
  },
  {
   "cell_type": "code",
   "execution_count": null,
   "id": "f5058f20-afe2-410a-9377-470b5d7f8f51",
   "metadata": {},
   "outputs": [],
   "source": [
    "string = \"Hello world"
   ]
  },
  {
   "cell_type": "code",
   "execution_count": null,
   "id": "b179d35e-4cb8-461f-aa79-1960a30d38f9",
   "metadata": {},
   "outputs": [],
   "source": [
    "x = 5\n",
    "y = 4\n",
    "\n",
    "X + y"
   ]
  },
  {
   "cell_type": "code",
   "execution_count": null,
   "id": "32bb476a-93ad-4661-82f0-dcea67ce3cdf",
   "metadata": {},
   "outputs": [],
   "source": [
    "df = px.data.tips()\n",
    "df.astype(int)"
   ]
  },
  {
   "attachments": {
    "0c40a8b0-295d-480c-9bee-cf317147ff6b.png": {
     "image/png": "[encoded data removed]"
    }
   },
   "cell_type": "markdown",
   "id": "b7196147-1252-4258-85cd-9cb89b658249",
   "metadata": {
    "tags": []
   },
   "source": [
    "# Oppgaver\n",
    "For å finne oppgavene:  \n",
    "1: gå inn på byrånettet og klikk på \"{} Dapla\"-snarveien.  \n",
    "2: klikk på Git knappen  \n",
    "3: klikk på \"Clone a Repository\"  \n",
    "4: Lim inn lenken og trykk på \"Clone\"\n",
    "![git_clone.png](attachment:0c40a8b0-295d-480c-9bee-cf317147ff6b.png)"
   ]
  },
  {
   "cell_type": "markdown",
   "id": "ec0e702d-7eec-496a-97d7-527b8fe3c50f",
   "metadata": {},
   "source": [
    "# Det nedenfor blir ikke gjennomgått nå, men er tilgjengelig for de som er interessert"
   ]
  },
  {
   "cell_type": "markdown",
   "id": "77388f54-7179-4319-876d-1a5b45976796",
   "metadata": {},
   "source": [
    "## Visualiseringer\n",
    "Noen eksempler bruker bibliotekene (pakkene) seabornplot (sns) og plotly express (px)\n",
    "Det er mange biblioteker for datavisualisering, det er smak og behag hva man ønsker å bruke.  \n",
    "Noen lager interaktive figurer, andre lager bilder som er enkle å legge inn i rapporter."
   ]
  },
  {
   "cell_type": "code",
   "execution_count": null,
   "id": "a1c459d1-f8d1-4f6c-8e76-e933ed3e8b43",
   "metadata": {},
   "outputs": [],
   "source": [
    "import seaborn as sns\n",
    "sns.boxplot(x = \"day\", y = \"total_bill\", data = df).set_title(\"Seaborn\")\n",
    "\n",
    "px.box(df, x = \"day\", y = \"total_bill\", title = \"Plotly\")"
   ]
  },
  {
   "cell_type": "code",
   "execution_count": null,
   "id": "2fb172cd-342e-4aa3-89e1-5a95ebd02da0",
   "metadata": {},
   "outputs": [],
   "source": [
    "px.scatter(df, x = \"total_bill\", y = \"tip\")"
   ]
  },
  {
   "cell_type": "code",
   "execution_count": null,
   "id": "c139e568-cca5-4240-9865-b4de1e4c281e",
   "metadata": {},
   "outputs": [],
   "source": [
    "sns.regplot(x = \"total_bill\", y = \"tip\", data = df)"
   ]
  },
  {
   "cell_type": "markdown",
   "id": "4b7111a8-64a0-4e5a-99dd-ecf8638d01f3",
   "metadata": {},
   "source": [
    "## For å kunne forstå og utnytte Python bedre\n"
   ]
  },
  {
   "cell_type": "markdown",
   "id": "9cbeef56-2382-45b2-a5e9-3d8f15a073a3",
   "metadata": {},
   "source": [
    "## Datatyper\n",
    "Det er mange datatyper i python, det er ikke nødvendig å kunne alle. De er byggeklossene for programmer man skriver\n",
    "\n",
    "Tekst: str\n",
    "\n",
    "Numeriske: int, float, complex\n",
    "\n",
    "Sekvenser: list, tuple, range\n",
    "\n",
    "Mapping: dict\n",
    "\n",
    "Set: set, frozenset\n",
    "\n",
    "Boolean: bool\n",
    "\n",
    "Binary: bytes, bytearray, memoryview\n",
    "\n",
    "None: NoneType"
   ]
  },
  {
   "cell_type": "markdown",
   "id": "1a2f958f-47f8-4c04-b71b-36766c017814",
   "metadata": {},
   "source": [
    "### De viktigste datatypene å kunne er:"
   ]
  },
  {
   "cell_type": "markdown",
   "id": "75f4e8c2-d096-40bb-802d-6fb06fbd663c",
   "metadata": {},
   "source": [
    "#### string (str)\n"
   ]
  },
  {
   "cell_type": "code",
   "execution_count": null,
   "id": "8a03c793-98cd-4f12-b51b-f7c58e939a16",
   "metadata": {},
   "outputs": [],
   "source": [
    "a = \"Hello world\""
   ]
  },
  {
   "cell_type": "markdown",
   "id": "69075c8b-9139-48b8-88fd-75067d45e167",
   "metadata": {},
   "source": [
    "#### integer (int)\n",
    "Positivt eller negativt heltall"
   ]
  },
  {
   "cell_type": "code",
   "execution_count": null,
   "id": "b10dff4e-9e78-4403-b4bc-5b97407615c1",
   "metadata": {},
   "outputs": [],
   "source": [
    "tall = 123\n",
    "print(tall)"
   ]
  },
  {
   "cell_type": "markdown",
   "id": "7a3593f3-d6e6-4ad0-b1cb-acb016aa44d8",
   "metadata": {},
   "source": [
    "#### Floating point number (float)\n",
    "Positivt eller negativt tall med en eller flere desimaler\n",
    "Kan også være et vitenskapelig nummer hvor e er dekadisk enhet (?)"
   ]
  },
  {
   "cell_type": "code",
   "execution_count": null,
   "id": "3ad2e8e0-8976-46bc-a2ac-37829723f079",
   "metadata": {},
   "outputs": [],
   "source": [
    "tall = 12.3\n",
    "print(tall)\n",
    "\n",
    "vitenskapelig_tall = 5e10\n",
    "print(vitenskapelig_tall)"
   ]
  },
  {
   "cell_type": "markdown",
   "id": "b3a9b6ec-647f-47cc-be0c-a6480fe207bf",
   "metadata": {},
   "source": [
    "#### Boolean (bool)\n",
    "True/False, veldig brukbart for filtrering og mange andre ting man vil gjøre\n",
    "\n",
    "Bruker operatorer for å gjøre sjekker for om en påstand er sann eller ikke"
   ]
  },
  {
   "cell_type": "code",
   "execution_count": null,
   "id": "99d82557-68e8-4ffc-8d8f-3068c9cbed2f",
   "metadata": {},
   "outputs": [],
   "source": [
    "print(\"10 større enn 9?\")\n",
    "print(10 > 9)\n",
    "print()\n",
    "print(\"5 det samme som 6?\")\n",
    "print(5 == 6)\n",
    "print()\n",
    "print(\"Er bokstaven 'H' i variabelen a?\")\n",
    "print(\"H\" in a)\n",
    "print()\n",
    "print(\"Er bokstaven 'h' i variabelen a?\")\n",
    "print(\"h\" in a)"
   ]
  },
  {
   "cell_type": "markdown",
   "id": "cca49474-2022-4dd9-9dca-6e2a2fb54b28",
   "metadata": {},
   "source": [
    "#### List"
   ]
  },
  {
   "cell_type": "code",
   "execution_count": null,
   "id": "faf58e5e-90ab-48ba-9af3-bc0d9cf8b6fd",
   "metadata": {},
   "outputs": [],
   "source": [
    "liste = [\"a\", \"b\", \"c\"]\n",
    "liste = [\"a\", \"b\", 1, 1]"
   ]
  },
  {
   "cell_type": "code",
   "execution_count": null,
   "id": "77e60e7c-1cd9-4f89-a06b-128f498c93ed",
   "metadata": {},
   "outputs": [],
   "source": [
    "# Kan hente ut spesifikke elementer fra listen.\n",
    "print(liste[0])\n",
    "print(liste[1])\n",
    "print(liste[2])\n",
    "print(liste[3])\n",
    "\n",
    "# Python starter å telle fra 0\n",
    "print(liste[4])"
   ]
  },
  {
   "cell_type": "markdown",
   "id": "9bf7560e-29e8-469a-a956-8321703dabf0",
   "metadata": {},
   "source": [
    "#### Set\n",
    "Minner om list-datatypen, men skrives med { }\n",
    "- Tillater ikke duplikater\n",
    "- Objektene i et set kan ikke endres\n",
    "- Du kan fjerne eller legge til elementer i et set\n",
    "- Det er ikke en bestemt rekkefølge\n",
    "- Verdiene har ikke en index"
   ]
  },
  {
   "cell_type": "code",
   "execution_count": null,
   "id": "c88ef974-e74b-462e-92c5-26e45983fe8f",
   "metadata": {},
   "outputs": [],
   "source": [
    "_set = {\"a\", \"b\", 2, 2}\n",
    "\n",
    "print(_set)"
   ]
  },
  {
   "cell_type": "code",
   "execution_count": null,
   "id": "bc292204-624e-442c-9670-6c022bdbf3b8",
   "metadata": {},
   "outputs": [],
   "source": [
    "print(set(liste))"
   ]
  },
  {
   "cell_type": "markdown",
   "id": "64c8a124-134a-4350-9731-61a9cbe5ea53",
   "metadata": {},
   "source": [
    "#### Tuple\n",
    "- Tillater duplikater\n",
    "- Kan ikke endres\n",
    "Dette gjør at en tuple er nyttig når du har informasjon som du ikke vil at skal endres"
   ]
  },
  {
   "cell_type": "code",
   "execution_count": null,
   "id": "fd6a3641-88fe-43c0-908f-604b7184a410",
   "metadata": {},
   "outputs": [],
   "source": [
    "_tuple = (\"a\", \"b\", \"c\", 1, 2, 2)"
   ]
  },
  {
   "cell_type": "markdown",
   "id": "d7c9e5ad-f778-4c03-94a4-79ff415a53dc",
   "metadata": {},
   "source": [
    "#### Dictionary"
   ]
  },
  {
   "cell_type": "code",
   "execution_count": null,
   "id": "c9fc178e-de06-4ba3-b447-2cd3c526eff0",
   "metadata": {},
   "outputs": [],
   "source": [
    "dictionary = {\"Dyr\": \"Sau\", \"Grønnsak\": \"Purre\", \"Bær\": \"Jordbær\"}\n",
    "\n",
    "dictionary = {\n",
    "    \"Dyr\": \"Sau\",\n",
    "    \"Grønnsak\": \"Purre\",\n",
    "    \"Bær\": \"Jordbær\"\n",
    "}"
   ]
  },
  {
   "cell_type": "code",
   "execution_count": null,
   "id": "6a45889b-6682-4989-9130-1e8b468b4a09",
   "metadata": {},
   "outputs": [],
   "source": [
    "print(dictionary)\n",
    "print()\n",
    "print(dictionary[\"Dyr\"])\n",
    "print()\n",
    "print(dictionary.keys())\n",
    "print()\n",
    "print(dictionary.values())"
   ]
  },
  {
   "cell_type": "markdown",
   "id": "7b022aa8-f1cf-4438-91d1-ca53c6d36a84",
   "metadata": {},
   "source": [
    "## Funksjoner\n",
    "Funksjoner i Python er en kodesnutt som kan brukes flere ganger ved at du \"kaller\" på funksjonen og gir den \"argumenter\".  \n",
    "Å kalle på funksjonen er å bruke den, du forteller koden hvilken funksjon som skal brukes.  \n",
    "Argumenter er instruksjoner til funksjonen, kan også kalles parametre.\n",
    "#### Hvorfor bruke funksjoner?\n",
    "Koden blir gjerne mer oversiktlig, lettere å lese og det blir lettere å gjenbruke deler av koden. I tillegg vil det være enklere å lage tester for å se om koden fungerer som forventet når den gis spesifikk input.  \n",
    "Har du en stor/kompleks del i koden din kan den med fordel skrives som en eller flere funksjon(er). Det gjør at det blir:\n",
    "- isolert fra resten av koden din\n",
    "- lett å se hvor den starter og stopper\n",
    "- lett å sjekke at koden fungerer som forventet\n"
   ]
  },
  {
   "cell_type": "code",
   "execution_count": null,
   "id": "5f4b391f-2091-45f9-bb0a-bc3633be1862",
   "metadata": {},
   "outputs": [],
   "source": [
    "tall_a = 5\n",
    "tall_b = 8"
   ]
  },
  {
   "cell_type": "code",
   "execution_count": null,
   "id": "3671252e-1213-4c3b-8b51-c0ec8b75ff83",
   "metadata": {},
   "outputs": [],
   "source": [
    "tall_c = tall_a + tall_b\n",
    "print(tall_c)"
   ]
  },
  {
   "cell_type": "code",
   "execution_count": null,
   "id": "0c60c924-9485-462b-b91c-699d01b794eb",
   "metadata": {},
   "outputs": [],
   "source": [
    "def addisjon(a, b):\n",
    "    c = a + b\n",
    "    print(str(a) + \" + \"+str(b) + \" blir: \" + str(c))\n",
    "    return c"
   ]
  },
  {
   "cell_type": "code",
   "execution_count": null,
   "id": "a8572c18-4299-46dc-ab35-5cbbf2f8e4e5",
   "metadata": {},
   "outputs": [],
   "source": [
    "tall_a = 5\n",
    "tall_b = 8\n",
    "\n",
    "tall_c = addisjon(tall_a, tall_b)\n",
    "print(tall_c)"
   ]
  },
  {
   "cell_type": "code",
   "execution_count": null,
   "id": "23e2c5ac-56f2-4482-a3c6-863f761e0b11",
   "metadata": {},
   "outputs": [],
   "source": [
    "addisjon(2,8)"
   ]
  },
  {
   "cell_type": "code",
   "execution_count": null,
   "id": "ec3fe454-6d0c-4fa6-bcd7-f3d3d625abd9",
   "metadata": {},
   "outputs": [],
   "source": [
    "addisjon(125, 543)"
   ]
  },
  {
   "cell_type": "markdown",
   "id": "6d3d7f94-cfe7-4e9c-b094-d9e3d09d4de7",
   "metadata": {},
   "source": [
    "#### Enkelt eksempel på en sjekk av funksjonen"
   ]
  },
  {
   "cell_type": "code",
   "execution_count": null,
   "id": "34c3be33-96ab-457b-be99-08a78d786862",
   "metadata": {},
   "outputs": [],
   "source": [
    "if addisjon(2,2) == 4:\n",
    "    print(\"Det har fungert\")\n",
    "else:\n",
    "    print(\"Noe har gått galt\")"
   ]
  },
  {
   "cell_type": "markdown",
   "id": "12779986-989f-4f21-a6d8-4f3b150c3ceb",
   "metadata": {},
   "source": [
    "<a id='standardinnstillinger2'></a>\n",
    "### [Vi vender tilbake til detaljen om standardinnstillinger i pandas/python](#standardinnstillinger)\n",
    "Når du selv koder funksjoner kan du legge inn standard-argumenter som brukes med mindre noe annet skrives."
   ]
  },
  {
   "cell_type": "code",
   "execution_count": null,
   "id": "e9196e66-1c77-4ed8-bbb4-e277cf6e6f0e",
   "metadata": {},
   "outputs": [],
   "source": [
    "def addisjon(a=5, b = 2):\n",
    "    c = a + b\n",
    "    print(str(a) + \" + \"+str(b) + \" blir: \" + str(c))\n",
    "    return c"
   ]
  },
  {
   "cell_type": "code",
   "execution_count": null,
   "id": "5d7edfc2-70a2-46a5-b998-95d9685a4486",
   "metadata": {},
   "outputs": [],
   "source": [
    "addisjon()"
   ]
  },
  {
   "cell_type": "code",
   "execution_count": null,
   "id": "0ede7936-047a-4de3-9359-38094fb8b817",
   "metadata": {},
   "outputs": [],
   "source": [
    "addisjon(a = 3)"
   ]
  },
  {
   "cell_type": "markdown",
   "id": "b23d7e12-dad7-4aff-9a34-e5aa90a240c3",
   "metadata": {},
   "source": [
    "#### Funksjoner kan også kjedes. Gjett hva cellen nedenfor gir som svar"
   ]
  },
  {
   "cell_type": "code",
   "execution_count": null,
   "id": "977db64b-7bf5-4596-99d9-79ea132f951f",
   "metadata": {},
   "outputs": [],
   "source": [
    "svar = addisjon(\n",
    "    addisjon(\n",
    "        addisjon(\n",
    "            a = 3,\n",
    "            b = 3\n",
    "        )\n",
    "    )\n",
    ")\n",
    "print(svar)"
   ]
  },
  {
   "cell_type": "code",
   "execution_count": null,
   "id": "967db4c0-8db0-43e7-9d65-459bfabdc0ff",
   "metadata": {},
   "outputs": [],
   "source": [
    "# Det kan skrives som 1 linje også, men når det blir skrevet mer spredt og oppdelt blir det enklere å lese\n",
    "\n",
    "print(addisjon(addisjon(addisjon(a = 3,b = 3))))"
   ]
  },
  {
   "cell_type": "markdown",
   "id": "f6a95cc4-9724-480c-8099-91a5161b1ccd",
   "metadata": {},
   "source": [
    "## Loops"
   ]
  },
  {
   "cell_type": "markdown",
   "id": "23876c68-b45e-43e8-99b7-c82babaac1ad",
   "metadata": {},
   "source": [
    "### If-else loop"
   ]
  },
  {
   "cell_type": "code",
   "execution_count": null,
   "id": "7dd38e35-9236-4135-bcf5-199015d43e78",
   "metadata": {},
   "outputs": [],
   "source": [
    "x = 10\n",
    "\n",
    "print(x)\n",
    "\n",
    "if x < 10:\n",
    "    print(\"x er mindre enn 10\")\n",
    "    x += 10\n",
    "elif x == 10:\n",
    "    print(\"x er 10\")\n",
    "else:\n",
    "    print(\"x er større enn 10\")\n",
    "    x -= 10\n",
    "\n",
    "print(x)"
   ]
  },
  {
   "cell_type": "markdown",
   "id": "542949bb-87d1-46ed-aa24-73a2b4cf8d4a",
   "metadata": {},
   "source": [
    "### For loop"
   ]
  },
  {
   "cell_type": "code",
   "execution_count": null,
   "id": "bf089cb2-e739-4273-82eb-43b78952a71a",
   "metadata": {},
   "outputs": [],
   "source": [
    "print(\"Bokstaven i blir en stand-in for hver enkelt key i dictionary, og koden kjøres 1 gang for hver key\")\n",
    "print()\n",
    "for i in dictionary:\n",
    "    print(\"Nå er key: \" + i)\n",
    "    print(\"Value som er knyttet til denne keyen er: \" + dictionary[i])\n",
    "    print()"
   ]
  },
  {
   "cell_type": "markdown",
   "id": "3965bc70-40c0-496f-ab9f-3bc52bfc26e7",
   "metadata": {},
   "source": [
    "### While loop"
   ]
  },
  {
   "cell_type": "code",
   "execution_count": null,
   "id": "c3f604e3-469f-4420-9f43-81db325cab10",
   "metadata": {},
   "outputs": [],
   "source": [
    "x = 1\n",
    "\n",
    "print(\"Så lenge x er mindre enn 10 blir loopen kjørt\")\n",
    "while x < 10:\n",
    "    print(x)\n",
    "    x += 2\n",
    "\n",
    "print(\"x er nå ikke mindre enn 10\")\n",
    "print(x)"
   ]
  },
  {
   "cell_type": "markdown",
   "id": "702cc503-38ae-473a-9bf4-0a294d216f51",
   "metadata": {},
   "source": [
    "### Loops kan kombineres med logiske sjekker"
   ]
  },
  {
   "cell_type": "code",
   "execution_count": null,
   "id": "21ce355e-da2c-4aed-8909-3b73785e729a",
   "metadata": {},
   "outputs": [],
   "source": [
    "dictionary = {\n",
    "    \"Dyr\": \"Sau\",\n",
    "    \"Grønnsak\": \"Purre\",\n",
    "    \"Bær\": \"Jordbær\"\n",
    "}\n",
    "for i in dictionary:\n",
    "    if i != \"Bær\":\n",
    "        print(i)"
   ]
  },
  {
   "cell_type": "markdown",
   "id": "e321e13c-2406-4e7b-8b93-9b954f1094ec",
   "metadata": {},
   "source": [
    "## Konkret eksempel på hva man kan gjøre med ren python"
   ]
  },
  {
   "cell_type": "code",
   "execution_count": null,
   "id": "233c5d8e-5b2e-4e54-a1a4-8ec18b62254c",
   "metadata": {},
   "outputs": [],
   "source": [
    "s_426 = {  # Dictionary med info om s426\n",
    "    \"areal\": {\n",
    "        \"Anne\": \"Rørholt\",\n",
    "        \"Marianne Vik\": \"Dysterud\",\n",
    "    },\n",
    "    \"bygg\": {\n",
    "        \"Martin Handeland\": \"Skjæveland\",\n",
    "        \"Magnus\": \"Espeland\"\n",
    "    },\n",
    "    \"jordbruk\": {\n",
    "        \"Berit\": \"Bjørlo\",\n",
    "        \"Magnus Theodor\": \"Engh\"\n",
    "    },\n",
    "    \"sjef\": {\n",
    "        \"Terje Olav\": \"Rundtom\",\n",
    "        \"Anne Bakke\": \"Skara\"\n",
    "    }\n",
    "}"
   ]
  },
  {
   "cell_type": "code",
   "execution_count": null,
   "id": "224869e9-6200-459f-99b4-37d8064f45f1",
   "metadata": {},
   "outputs": [],
   "source": [
    "print(s_426.keys())\n",
    "print()\n",
    "print(s_426.values())"
   ]
  },
  {
   "cell_type": "code",
   "execution_count": null,
   "id": "6255a624-ce58-4624-a78b-443f4ccc8669",
   "metadata": {},
   "outputs": [],
   "source": [
    "#  Looper gjennom dictionary for å se innholdet lagret under hver enkelt key\n",
    "for i in s_426:\n",
    "    print(i)\n",
    "    print(s_426[i])\n",
    "    print()"
   ]
  },
  {
   "cell_type": "code",
   "execution_count": null,
   "id": "3fa2b25b-5214-4645-b9e3-4f839a41ff90",
   "metadata": {},
   "outputs": [],
   "source": [
    "# Kan hente ut fornavn til en egen liste\n",
    "fornavn = []  # Lager først en tom liste\n",
    "\n",
    "for i in s_426:  # Looper gjennom dictionary\n",
    "    print(list(s_426[i].keys()))\n",
    "    fornavn += list(s_426[i].keys())  # Kombinerer keys til en liste, og legger dette til i fornavn\n",
    "print()\n",
    "print(fornavn)"
   ]
  },
  {
   "cell_type": "code",
   "execution_count": null,
   "id": "2d4e4d22-f722-4090-98f0-812c633896ec",
   "metadata": {},
   "outputs": [],
   "source": [
    "# Kan også legge til å splitte string for å ikke ha mer enn ett fornavn fra hver person\n",
    "fornavn = []\n",
    "\n",
    "for i in s_426:\n",
    "    print(i)\n",
    "    for j in list(s_426[i].keys()):\n",
    "        oppdelt_navn = j.split(\" \")  # splitter string der det er mellomrom\n",
    "        print(oppdelt_navn)\n",
    "        første_navn = oppdelt_navn[0]  # Plukker ut det første elementet\n",
    "        fornavn.append(første_navn)  # Her kan vi bruke append for å legge til elementet\n",
    "print()\n",
    "print(fornavn)"
   ]
  },
  {
   "cell_type": "code",
   "execution_count": null,
   "id": "59c2a6f7-2687-409e-a151-b7c3e8f3718c",
   "metadata": {},
   "outputs": [],
   "source": [
    "# Kan sortere listen alfabetisk\n",
    "fornavn.sort()\n",
    "fornavn"
   ]
  },
  {
   "cell_type": "code",
   "execution_count": null,
   "id": "54c04ea9-a0be-4d6a-ab34-22f2aeb30752",
   "metadata": {},
   "outputs": [],
   "source": [
    "# Hvis vi ikke vil ha duplikater kan vi gjøre om listen til datatypen set\n",
    "set(fornavn)"
   ]
  },
  {
   "cell_type": "code",
   "execution_count": null,
   "id": "04187bb5-ec86-4f08-8a1f-28ebae8f2690",
   "metadata": {},
   "outputs": [],
   "source": [
    "# Vi kan også loope gjennom dictionary og finne det\n",
    "# fulle navnet til noen basert på etternavn\n",
    "etternavn = \"Skjæveland\"\n",
    "\n",
    "for i in s_426:\n",
    "    if etternavn in s_426[i].values():\n",
    "        for j in s_426[i]:\n",
    "            if s_426[i][j] == etternavn:\n",
    "                fornavn = j\n",
    "\n",
    "print(fornavn, etternavn)"
   ]
  },
  {
   "cell_type": "code",
   "execution_count": null,
   "id": "324a8057-6c7d-478a-873f-5506571fc983",
   "metadata": {},
   "outputs": [],
   "source": [
    "# Dictionaries kan gjøres om til dataframes\n",
    "data = {\n",
    "    'col_1': [3, 2, 1, 0],\n",
    "    'col_2': ['a', 'b', 'c', 'd']\n",
    "}\n",
    "pd.DataFrame().from_dict(data)"
   ]
  },
  {
   "cell_type": "code",
   "execution_count": null,
   "id": "f79b2578-c8c3-414e-a0ed-753db59299b1",
   "metadata": {},
   "outputs": [],
   "source": [
    "# s_426 dictionary er ikke egnet for dette siden den har feil struktur\n",
    "pd.DataFrame().from_dict(s_426)"
   ]
  },
  {
   "cell_type": "code",
   "execution_count": null,
   "id": "327bdacd-267b-42b1-be2b-9ad029f7099d",
   "metadata": {},
   "outputs": [],
   "source": [
    "pd.DataFrame().from_dict(s_426, orient = \"index\")"
   ]
  },
  {
   "cell_type": "code",
   "execution_count": null,
   "id": "5ec113bc-ee7a-4629-9291-59dfabce7e5d",
   "metadata": {},
   "outputs": [],
   "source": [
    "# Selv om s_426 dictionary ikke har riktig form, så kan vi bruke loops for å gjøre den om\n",
    "\n",
    "df = pd.DataFrame()\n",
    "\n",
    "for i in s_426:\n",
    "    for j in list(s_426[i].keys()):\n",
    "        print(j)\n",
    "        print(s_426[i][j])\n",
    "        print(i)\n",
    "        ny_rad = {\n",
    "            \"Fornavn\": j,\n",
    "            \"Etternavn\": s_426[i][j],\n",
    "            \"Gruppe\": i\n",
    "        }\n",
    "        df = df.append(ny_rad, ignore_index = True)\n",
    "        print(\"--------\")\n",
    "\n",
    "df"
   ]
  },
  {
   "cell_type": "markdown",
   "id": "56b069e8-85bd-4048-b356-6bf6d93301a6",
   "metadata": {},
   "source": [
    "<a id='git'></a>\n",
    "## [Kort om git og Github](#toppen)\n",
    "Git er mystisk og vanskelig å forstå når det er nytt, men det er ekstremt nyttig.  \n",
    "Verktøy for versjonshåndtering. Forenkler deling av kode, utvikling sammen og arkiverer tidligere versjoner.  \n",
    "\n",
    "Ha prosjektet i git fra første stund. Da har man historikk fra start til slutt, er man nøye så genererer dette god dokumentasjon.  \n",
    "Slå på innstillingen som krever en pull request for å gjøre endringer. Da kan man få noen andre til å se over endringene dine og gi tilbakemelding før det legges inn i hovedversjonen av koden din. Dette er god praksis for å sikre at feil fanges opp tidlig."
   ]
  },
  {
   "cell_type": "markdown",
   "id": "3a745a87-67f8-4031-aa5f-98bfe72db10d",
   "metadata": {},
   "source": [
    "<a id='tips'></a>\n",
    "## [Tips for å lære](#toppen)\n",
    "Lag et prosjekt som du kan øve på.  \n",
    "Du kommer langt med bare vanlig Python og Pandas, så fokuser på disse.  \n",
    "Forsøk å skrive over et enkelt prosjekt/en enkel prosess til python.  \n",
    "Om du googler deg fram til en løsning, prøv å forstå hva løsningen faktisk gjør.  \n",
    "Ikke vær redd for å spørre om hjelp.  \n",
    "### Parprogrammering\n",
    "Sitte to personer, hvor 1 skriver kode og 1 observerer.  \n",
    "Fører til at flere timer går med på å skrive koden, men samtidig blir det færre feil og bedre kode.  \n",
    "Bidrar til erfaringsdeling"
   ]
  },
  {
   "cell_type": "code",
   "execution_count": null,
   "id": "79c79995-5190-4543-aae3-76160a626ece",
   "metadata": {},
   "outputs": [],
   "source": []
  }
 ],
 "metadata": {
  "language_info": {
   "codemirror_mode": {
    "name": "ipython"
   },
   "file_extension": ".py",
   "mimetype": "text/x-python",
   "name": "python",
   "nbconvert_exporter": "python"
  },
  "toc-autonumbering": false,
  "toc-showcode": false,
  "toc-showmarkdowntxt": false
 },
 "nbformat": 4,
 "nbformat_minor": 5
}
