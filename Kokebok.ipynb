{
 "cells": [
  {
   "cell_type": "markdown",
   "id": "5e7701cd",
   "metadata": {},
   "source": [
    "<a id='toppen'></a>\n",
    "# Kokebok\n",
    "#### [Git tips](#git)\n",
    "[Lenke]\n",
    "\n",
    "#### [Databehandling](#databehandling)\n",
    "Viser eksempler for hvordan man kan:\n",
    "- opprette nye kolonner\n",
    "- filtrere datasettet\n",
    "- velge ut kolonner fra en dataframe\n",
    "- plukke ut en substring og lage ny kolonne med denne verdien\n",
    "- normalisering\n",
    "- binning\n",
    "- opprette dummy variabler\n",
    "- gruppere og aggregere datasettet\n",
    "- Endre kolonneverdier\n",
    "\n",
    "#### [Deskriptiv statistikk](#deskriptiv)\n",
    "Enkle måter å få oversikt over et datasett\n",
    "#### [Korrelasjonstester](#korrelasjonstester)\n",
    "Eksempel på korrelasjonstester man kan gjennomføre og visualiseringer for å gjøre resultatene lettere å lese\n",
    "#### [Funksjoner](#funksjoner)\n",
    "Funksjoner som er skrevet på en måte som gjør de lette å gjennbruke i andre programmer. For eksempel kode som oppretter variabel for størrelsesgrupper\n",
    "#### [Notebook tips](#tips)\n",
    "Noen tips for å gjøre notebooks lettere å lese"
   ]
  },
  {
   "cell_type": "code",
   "execution_count": null,
   "id": "613101c3-32f3-4852-922b-87a64f6e1c58",
   "metadata": {},
   "outputs": [],
   "source": [
    "import pandas as pd\n",
    "import numpy as np\n",
    "import plotly.express as px\n",
    "import seaborn as sns\n",
    "from scipy import stats\n",
    "#import statsmodels as stats"
   ]
  },
  {
   "cell_type": "code",
   "execution_count": null,
   "id": "c821c911-6390-4b2a-8f19-974ab85c4e5a",
   "metadata": {},
   "outputs": [],
   "source": [
    "df = px.data.tips() # Testdatasett, finnes flere eksempler: https://plotly.com/python-api-reference/generated/plotly.express.data.html"
   ]
  },
  {
   "cell_type": "code",
   "execution_count": null,
   "id": "b6d6ff83-45ff-4624-98b4-a4296d243794",
   "metadata": {},
   "outputs": [],
   "source": [
    "df"
   ]
  },
  {
   "cell_type": "markdown",
   "id": "259c8b18-76e9-46ca-b8ff-a16913658b8c",
   "metadata": {},
   "source": [
    "<a id='databehandling'></a>\n",
    "## Databehandling"
   ]
  },
  {
   "cell_type": "markdown",
   "id": "0fa9cd03-b195-465f-b859-abfc42328b22",
   "metadata": {},
   "source": [
    "### Filtrering med .loc\n",
    "Svært nyttig for å filtrere dataframes."
   ]
  },
  {
   "cell_type": "code",
   "execution_count": null,
   "id": "4b8f2fb3",
   "metadata": {},
   "outputs": [],
   "source": [
    "# Filtrere til ny dataframe\n",
    "dff = df.loc[df[\"smoker\"] == \"Yes\"]\n",
    "dff"
   ]
  },
  {
   "cell_type": "code",
   "execution_count": null,
   "id": "1288cbc2-a904-4316-99d7-c34f1feb04c7",
   "metadata": {},
   "outputs": [],
   "source": [
    "# Filtrere til ny dataframe med flere betingelser\n",
    "dff = df.loc[(df[\"smoker\"] == \"Yes\") & (df[\"sex\"] == \"Male\") & (df[\"day\"] == \"Sat\")] # Når det er flere conditions må hver av de være i () med & mellom \n",
    "dff"
   ]
  },
  {
   "cell_type": "markdown",
   "id": "babbbbb4-60e3-4a80-9296-8a271a84ee25",
   "metadata": {},
   "source": [
    "### Opprette ny kolonne"
   ]
  },
  {
   "cell_type": "code",
   "execution_count": null,
   "id": "a39b1bbb-d68d-49eb-9cb6-91a0c39d42f1",
   "metadata": {},
   "outputs": [],
   "source": [
    "# Opprette en ny kolonne med fast verdi\n",
    "df[\"kommunenr\"] = \"0301\""
   ]
  },
  {
   "cell_type": "markdown",
   "id": "956db3d9-fb1c-483f-984e-86f7a04262cd",
   "metadata": {
    "tags": []
   },
   "source": [
    "### Opprette kolonner med .loc\n",
    "Anbefaler å bruke .loc til å opprette nye kolonner med verdi som avhenger av andre kolonner"
   ]
  },
  {
   "cell_type": "code",
   "execution_count": null,
   "id": "70e5e407-8088-48d0-90bb-b411d1bf8110",
   "metadata": {},
   "outputs": [],
   "source": [
    "# Endre kolonneverdi basert på andre kolonneverdier\n",
    "df[\"gruppe\"] = False\n",
    "df.loc[df[\"size\"] > 2, \"gruppe\"] = True"
   ]
  },
  {
   "cell_type": "code",
   "execution_count": null,
   "id": "aa890bdf-2086-4eb1-9dc8-a5c1b18866c7",
   "metadata": {},
   "outputs": [],
   "source": [
    "# loc med en liste av aksepterte verdier\n",
    "df.loc[df[\"day\"].isin([\"Sat\", \"Sun\"]), \"helg\"] = True"
   ]
  },
  {
   "cell_type": "code",
   "execution_count": null,
   "id": "ee5a805b-54bb-47cc-aa29-d7653290bcac",
   "metadata": {},
   "outputs": [],
   "source": [
    "# loc basert på to verdier\n",
    "df.loc[(df[\"total_bill\"] > 10) & (df[\"total_bill\"] < 20), \"bill 10-20\"] = 1 # Når det er flere conditions må hver av de være i () med & mellom "
   ]
  },
  {
   "cell_type": "code",
   "execution_count": null,
   "id": "b8c58d00-57d1-49e2-b983-6c23fa0d79e1",
   "metadata": {},
   "outputs": [],
   "source": [
    "# Avansert. Printer ut i løkken for å vise hva som skjer\n",
    "# Koden nedenfor tar utgangspunkt i en kolonne og lager egne kolonner med 0/1 (False/True) verdier for å markere hvorvidt en verdi er innenfor en gitt størrelsesgruppe.\n",
    "# Om verdiene i dictet endres så kan den generelle koden brukes på andre datasett, uavhengig av hvor mange størrelsesgrupper man definerer. Kan også settes opp som en gjenbrukbar funksjon, se neste celle.\n",
    "\n",
    "eksempel_dict = {\n",
    "    \"variabelnavn\": \"total_bill\",\n",
    "    \"grupper\": {\n",
    "        \"bill 10-19\": [10, 19.99],\n",
    "        \"bill 20-29\": [20, 29.99],\n",
    "        \"bill 30-39\": [30, 30.99]\n",
    "    }\n",
    "}\n",
    "\n",
    "print(eksempel_dict[\"variabelnavn\"])\n",
    "\n",
    "for i in eksempel_dict[\"grupper\"]:\n",
    "    print(i)\n",
    "    print(eksempel_dict[\"grupper\"][i][0])\n",
    "    print(eksempel_dict[\"grupper\"][i][1])\n",
    "    df.loc[(df[eksempel_dict[\"variabelnavn\"]] > eksempel_dict[\"grupper\"][i][0]) & (df[eksempel_dict[\"variabelnavn\"]] < eksempel_dict[\"grupper\"][i][1]), i] = 1\n",
    "df"
   ]
  },
  {
   "cell_type": "code",
   "execution_count": null,
   "id": "aaa6d1fd-da51-4d4e-8be8-ddb10c1f2939",
   "metadata": {},
   "outputs": [],
   "source": [
    "# for-løkken fra forrige celle satt inn i en funksjon\n",
    "# En fordel med å kode funksjoner er at dersom man gjør nøyaktig samme operasjon flere ganger forkorter det koden og den blir mer lesbar\n",
    "\n",
    "def gruppering(df, dictionary):\n",
    "    for i in dictionary[\"grupper\"]:\n",
    "        df.loc[(df[dictionary[\"variabelnavn\"]] > dictionary[\"grupper\"][i][0]) & (df[dictionary[\"variabelnavn\"]] < dictionary[\"grupper\"][i][1]), i] = 1\n",
    "    return df\n",
    "\n",
    "\n",
    "eksempel_dict = {\n",
    "    \"variabelnavn\": \"total_bill\",\n",
    "    \"grupper\": {\n",
    "        \"bill 10-19\": [10, 19.99],\n",
    "        \"bill 20-29\": [20, 29.99],\n",
    "        \"bill 30-39\": [30, 30.99]\n",
    "    }\n",
    "}\n",
    "dff = gruppering(df, eksempel_dict)\n",
    "dff"
   ]
  },
  {
   "cell_type": "markdown",
   "id": "8348779d-da64-4a1d-a806-9a543365c14f",
   "metadata": {},
   "source": [
    "### Velge ut spesifikke kolonner"
   ]
  },
  {
   "cell_type": "code",
   "execution_count": null,
   "id": "baae9a1a-c62d-4aaa-8f2c-e6c967418742",
   "metadata": {},
   "outputs": [],
   "source": [
    "# Nedenfor er eksempel på å velge ut kun de kolonnene man ønsker for å forkorte datasett/bare ta med aktuelle kolonner videre. Begge eksemplene oppnår det samme resultatet\n",
    "\n",
    "# Eksempel 1\n",
    "dff = df[[\"sex\", \"day\", \"total_bill\", \"tip\"]]\n",
    "\n",
    "# Eksempel 2\n",
    "liste = [\"sex\", \"day\", \"total_bill\", \"tip\"]\n",
    "dff = df[liste]\n",
    "\n",
    "dff"
   ]
  },
  {
   "cell_type": "markdown",
   "id": "d6335617-7461-458a-b8e3-39c0c5e018a0",
   "metadata": {},
   "source": [
    "### Substring til ny kolonne"
   ]
  },
  {
   "cell_type": "code",
   "execution_count": null,
   "id": "5a4e998a",
   "metadata": {},
   "outputs": [],
   "source": [
    "# Hente ut en substring\n",
    "# Eksempel. Henter ut fylkesnummer fra kommunenummer\n",
    "df[\"fylkenr\"] = df[\"kommunenr\"].str[:2] # .str gjør verdien om til string og [:2] tar vare på de 2 første tegnene"
   ]
  },
  {
   "cell_type": "markdown",
   "id": "0e820147-6c3c-41b4-8704-21fe7df62b8f",
   "metadata": {},
   "source": [
    "### Normalisering"
   ]
  },
  {
   "cell_type": "code",
   "execution_count": null,
   "id": "13ab8c6d-1f11-40c4-91d6-842b5cf3e408",
   "metadata": {},
   "outputs": [],
   "source": [
    "# simple feature scaling\n",
    "df[\"total_bill simple feature scaling\"] = df[\"total_bill\"]/df[\"total_bill\"].max()\n",
    "\n",
    "# min-max\n",
    "df[\"total_bill min-max\"] = (df[\"total_bill\"]-df[\"total_bill\"].min()) / (df[\"total_bill\"].max()-df[\"total_bill\"].min())\n",
    "\n",
    "# Z-score\n",
    "df[\"total_bill z-score\"] = (df[\"total_bill\"] - df[\"total_bill\"].mean()) / df[\"total_bill\"].std()"
   ]
  },
  {
   "cell_type": "markdown",
   "id": "048c43f1-064c-4cf6-8f39-ea9475a567de",
   "metadata": {},
   "source": [
    "### Binning"
   ]
  },
  {
   "cell_type": "code",
   "execution_count": null,
   "id": "57ab8cc0-977d-46df-a6e3-63e8c4b3b4b0",
   "metadata": {},
   "outputs": [],
   "source": [
    "bins = np.linspace(min(df[\"total_bill\"]), max(df[\"total_bill\"]), 4)\n",
    "group_names = [\"Low\", \"Medium\", \"High\"]\n",
    "df[\"total_bill_binned\"] = pd.cut(\n",
    "    df[\"total_bill\"],\n",
    "    bins,\n",
    "    labels=group_names,\n",
    "    include_lowest=True\n",
    ")"
   ]
  },
  {
   "cell_type": "markdown",
   "id": "1f8712e2-b6f1-453a-92e6-902aa0783d9b",
   "metadata": {},
   "source": [
    "### Dummy variabler"
   ]
  },
  {
   "cell_type": "code",
   "execution_count": null,
   "id": "5fac1cb9-485f-4f44-8b83-f228694a788d",
   "metadata": {},
   "outputs": [],
   "source": [
    "# pd.get_dummies(df[\"day\"]) # Lager dummy\n",
    "\n",
    "# Slår sammen dummy variabelen med resten av dataframe\n",
    "# df = pd.concat([df, pd.get_dummies(df[\"day\"])], axis=1)\n",
    "\n",
    "# Som funksjon. Best hvis det er flere kolonner det skal lages dummies for\n",
    "def dummies(df, kolonneliste):\n",
    "    for i in kolonneliste:\n",
    "        df = pd.concat([df, pd.get_dummies(df[i])], axis=1)\n",
    "    return df\n",
    "\n",
    "df = dummies(df, [\"day\", \"sex\", \"time\"])\n",
    "df"
   ]
  },
  {
   "cell_type": "markdown",
   "id": "be4f5a39-931e-48e9-974e-1eec83f93649",
   "metadata": {
    "tags": []
   },
   "source": [
    "### Gruppering og aggregering"
   ]
  },
  {
   "cell_type": "code",
   "execution_count": null,
   "id": "859ad0f4",
   "metadata": {},
   "outputs": [],
   "source": [
    "# Summere flere kolonner radvis\n",
    "column_names = ['total_bill', 'tip']\n",
    "df['bill+tip']= df[column_names].sum(axis=1)"
   ]
  },
  {
   "cell_type": "code",
   "execution_count": null,
   "id": "324f44b7-b5f6-4347-8594-38d053afc75c",
   "metadata": {},
   "outputs": [],
   "source": [
    "# Enkel summering med 1 nivå\n",
    "df.groupby(\"sex\").sum()"
   ]
  },
  {
   "cell_type": "code",
   "execution_count": null,
   "id": "20f8a464-fbc2-4a54-a2f8-ebb8545191e7",
   "metadata": {},
   "outputs": [],
   "source": [
    "# Enkel summering med 2 nivå\n",
    "df.groupby([\"day\", \"sex\"]).sum()"
   ]
  },
  {
   "cell_type": "code",
   "execution_count": null,
   "id": "53f8b6e2-feda-468e-9276-633a2918f697",
   "metadata": {},
   "outputs": [],
   "source": [
    "# Mer skreddersydd aggregering med egendefinert aggregeringsmetode per kolonne\n",
    "df.groupby([\"day\", \"sex\"]).agg({\"total_bill\": \"mean\", \"tip\": \"mean\", \"size\": \"count\", \"bill+tip\": \"sum\"})\n",
    "\n",
    "# Merk at med .agg metoden får man kun ut de kolonnene som man definerer en metode for"
   ]
  },
  {
   "cell_type": "code",
   "execution_count": null,
   "id": "8f29e90c-5106-496d-a6b2-57bae866a519",
   "metadata": {},
   "outputs": [],
   "source": [
    "# Gruppere opp til dagsnivå fra aggregering med to nivåer\n",
    "eksempel = {\n",
    "    \"total_bill\": \"sum\", \n",
    "    \"tip\": \"sum\",\n",
    "    \"size\": \"count\", \n",
    "    \"bill+tip\": \"sum\"\n",
    "}\n",
    "dff = df.groupby([\"day\", \"sex\"]).agg(eksempel).reset_index()\n",
    "dff.groupby(\"day\").agg(eksempel)"
   ]
  },
  {
   "cell_type": "code",
   "execution_count": null,
   "id": "110ed994-5e07-4a3a-847b-3cb2b4b85233",
   "metadata": {},
   "outputs": [],
   "source": [
    "# Mer avansert\n",
    "#####################\n",
    "# Merk at i eksempelet over så blir size feil om man teller på samme måte begge gangene. Kan derfor lage nested dictionary for at det skal bli mer riktig\n",
    "\n",
    "hoved_dict = {\n",
    "    \"total_bill\": [\"sum\", \"sum\"],\n",
    "    \"tip\": [\"sum\", \"sum\"],\n",
    "    \"size\": [\"count\", \"sum\"], \n",
    "    \"bill+tip\": [\"sum\", \"sum\"]\n",
    "}\n",
    "\n",
    "midlertidig_dict = {} # Lager et tomt dict for å putte den midlertidige versjonen av hoved_dict\n",
    "\n",
    "# Dictionaries består av {key : value} par hvor man kan hente ut verdien ved å bruke key (eksempel nedenfor). Dette brukes i for-løkkene til å lage et midlertidig dict basert på hoved_dictet\n",
    "print(hoved_dict[\"tip\"])\n",
    "\n",
    "for i in hoved_dict: # For hver key i hoved_dict\n",
    "    midlertidig_dict[i] = hoved_dict[i][0] # Setter verdien for hver key\n",
    "\n",
    "dff = df.groupby([\"day\", \"sex\"]).agg(midlertidig_dict).reset_index()\n",
    "dff\n",
    "for i in hoved_dict:\n",
    "    midlertidig_dict[i] = hoved_dict[i][1]\n",
    "\n",
    "dff.groupby(\"day\").agg(midlertidig_dict)"
   ]
  },
  {
   "cell_type": "markdown",
   "id": "e8fbcd4e-b04c-4371-a653-8fa2ef7c0c62",
   "metadata": {},
   "source": [
    "### Endre kolonneverdier\n",
    ".replace brukes for å erstatte kolonneverdier med nye verdier. Tar imot f.eks. et dict med {\"tidligere navn\": \"nytt navn\",} par"
   ]
  },
  {
   "cell_type": "code",
   "execution_count": null,
   "id": "8a2a3143",
   "metadata": {},
   "outputs": [],
   "source": [
    "# Opprette ny kolonne med andre verdier, basert på annen kolonne.\n",
    "df[\"dag\"] = df[\"day\"].replace({  # man kan også skrive df[\"day\"] = df[\"day\"].replace... for å endre eksisterende kolonne istedenfor å lage en ny\n",
    "    \"Mon\": \"Mandag\",\n",
    "    \"Tue\": \"Tirsdag\",\n",
    "    \"Wed\": \"Onsdag\",\n",
    "    \"Thur\": \"Torsdag\",\n",
    "    \"Fri\": \"Fredag\",\n",
    "    \"Sat\": \"Lørdag\",\n",
    "    \"Sun\": \"Søndag\"\n",
    "})\n",
    "\n",
    "# Eksempelet nedenfor er samme kode som det over, men dictionary er definert utenfor koden. Om man har mange verdier kan dette gjøre det lettere å lese scriptet senere.\n",
    "\n",
    "eksempel_dict = {\n",
    "    \"Mon\": \"Mandag\",\n",
    "    \"Tue\": \"Tirsdag\",\n",
    "    \"Wed\": \"Onsdag\",\n",
    "    \"Thur\": \"Torsdag\",\n",
    "    \"Fri\": \"Fredag\",\n",
    "    \"Sat\": \"Lørdag\",\n",
    "    \"Sun\": \"Søndag\"\n",
    "}\n",
    "\n",
    "df[\"dag\"] = df[\"day\"].replace(eksempel_dict)"
   ]
  },
  {
   "cell_type": "code",
   "execution_count": null,
   "id": "37574bdc-77da-4ab1-b931-9909fc08c4cb",
   "metadata": {},
   "outputs": [],
   "source": [
    "# Eksempel med fylkenr til fylkenavn\n",
    "df[\"fylke\"] = df[\"fylkenr\"].replace({ # Samme logikk for å Lage ny kolonne med fullt fylkesnavn\n",
    "    '03': '03 Oslo',\n",
    "    '11': '11 Rogaland',\n",
    "    '15': '15 Møre og Romsdal',\n",
    "    '18': '18 Nordland',\n",
    "    '30': '30 Viken',\n",
    "    '34': '34 Innlandet',\n",
    "    '38': '38 Vestfold og Telemark',\n",
    "    '42': '42 Agder',\n",
    "    '46': '46 Vestland',\n",
    "    '50': '50 Trøndelag',\n",
    "    '54': '54 Troms og Finnmark'\n",
    "})"
   ]
  },
  {
   "cell_type": "markdown",
   "id": "cbdf5bf2-f5be-4b95-a272-4378b1b3c1d5",
   "metadata": {},
   "source": [
    "### .select\n",
    "Fra numpy\n"
   ]
  },
  {
   "cell_type": "code",
   "execution_count": null,
   "id": "59911db7-0918-4117-abd6-21238984c0c8",
   "metadata": {},
   "outputs": [],
   "source": [
    "# Samme prinsipp som .loc, men med numpy .select\n",
    "df[\"I Oslo\"] = np.select([df[\"fylkenr\"].eq(\"03\") & df[\"kommunenr\"].eq(\"0301\")], \"1\", default=\"0\")"
   ]
  },
  {
   "cell_type": "markdown",
   "id": "5ee68002-8805-4184-8d0f-d1ce60c54b98",
   "metadata": {
    "tags": []
   },
   "source": [
    "<a id='deskriptiv'></a>\n",
    "## Deskriptiv statistikk"
   ]
  },
  {
   "cell_type": "code",
   "execution_count": null,
   "id": "87c00713-6516-4cd1-a0b1-851ea4862089",
   "metadata": {},
   "outputs": [],
   "source": [
    "df.describe(include=\"all\").transpose() # Inkluderer alle for å vise mer enn bare numeriske kolonner\n",
    "# Merk at .transpose() ikke er nødvendig, men jeg synes det gjør beskrivelsen lettere å lese"
   ]
  },
  {
   "cell_type": "code",
   "execution_count": null,
   "id": "fc6b7279-7f96-47b8-918f-fdcff78037a1",
   "metadata": {},
   "outputs": [],
   "source": [
    "df[\"day\"].value_counts()"
   ]
  },
  {
   "cell_type": "code",
   "execution_count": null,
   "id": "b538f51c-b5c7-4892-a791-553b29b71794",
   "metadata": {},
   "outputs": [],
   "source": [
    "sns.boxplot(x = \"day\", y = \"total_bill\", data = df).set_title(\"Seaborn\")\n",
    "\n",
    "px.box(df, x = \"day\", y = \"total_bill\", title = \"Plotly\")"
   ]
  },
  {
   "cell_type": "code",
   "execution_count": null,
   "id": "92662347-2db2-4490-9ba8-f77d769387df",
   "metadata": {},
   "outputs": [],
   "source": [
    "px.scatter(df, x = \"total_bill\", y = \"tip\")"
   ]
  },
  {
   "cell_type": "code",
   "execution_count": null,
   "id": "f60fcb2f-5fbc-4143-9575-91bb301941ce",
   "metadata": {},
   "outputs": [],
   "source": [
    "sns.regplot(x = \"total_bill\", y = \"tip\", data = df)"
   ]
  },
  {
   "cell_type": "markdown",
   "id": "06e867d4-ef20-42a4-8de0-487792a9cef1",
   "metadata": {},
   "source": [
    "#### Plotly eksempler"
   ]
  },
  {
   "cell_type": "code",
   "execution_count": null,
   "id": "aee860e1-3205-4a33-8828-57ed27cfdcbd",
   "metadata": {},
   "outputs": [],
   "source": [
    "px.bar(\n",
    "    df.groupby(\"sex\").sum().reset_index(),  # Dataframen som benyttes til figuren, man kan gjøre gruppering o.l. på den i samme linje\n",
    "    x = \"sex\",\n",
    "    y = \"total_bill\"\n",
    ")"
   ]
  },
  {
   "cell_type": "markdown",
   "id": "62cf6975-e9ce-42f2-a0fc-9f9d5551fb99",
   "metadata": {},
   "source": [
    "<a id='korrelasjonstester'></a>\n",
    "## Korrelasjonstester"
   ]
  },
  {
   "cell_type": "code",
   "execution_count": null,
   "id": "8d446b6e-e6b1-451b-870f-20496727762e",
   "metadata": {},
   "outputs": [],
   "source": [
    "df = px.data.tips() # Laster inn på nytt siden koden over lager mye støy"
   ]
  },
  {
   "cell_type": "code",
   "execution_count": null,
   "id": "ae83e8c4-cad0-4bdc-a465-1812309db17d",
   "metadata": {},
   "outputs": [],
   "source": [
    "pearson_coef, p_value = stats.pearsonr(df[\"total_bill\"], df[\"tip\"])\n",
    "pearson_coef, p_value"
   ]
  },
  {
   "cell_type": "code",
   "execution_count": null,
   "id": "dd440ef0-f089-422b-962a-f48f270dcfc9",
   "metadata": {},
   "outputs": [],
   "source": [
    "df.corr() # Kan visualiseres, se nedenfor"
   ]
  },
  {
   "cell_type": "code",
   "execution_count": null,
   "id": "d2b54084-40c5-4191-9e52-6a35cf80e8d5",
   "metadata": {},
   "outputs": [],
   "source": [
    "px.imshow(\n",
    "    df.corr(),\n",
    "    color_continuous_scale = \"rdbu\", # Foretrekker denne colorscalen, zmin/max på -1 og 1 gjør fargen mer intuitiv å lese\n",
    "    zmin = -1,\n",
    "    zmax = 1\n",
    ") # Skal kunne legge inn text_auto = True for å få tall i rutene, men fungerer ikke. Muligens for gammel versjon av plotly installert"
   ]
  },
  {
   "cell_type": "code",
   "execution_count": null,
   "id": "d1fc1ea1-583c-4831-8a52-dfc06524554f",
   "metadata": {},
   "outputs": [],
   "source": [
    "sns.heatmap(df.corr(), xticklabels = df.columns, yticklabels = df.columns, annot = True)"
   ]
  },
  {
   "cell_type": "markdown",
   "id": "97fadc20-cf05-4989-a12c-f1135e4f6d00",
   "metadata": {},
   "source": [
    "<a id='funksjoner'></a>\n",
    "## Funksjoner\n",
    "Mange måter å lage og bruke funksjoner. Det er god praksis at de dokumenteres i koden.\n",
    "- Standard formateringen av slik dokumentasjon kan finnes her: https://numpydoc.readthedocs.io/en/latest/format.html#docstring-standard\n"
   ]
  },
  {
   "cell_type": "code",
   "execution_count": null,
   "id": "ec172f58-8c8e-4207-90b2-263ae291dd99",
   "metadata": {},
   "outputs": [],
   "source": [
    "def prosent(df, a, b):\n",
    "    \"\"\"Lager en kolonne for prosent\n",
    "    Tar utgangspunkt i kolonne a og regner ut prosenten den utgjør av kolonne b\n",
    "    \n",
    "    Parameters\n",
    "    ----------\n",
    "    a\n",
    "        Kolonnen som inneholder deltall\n",
    "    b\n",
    "        Kolonnen som inneholder heltall\n",
    "    \n",
    "    Returns\n",
    "    -------\n",
    "    Dataframe med en ny kolonne som har utregnet prosent basert på kolonne a og b\n",
    "    \"\"\"\n",
    "    df[\"Prosent\"] = df[a]/df[b]\n",
    "    return df"
   ]
  },
  {
   "cell_type": "code",
   "execution_count": null,
   "id": "8f38141d-0569-4cfb-a674-07dba690b5c6",
   "metadata": {},
   "outputs": [],
   "source": [
    "help(prosent)"
   ]
  },
  {
   "cell_type": "code",
   "execution_count": null,
   "id": "b35fa806-81c4-4a00-a060-2c14a5b8b24d",
   "metadata": {},
   "outputs": [],
   "source": [
    "df = prosent(df, \"tip\", \"total_bill\")\n",
    "df"
   ]
  },
  {
   "cell_type": "markdown",
   "id": "b5b31f16-29ce-486f-8711-05034c3c98e8",
   "metadata": {},
   "source": [
    "### lambda"
   ]
  },
  {
   "cell_type": "code",
   "execution_count": null,
   "id": "69b5ab5f-d587-4eaf-9865-7747f248db9b",
   "metadata": {},
   "outputs": [],
   "source": [
    "a = lambda x: print(str(x) +\" er et partall\") if (x % 2) == 0 else print(str(x) +\" er et oddetall\")\n",
    "a(2)"
   ]
  },
  {
   "cell_type": "code",
   "execution_count": null,
   "id": "f4261a9b-5ba1-4385-a127-561cb648df4a",
   "metadata": {},
   "outputs": [],
   "source": [
    "# Oppretter ny kolone med lambda\n",
    "df.assign(Prosent = lambda x: x[\"tip\"] / x[\"total_bill\"])"
   ]
  },
  {
   "cell_type": "code",
   "execution_count": null,
   "id": "6150fb7c-841f-43ef-8769-dfc1b1e45ce9",
   "metadata": {},
   "outputs": [],
   "source": [
    "# Oppretter ny kolonne basert på betingelser med lambda\n",
    "df[\"kjønn_kode\"] = df.apply(lambda x: \"M\" if x.sex != \"Female\" else \"F\", axis = 1)"
   ]
  },
  {
   "cell_type": "markdown",
   "id": "1179741d-561a-4fda-beec-13d2805acb9a",
   "metadata": {},
   "source": [
    "### Ferdige funksjoner"
   ]
  },
  {
   "cell_type": "code",
   "execution_count": null,
   "id": "26f27d8b-2dc3-4bd3-8ae7-46e2b4d7c788",
   "metadata": {},
   "outputs": [],
   "source": [
    "# Sortering av driftsstørrelser, gjør at man kan summere kolonnen og få vite hvor mange som har den driftsstørrelsen\n",
    "\n",
    "def gruppering(df, dictionary, kolonnenavn = None):\n",
    "    if kolonnenavn == None:\n",
    "        for i in dictionary[\"grupper\"]:\n",
    "            df.loc[(df[dictionary[\"variabelnavn\"]] > dictionary[\"grupper\"][i][0]) & (df[dictionary[\"variabelnavn\"]] < dictionary[\"grupper\"][i][1]), i] = 1\n",
    "        return df\n",
    "    else:\n",
    "        for i in dictionary[\"grupper\"]:\n",
    "            df.loc[(df[dictionary[\"variabelnavn\"]] > dictionary[\"grupper\"][i][0]) & (df[dictionary[\"variabelnavn\"]] < dictionary[\"grupper\"][i][1]), kolonnenavn] = i\n",
    "        return df\n",
    "\n",
    "\n",
    "størrelsesgrupper = {\n",
    "    \"variabelnavn\": \"drift\",  # Endre denne til navn på areal i drift variabelen\n",
    "    \"grupper\": {\n",
    "        \"0 dekar\": [float('-inf'), 0.99],\n",
    "        \"1 - 4 dekar\": [1, 4.99],\n",
    "        \"5 - 49 dekar\": [5, 49.99],\n",
    "        \"50 - 99 dekar\": [50, 99.99],\n",
    "        \"100 - 199 dekar\": [100, 199.99],\n",
    "        \"200 - 299 dekar\": [200, 299.99],\n",
    "        \"300 - 499 dekar\": [300, 499.99],\n",
    "        \"500 dekar og mer\": [500, float('inf')]\n",
    "    }\n",
    "}\n",
    "df = gruppering(df, størrelsesgrupper) # Lager 1 kolonne per gruppe med 1 som verdi i gruppen raden tilhører\n",
    "df = gruppering(df, størrelsesgrupper, \"størrelsesgruppe - drift\") # Lager 1 kolonne for alle gruppene med merkelappen som verdi i kolonnen"
   ]
  },
  {
   "cell_type": "code",
   "execution_count": null,
   "id": "1833d1c4-faaa-4a74-8029-6ccfd7912a38",
   "metadata": {},
   "outputs": [],
   "source": [
    "\"\"\" For å sammenligne to dataframes kan man bruke funksjonen nedenfor. \n",
    "\"\"\"\n",
    "def sammenligning(a, b):\n",
    "    liste = df.columns.drop(set(a.columns) - set(b.columns))\n",
    "    print(\"Sammenligner kolonner i dataframes\")\n",
    "    for i in a.columns:\n",
    "        if i not in liste:\n",
    "            print(str(i) + \" er ikke i a\")\n",
    "    for i in b.columns:\n",
    "        if i not in liste:\n",
    "            print(str(i) + \" er ikke i b\")\n",
    "    print()\n",
    "    print(\"Differanser i kolonneverdi for delte kolonner\")\n",
    "    count = 0\n",
    "    for i in liste:\n",
    "        if df[i].dtype == float:\n",
    "            if df[i].sum() - dff[i].sum() != 0:\n",
    "                print(str(i))\n",
    "                print(df[i].sum() - dff[i].sum())\n",
    "                count = count+1\n",
    "    print(\"Forskjellig kolonneverdi i \" + str(count) + \" kolonner\")\n",
    "\n",
    "sammenligning(df, df_du_skal_sammenligne)"
   ]
  },
  {
   "cell_type": "markdown",
   "id": "7ce9b150-4c8f-4477-80d2-c8eadb888ae8",
   "metadata": {},
   "source": [
    "<a id='tips'></a>\n",
    "\n",
    "## Notebook tips\n",
    "\n",
    "Om du se datasettet i notebooken er det praktisk å bruke .head() eller .tail() for å unngå at tabellene blir for lange.\n",
    "\n",
    "Bruk git knappen aktivt.\n",
    "Hvis du jevnlig kommenterer tanken bak endringene du gjør via git knappen og lagrer de med \"COMMIT\"-knappen blir det generert veldig mye dokumentasjon. Det blir også lett å finne tilbake til versjoner av programmet som fungerte om noe skulle gå galt.\n",
    "\n",
    "Om du er usikker på hva du har endret siden sist kan du bruke git knappen øverst eller gå på sidepanelet for git og klikke på \"History\" for å se tidligere versjoner av notebooken sammen med tilhørende kommentar\n",
    "\n",
    "Du kan lage klikkbare lenker i notebooks.\n",
    "For å lage en lenke legger du inn denne koden i en markdown celle:\n",
    "~~~\n",
    "[To some Internal Section](#section_id)\n",
    "~~~\n",
    "Og denne koden der du vil at lenken skal føre:\n",
    "~~~\n",
    "<a id='section_id'></a>\n",
    "~~~\n",
    "\n",
    "Dobbeltklikk på denne cellen for å se et eksempel"
   ]
  },
  {
   "cell_type": "markdown",
   "id": "fdb2d882-b428-4777-aa14-5b6fbdc8079a",
   "metadata": {},
   "source": [
    "## [Til toppen](#toppen)"
   ]
  },
  {
   "cell_type": "code",
   "execution_count": null,
   "id": "305e4209-3fa9-42bb-904f-d3975dbb7e3f",
   "metadata": {},
   "outputs": [],
   "source": []
  }
 ],
 "metadata": {
  "language_info": {
   "codemirror_mode": {
    "name": "ipython"
   },
   "file_extension": ".py",
   "mimetype": "text/x-python",
   "name": "python",
   "nbconvert_exporter": "python"
  }
 },
 "nbformat": 4,
 "nbformat_minor": 5
}
