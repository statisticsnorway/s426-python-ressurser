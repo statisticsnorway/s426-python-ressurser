{
 "cells": [
  {
   "cell_type": "code",
   "execution_count": null,
   "id": "7dede587-bffa-4ddf-b758-bccccae9d3c9",
   "metadata": {},
   "outputs": [],
   "source": [
    "#"
   ]
  },
  {
   "cell_type": "markdown",
   "id": "51c0f795-c6da-418c-a72a-fa43e434d37b",
   "metadata": {},
   "source": [
    "## Kommuner\n",
    "Fungerer i prodsonen, fungerer ikke på Dapla enda (10.11.2022)"
   ]
  },
  {
   "cell_type": "code",
   "execution_count": null,
   "id": "ff37b765-b662-480f-9cdc-3c3c85671700",
   "metadata": {},
   "outputs": [],
   "source": [
    "import pandas as pd\n",
    "import requests\n",
    "import json\n",
    "from io import StringIO \n",
    "from pyjstat import pyjstat\n",
    "import urllib.request, json"
   ]
  },
  {
   "cell_type": "code",
   "execution_count": null,
   "id": "b6b4ccd3-3f45-4c13-81a8-0f5bede4c565",
   "metadata": {},
   "outputs": [],
   "source": [
    "url = 'http://data.ssb.no/api/klass/v1/classifications/131/codesAt.json?date=2021-01-19&presentationNamePattern=%7Bcode%7D%20%7Bname%7D'\n",
    "kommuner = pd.read_json(url)['codes']\n",
    "kommuner = pd.json_normalize(kommuner)\n",
    "kommuner = kommuner.rename(columns={\n",
    "    'code': 'Kommunenummer',\n",
    "    'name': 'Kommunenavn',\n",
    "    'presentationName': 'Kommune'\n",
    "})\n",
    "kommuner = kommuner[[\"Kommunenummer\", \"Kommunenavn\", \"Kommune\"]]\n",
    "kommuner"
   ]
  },
  {
   "cell_type": "code",
   "execution_count": null,
   "id": "3a577bba-d414-488f-a67e-71725d18f5eb",
   "metadata": {},
   "outputs": [],
   "source": []
  }
 ],
 "metadata": {
  "language_info": {
   "codemirror_mode": {
    "name": "ipython"
   },
   "file_extension": ".py",
   "mimetype": "text/x-python",
   "name": "python",
   "nbconvert_exporter": "python"
  }
 },
 "nbformat": 4,
 "nbformat_minor": 5
}
