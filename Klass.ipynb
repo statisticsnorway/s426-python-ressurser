{
 "cells": [
  {
   "cell_type": "code",
   "execution_count": null,
   "id": "7dede587-bffa-4ddf-b758-bccccae9d3c9",
   "metadata": {},
   "outputs": [],
   "source": [
    "#"
   ]
  },
  {
   "cell_type": "markdown",
   "id": "51c0f795-c6da-418c-a72a-fa43e434d37b",
   "metadata": {},
   "source": [
    "## Kommuner\n",
    "Fungerer i prodsonen, fungerer ikke på Dapla enda (10.11.2022)"
   ]
  },
  {
   "cell_type": "raw",
   "id": "dfb0e503-bc31-48af-a102-744c75544c38",
   "metadata": {},
   "source": [
    "import pandas as pd\n",
    "import requests\n",
    "import json\n",
    "from io import StringIO \n",
    "from pyjstat import pyjstat\n",
    "import urllib.request, json"
   ]
  },
  {
   "cell_type": "code",
   "execution_count": null,
   "id": "45087ed8-a6ca-46f2-8e7d-5688f346b879",
   "metadata": {},
   "outputs": [],
   "source": [
    "from Klass import hent_klass_data"
   ]
  },
  {
   "cell_type": "code",
   "execution_count": null,
   "id": "3a577bba-d414-488f-a67e-71725d18f5eb",
   "metadata": {},
   "outputs": [],
   "source": [
    "hent_klass_data(\n",
    "    klassifikasjonsliste = \"kommune\"\n",
    ")\n",
    "\n",
    "hent_klass_data(\n",
    "    klassifikasjonsliste = \"fylke\"\n",
    ")\n",
    "\n",
    "#  Du kan legge inn argumentet lagringsplass = \"\" for å lagre json filen i samme mappe som notebook kjører i.\n",
    "#  Standarden er at json filen lagres i en mappe som heter \"Metadata\".\n",
    "#  Du kan også lagre til valgfri filsti med lagringsplass = \"filsti/\""
   ]
  },
  {
   "cell_type": "code",
   "execution_count": null,
   "id": "d150dfa9-1797-4422-99d2-801e49c003eb",
   "metadata": {},
   "outputs": [],
   "source": []
  }
 ],
 "metadata": {
  "language_info": {
   "codemirror_mode": {
    "name": "ipython"
   },
   "file_extension": ".py",
   "mimetype": "text/x-python",
   "name": "python",
   "nbconvert_exporter": "python"
  }
 },
 "nbformat": 4,
 "nbformat_minor": 5
}
