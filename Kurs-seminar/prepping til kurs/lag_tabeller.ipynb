{
 "cells": [
  {
   "cell_type": "code",
   "execution_count": null,
   "id": "eed2774b-ab59-42a3-86f1-9b8f468c55d5",
   "metadata": {},
   "outputs": [],
   "source": [
    "import cx_Oracle\n",
    "import getpass\n",
    "import pandas as pd\n",
    "import os\n",
    "db = cx_Oracle.connect(os.environ.get(\"USER\"),getpass.getpass(), \"DB1P\")"
   ]
  },
  {
   "cell_type": "code",
   "execution_count": null,
   "id": "e8ca6609-a700-452b-8945-bcaa575f94e5",
   "metadata": {},
   "outputs": [],
   "source": [
    "ma_bygning = pd.read_sql(\"SELECT KOMMUNENR, ID, BYGNINGSTYPE, BYGNINGSSTATUS, BRUKSAREAL_TOTALT FROM POP_GAB.BYGG WHERE UTGAATT_DATO_SSB IS NULL AND KOMMUNENR = '3401' AND BYGNINGSTYPE IN ('161','162','163')\", con=db)\n",
    "ma_bygning"
   ]
  },
  {
   "cell_type": "code",
   "execution_count": null,
   "id": "600f02b4-f51b-4b80-a096-cdf067ac5e51",
   "metadata": {},
   "outputs": [],
   "source": [
    "byggdato = pd.read_sql(\"SELECT ID, TATTIBRUK_DATO FROM POP_GAB.BYGG WHERE UTGAATT_DATO_SSB IS NULL AND KOMMUNENR = '3401' AND BYGNINGSTYPE IN ('161','162','163')\", con=db)\n",
    "byggdato"
   ]
  },
  {
   "cell_type": "code",
   "execution_count": null,
   "id": "f88d9cc1-b63b-4af5-b2dc-d90872532b31",
   "metadata": {},
   "outputs": [],
   "source": [
    "ma_bygning.to_csv('bygg_kongsvinger.csv', index = False)\n",
    "byggdato.to_csv('byggdato_kongsvinger.csv', index = False)"
   ]
  },
  {
   "cell_type": "code",
   "execution_count": null,
   "id": "072a4c45-f8cd-4b0d-b141-339e3ddf2fe2",
   "metadata": {},
   "outputs": [],
   "source": [
    "pd.read_csv('byggdato_kongsvinger.csv')"
   ]
  }
 ],
 "metadata": {
  "language_info": {
   "codemirror_mode": {
    "name": "ipython"
   },
   "file_extension": ".py",
   "mimetype": "text/x-python",
   "name": "python",
   "nbconvert_exporter": "python"
  }
 },
 "nbformat": 4,
 "nbformat_minor": 5
}
