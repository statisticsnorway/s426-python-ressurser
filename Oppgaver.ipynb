{
 "cells": [
  {
   "cell_type": "markdown",
   "id": "e3a7a850-6e05-47c6-9ebc-9f05e755fc12",
   "metadata": {},
   "source": [
    "# Oppgaver :)"
   ]
  },
  {
   "cell_type": "markdown",
   "id": "79e66e09-c64c-4e78-8898-fddc0fa7dd46",
   "metadata": {},
   "source": [
    "### 1) Importér pandas"
   ]
  },
  {
   "cell_type": "code",
   "execution_count": null,
   "id": "ad62a053-231e-4d8e-9aca-330591ddc2f6",
   "metadata": {},
   "outputs": [],
   "source": []
  },
  {
   "cell_type": "markdown",
   "id": "db5bb490-a004-491c-8374-391be147dab5",
   "metadata": {},
   "source": [
    "### 2) Importér datasett. \n",
    "Det ligger på '/ssb/bruker/felles/python_innforing/bygg_kongsvinger.csv'"
   ]
  },
  {
   "cell_type": "code",
   "execution_count": null,
   "id": "fd2ae30a-1f59-4ea7-b8ee-f648ea661a74",
   "metadata": {},
   "outputs": [],
   "source": []
  },
  {
   "cell_type": "markdown",
   "id": "9326c371-4877-43ff-8699-582b80188bde",
   "metadata": {},
   "source": [
    "### 3) Sortér datasett etter bygningsstatus"
   ]
  },
  {
   "cell_type": "code",
   "execution_count": null,
   "id": "79dc416c-5a6d-4e2b-8d97-c1b70608bdb7",
   "metadata": {},
   "outputs": [],
   "source": []
  },
  {
   "cell_type": "markdown",
   "id": "4de07755-37de-4769-be7c-dd913ec0f574",
   "metadata": {},
   "source": [
    "### 4) "
   ]
  }
 ],
 "metadata": {
  "language_info": {
   "codemirror_mode": {
    "name": "ipython"
   },
   "file_extension": ".py",
   "mimetype": "text/x-python",
   "name": "python",
   "nbconvert_exporter": "python"
  }
 },
 "nbformat": 4,
 "nbformat_minor": 5
}
