{
 "cells": [
  {
   "cell_type": "markdown",
   "id": "e3a7a850-6e05-47c6-9ebc-9f05e755fc12",
   "metadata": {},
   "source": [
    "# Oppgaver :)"
   ]
  },
  {
   "cell_type": "markdown",
   "id": "79e66e09-c64c-4e78-8898-fddc0fa7dd46",
   "metadata": {},
   "source": [
    "#### 1) Importér pandas\n",
    "Kall pakken for \"pd\" slik at du kan referere til den med dette navnet framover."
   ]
  },
  {
   "cell_type": "code",
   "execution_count": 2,
   "id": "ad62a053-231e-4d8e-9aca-330591ddc2f6",
   "metadata": {},
   "outputs": [],
   "source": [
    "import pandas as pd"
   ]
  },
  {
   "cell_type": "code",
   "execution_count": 3,
   "id": "c143295b-f5bd-4b29-8cd5-ef4e5314d8a0",
   "metadata": {},
   "outputs": [
    {
     "name": "stdout",
     "output_type": "stream",
     "text": [
      "<module 'pandas' from '/opt/conda/lib/python3.10/site-packages/pandas/__init__.py'>\n"
     ]
    }
   ],
   "source": [
    "#For å sjekke om pakken er importert, kjør denne snutten. Om den er importert, skal du få versjonsnummeret opp\n",
    "print(pd)"
   ]
  },
  {
   "cell_type": "markdown",
   "id": "db5bb490-a004-491c-8374-391be147dab5",
   "metadata": {},
   "source": [
    "#### 2) Importér datasett fra csv til pandas-datasett\n",
    "Sørg først for å få lastet opp csv-filen (\"S:\\Organisasjon\\A400\\S426\\Felles\\Diverse samordning\\seksjonsseminar_python_data\\bygg_kongsvinger.csv\") til Dapla og legg den inn i mappen \"s426-python-ressurser\". \\\n",
    "Print deretter ut datasettet."
   ]
  },
  {
   "cell_type": "code",
   "execution_count": 4,
   "id": "2815eea6-8876-4ea7-b4a6-c514d12ea349",
   "metadata": {},
   "outputs": [
    {
     "data": {
      "text/html": [
       "<div>\n",
       "<style scoped>\n",
       "    .dataframe tbody tr th:only-of-type {\n",
       "        vertical-align: middle;\n",
       "    }\n",
       "\n",
       "    .dataframe tbody tr th {\n",
       "        vertical-align: top;\n",
       "    }\n",
       "\n",
       "    .dataframe thead th {\n",
       "        text-align: right;\n",
       "    }\n",
       "</style>\n",
       "<table border=\"1\" class=\"dataframe\">\n",
       "  <thead>\n",
       "    <tr style=\"text-align: right;\">\n",
       "      <th></th>\n",
       "      <th>KOMMUNENR</th>\n",
       "      <th>ID</th>\n",
       "      <th>BYGNINGSTYPE</th>\n",
       "      <th>BYGNINGSSTATUS</th>\n",
       "      <th>BRUKSAREAL_TOTALT</th>\n",
       "    </tr>\n",
       "  </thead>\n",
       "  <tbody>\n",
       "    <tr>\n",
       "      <th>0</th>\n",
       "      <td>3401</td>\n",
       "      <td>110292668</td>\n",
       "      <td>162</td>\n",
       "      <td>TB</td>\n",
       "      <td>38</td>\n",
       "    </tr>\n",
       "    <tr>\n",
       "      <th>1</th>\n",
       "      <td>3401</td>\n",
       "      <td>110333185</td>\n",
       "      <td>163</td>\n",
       "      <td>TB</td>\n",
       "      <td>86</td>\n",
       "    </tr>\n",
       "    <tr>\n",
       "      <th>2</th>\n",
       "      <td>3401</td>\n",
       "      <td>110311393</td>\n",
       "      <td>161</td>\n",
       "      <td>TB</td>\n",
       "      <td>16</td>\n",
       "    </tr>\n",
       "    <tr>\n",
       "      <th>3</th>\n",
       "      <td>3401</td>\n",
       "      <td>110214648</td>\n",
       "      <td>161</td>\n",
       "      <td>TB</td>\n",
       "      <td>49</td>\n",
       "    </tr>\n",
       "    <tr>\n",
       "      <th>4</th>\n",
       "      <td>3401</td>\n",
       "      <td>110293747</td>\n",
       "      <td>161</td>\n",
       "      <td>TB</td>\n",
       "      <td>29</td>\n",
       "    </tr>\n",
       "    <tr>\n",
       "      <th>5</th>\n",
       "      <td>3401</td>\n",
       "      <td>110321418</td>\n",
       "      <td>161</td>\n",
       "      <td>TB</td>\n",
       "      <td>33</td>\n",
       "    </tr>\n",
       "    <tr>\n",
       "      <th>6</th>\n",
       "      <td>3401</td>\n",
       "      <td>110299634</td>\n",
       "      <td>161</td>\n",
       "      <td>TB</td>\n",
       "      <td>57</td>\n",
       "    </tr>\n",
       "    <tr>\n",
       "      <th>7</th>\n",
       "      <td>3401</td>\n",
       "      <td>110245548</td>\n",
       "      <td>161</td>\n",
       "      <td>TB</td>\n",
       "      <td>39</td>\n",
       "    </tr>\n",
       "    <tr>\n",
       "      <th>8</th>\n",
       "      <td>3401</td>\n",
       "      <td>110228624</td>\n",
       "      <td>161</td>\n",
       "      <td>TB</td>\n",
       "      <td>20</td>\n",
       "    </tr>\n",
       "    <tr>\n",
       "      <th>9</th>\n",
       "      <td>3401</td>\n",
       "      <td>110207646</td>\n",
       "      <td>161</td>\n",
       "      <td>TB</td>\n",
       "      <td>38</td>\n",
       "    </tr>\n",
       "    <tr>\n",
       "      <th>10</th>\n",
       "      <td>3401</td>\n",
       "      <td>110334187</td>\n",
       "      <td>161</td>\n",
       "      <td>TB</td>\n",
       "      <td>75</td>\n",
       "    </tr>\n",
       "  </tbody>\n",
       "</table>\n",
       "</div>"
      ],
      "text/plain": [
       "    KOMMUNENR         ID  BYGNINGSTYPE BYGNINGSSTATUS  BRUKSAREAL_TOTALT\n",
       "0        3401  110292668           162             TB                 38\n",
       "1        3401  110333185           163             TB                 86\n",
       "2        3401  110311393           161             TB                 16\n",
       "3        3401  110214648           161             TB                 49\n",
       "4        3401  110293747           161             TB                 29\n",
       "5        3401  110321418           161             TB                 33\n",
       "6        3401  110299634           161             TB                 57\n",
       "7        3401  110245548           161             TB                 39\n",
       "8        3401  110228624           161             TB                 20\n",
       "9        3401  110207646           161             TB                 38\n",
       "10       3401  110334187           161             TB                 75"
      ]
     },
     "execution_count": 4,
     "metadata": {},
     "output_type": "execute_result"
    }
   ],
   "source": [
    "bygg = pd.read_csv(\"bygg_kongsvinger.csv\")\n",
    "bygg.head(15)"
   ]
  },
  {
   "cell_type": "markdown",
   "id": "b456b223-13be-42ed-bf03-6420f9fac9ea",
   "metadata": {},
   "source": [
    "#### 3) Utforsk datasett med enkel deskriptiv statistikk\n",
    "Skriv ut deskriptiv statistikk: f. eks. gjennomsnitt, antall rader og median. Dette er mest interessant for bruksareal. \\\n",
    "Her kan det også være ønskelig å skrive ut den deskriptive statistikken gruppert på en annen kategorisk variabel (for eksempel bygningstype) slik at vi får et gjennomsnitt, antall rader og median for hver gruppe."
   ]
  },
  {
   "cell_type": "code",
   "execution_count": 17,
   "id": "06b4981f-7f38-48c5-af7e-2b598612eb2d",
   "metadata": {},
   "outputs": [
    {
     "data": {
      "text/plain": [
       "count    1323.000000\n",
       "mean       65.105064\n",
       "std        40.944137\n",
       "min         0.000000\n",
       "25%        40.000000\n",
       "50%        56.000000\n",
       "75%        81.500000\n",
       "max       370.000000\n",
       "Name: BRUKSAREAL_TOTALT, dtype: float64"
      ]
     },
     "execution_count": 17,
     "metadata": {},
     "output_type": "execute_result"
    }
   ],
   "source": [
    "#bygg['BRUKSAREAL_TOTALT'].describe()\n",
    "#bygg.groupby('BYGNINGSTYPE')['BRUKSAREAL_TOTALT'].describe().transpose ()#"
   ]
  },
  {
   "cell_type": "markdown",
   "id": "9326c371-4877-43ff-8699-582b80188bde",
   "metadata": {},
   "source": [
    "#### 4) Sortér datasett etter bygningstype"
   ]
  },
  {
   "cell_type": "code",
   "execution_count": 20,
   "id": "79dc416c-5a6d-4e2b-8d97-c1b70608bdb7",
   "metadata": {},
   "outputs": [
    {
     "data": {
      "text/html": [
       "<div>\n",
       "<style scoped>\n",
       "    .dataframe tbody tr th:only-of-type {\n",
       "        vertical-align: middle;\n",
       "    }\n",
       "\n",
       "    .dataframe tbody tr th {\n",
       "        vertical-align: top;\n",
       "    }\n",
       "\n",
       "    .dataframe thead th {\n",
       "        text-align: right;\n",
       "    }\n",
       "</style>\n",
       "<table border=\"1\" class=\"dataframe\">\n",
       "  <thead>\n",
       "    <tr style=\"text-align: right;\">\n",
       "      <th></th>\n",
       "      <th>KOMMUNENR</th>\n",
       "      <th>ID</th>\n",
       "      <th>BYGNINGSTYPE</th>\n",
       "      <th>BYGNINGSSTATUS</th>\n",
       "      <th>BRUKSAREAL_TOTALT</th>\n",
       "    </tr>\n",
       "  </thead>\n",
       "  <tbody>\n",
       "    <tr>\n",
       "      <th>661</th>\n",
       "      <td>3401</td>\n",
       "      <td>110210221</td>\n",
       "      <td>161</td>\n",
       "      <td>TB</td>\n",
       "      <td>29</td>\n",
       "    </tr>\n",
       "    <tr>\n",
       "      <th>811</th>\n",
       "      <td>3401</td>\n",
       "      <td>110322622</td>\n",
       "      <td>161</td>\n",
       "      <td>TB</td>\n",
       "      <td>22</td>\n",
       "    </tr>\n",
       "    <tr>\n",
       "      <th>812</th>\n",
       "      <td>3401</td>\n",
       "      <td>110294291</td>\n",
       "      <td>161</td>\n",
       "      <td>TB</td>\n",
       "      <td>0</td>\n",
       "    </tr>\n",
       "    <tr>\n",
       "      <th>814</th>\n",
       "      <td>3401</td>\n",
       "      <td>110226473</td>\n",
       "      <td>161</td>\n",
       "      <td>TB</td>\n",
       "      <td>62</td>\n",
       "    </tr>\n",
       "    <tr>\n",
       "      <th>815</th>\n",
       "      <td>3401</td>\n",
       "      <td>523597737</td>\n",
       "      <td>161</td>\n",
       "      <td>FA</td>\n",
       "      <td>54</td>\n",
       "    </tr>\n",
       "    <tr>\n",
       "      <th>...</th>\n",
       "      <td>...</td>\n",
       "      <td>...</td>\n",
       "      <td>...</td>\n",
       "      <td>...</td>\n",
       "      <td>...</td>\n",
       "    </tr>\n",
       "    <tr>\n",
       "      <th>337</th>\n",
       "      <td>3401</td>\n",
       "      <td>110199446</td>\n",
       "      <td>163</td>\n",
       "      <td>TB</td>\n",
       "      <td>160</td>\n",
       "    </tr>\n",
       "    <tr>\n",
       "      <th>340</th>\n",
       "      <td>3401</td>\n",
       "      <td>110332583</td>\n",
       "      <td>163</td>\n",
       "      <td>TB</td>\n",
       "      <td>95</td>\n",
       "    </tr>\n",
       "    <tr>\n",
       "      <th>346</th>\n",
       "      <td>3401</td>\n",
       "      <td>110323133</td>\n",
       "      <td>163</td>\n",
       "      <td>TB</td>\n",
       "      <td>210</td>\n",
       "    </tr>\n",
       "    <tr>\n",
       "      <th>1209</th>\n",
       "      <td>3401</td>\n",
       "      <td>110307078</td>\n",
       "      <td>163</td>\n",
       "      <td>TB</td>\n",
       "      <td>258</td>\n",
       "    </tr>\n",
       "    <tr>\n",
       "      <th>570</th>\n",
       "      <td>3401</td>\n",
       "      <td>110327271</td>\n",
       "      <td>163</td>\n",
       "      <td>TB</td>\n",
       "      <td>110</td>\n",
       "    </tr>\n",
       "  </tbody>\n",
       "</table>\n",
       "<p>1323 rows × 5 columns</p>\n",
       "</div>"
      ],
      "text/plain": [
       "      KOMMUNENR         ID  BYGNINGSTYPE BYGNINGSSTATUS  BRUKSAREAL_TOTALT\n",
       "661        3401  110210221           161             TB                 29\n",
       "811        3401  110322622           161             TB                 22\n",
       "812        3401  110294291           161             TB                  0\n",
       "814        3401  110226473           161             TB                 62\n",
       "815        3401  523597737           161             FA                 54\n",
       "...         ...        ...           ...            ...                ...\n",
       "337        3401  110199446           163             TB                160\n",
       "340        3401  110332583           163             TB                 95\n",
       "346        3401  110323133           163             TB                210\n",
       "1209       3401  110307078           163             TB                258\n",
       "570        3401  110327271           163             TB                110\n",
       "\n",
       "[1323 rows x 5 columns]"
      ]
     },
     "execution_count": 20,
     "metadata": {},
     "output_type": "execute_result"
    }
   ],
   "source": [
    "bygg.sort_values (by =['BYGNINGSTYPE'])"
   ]
  },
  {
   "cell_type": "markdown",
   "id": "aed67ab1-3438-495c-a690-fd6c24d0f03d",
   "metadata": {},
   "source": [
    "#### 5) Endre navn på kolonne\n",
    "Vi synes bygningsstatus er litt langt. Derfor kan vi endre navn på denne til bare \"status\". Print datasettet for å sjekke om kolonnen faktisk endret navn."
   ]
  },
  {
   "cell_type": "code",
   "execution_count": 26,
   "id": "f7a43ab5-b16d-4d12-9061-1a46f1dae05a",
   "metadata": {},
   "outputs": [
    {
     "data": {
      "text/html": [
       "<div>\n",
       "<style scoped>\n",
       "    .dataframe tbody tr th:only-of-type {\n",
       "        vertical-align: middle;\n",
       "    }\n",
       "\n",
       "    .dataframe tbody tr th {\n",
       "        vertical-align: top;\n",
       "    }\n",
       "\n",
       "    .dataframe thead th {\n",
       "        text-align: right;\n",
       "    }\n",
       "</style>\n",
       "<table border=\"1\" class=\"dataframe\">\n",
       "  <thead>\n",
       "    <tr style=\"text-align: right;\">\n",
       "      <th></th>\n",
       "      <th>KOMMUNENR</th>\n",
       "      <th>ID</th>\n",
       "      <th>BYGNINGSTYPE</th>\n",
       "      <th>STATUS</th>\n",
       "      <th>BRUKSAREAL_TOTALT</th>\n",
       "    </tr>\n",
       "  </thead>\n",
       "  <tbody>\n",
       "    <tr>\n",
       "      <th>0</th>\n",
       "      <td>3401</td>\n",
       "      <td>110292668</td>\n",
       "      <td>162</td>\n",
       "      <td>TB</td>\n",
       "      <td>38</td>\n",
       "    </tr>\n",
       "    <tr>\n",
       "      <th>1</th>\n",
       "      <td>3401</td>\n",
       "      <td>110333185</td>\n",
       "      <td>163</td>\n",
       "      <td>TB</td>\n",
       "      <td>86</td>\n",
       "    </tr>\n",
       "    <tr>\n",
       "      <th>2</th>\n",
       "      <td>3401</td>\n",
       "      <td>110311393</td>\n",
       "      <td>161</td>\n",
       "      <td>TB</td>\n",
       "      <td>16</td>\n",
       "    </tr>\n",
       "    <tr>\n",
       "      <th>3</th>\n",
       "      <td>3401</td>\n",
       "      <td>110214648</td>\n",
       "      <td>161</td>\n",
       "      <td>TB</td>\n",
       "      <td>49</td>\n",
       "    </tr>\n",
       "    <tr>\n",
       "      <th>4</th>\n",
       "      <td>3401</td>\n",
       "      <td>110293747</td>\n",
       "      <td>161</td>\n",
       "      <td>TB</td>\n",
       "      <td>29</td>\n",
       "    </tr>\n",
       "    <tr>\n",
       "      <th>...</th>\n",
       "      <td>...</td>\n",
       "      <td>...</td>\n",
       "      <td>...</td>\n",
       "      <td>...</td>\n",
       "      <td>...</td>\n",
       "    </tr>\n",
       "    <tr>\n",
       "      <th>1318</th>\n",
       "      <td>3401</td>\n",
       "      <td>110295594</td>\n",
       "      <td>163</td>\n",
       "      <td>TB</td>\n",
       "      <td>121</td>\n",
       "    </tr>\n",
       "    <tr>\n",
       "      <th>1319</th>\n",
       "      <td>3401</td>\n",
       "      <td>110261640</td>\n",
       "      <td>161</td>\n",
       "      <td>TB</td>\n",
       "      <td>73</td>\n",
       "    </tr>\n",
       "    <tr>\n",
       "      <th>1320</th>\n",
       "      <td>3401</td>\n",
       "      <td>110259903</td>\n",
       "      <td>161</td>\n",
       "      <td>TB</td>\n",
       "      <td>22</td>\n",
       "    </tr>\n",
       "    <tr>\n",
       "      <th>1321</th>\n",
       "      <td>3401</td>\n",
       "      <td>110230672</td>\n",
       "      <td>161</td>\n",
       "      <td>TB</td>\n",
       "      <td>99</td>\n",
       "    </tr>\n",
       "    <tr>\n",
       "      <th>1322</th>\n",
       "      <td>3401</td>\n",
       "      <td>110226491</td>\n",
       "      <td>161</td>\n",
       "      <td>TB</td>\n",
       "      <td>40</td>\n",
       "    </tr>\n",
       "  </tbody>\n",
       "</table>\n",
       "<p>1323 rows × 5 columns</p>\n",
       "</div>"
      ],
      "text/plain": [
       "      KOMMUNENR         ID  BYGNINGSTYPE STATUS  BRUKSAREAL_TOTALT\n",
       "0          3401  110292668           162     TB                 38\n",
       "1          3401  110333185           163     TB                 86\n",
       "2          3401  110311393           161     TB                 16\n",
       "3          3401  110214648           161     TB                 49\n",
       "4          3401  110293747           161     TB                 29\n",
       "...         ...        ...           ...    ...                ...\n",
       "1318       3401  110295594           163     TB                121\n",
       "1319       3401  110261640           161     TB                 73\n",
       "1320       3401  110259903           161     TB                 22\n",
       "1321       3401  110230672           161     TB                 99\n",
       "1322       3401  110226491           161     TB                 40\n",
       "\n",
       "[1323 rows x 5 columns]"
      ]
     },
     "execution_count": 26,
     "metadata": {},
     "output_type": "execute_result"
    }
   ],
   "source": [
    "bygg = bygg.rename(columns={\"BYGNINGSSTATUS\" : \"STATUS\"})\n",
    "bygg"
   ]
  },
  {
   "cell_type": "markdown",
   "id": "4de07755-37de-4769-be7c-dd913ec0f574",
   "metadata": {
    "tags": []
   },
   "source": [
    "#### 6) Filtrér datasett\n",
    "##### a) Lag et nytt datasett som heter \"igangsatte_bygg\" hvor bare bygg med igangsatt-status (IG) kommer med.\n",
    "##### b) I datasettet igangsatte_bygg vil vi kun ha med kolonnene ID, BYGNINGSTYPE og BRUKSAREAL_TOTALT."
   ]
  },
  {
   "cell_type": "code",
   "execution_count": 34,
   "id": "66420d6e-7a1d-4f7f-ab3e-fdc64040056d",
   "metadata": {},
   "outputs": [
    {
     "data": {
      "text/html": [
       "<div>\n",
       "<style scoped>\n",
       "    .dataframe tbody tr th:only-of-type {\n",
       "        vertical-align: middle;\n",
       "    }\n",
       "\n",
       "    .dataframe tbody tr th {\n",
       "        vertical-align: top;\n",
       "    }\n",
       "\n",
       "    .dataframe thead th {\n",
       "        text-align: right;\n",
       "    }\n",
       "</style>\n",
       "<table border=\"1\" class=\"dataframe\">\n",
       "  <thead>\n",
       "    <tr style=\"text-align: right;\">\n",
       "      <th></th>\n",
       "      <th>ID</th>\n",
       "      <th>BYGNINGSTYPE</th>\n",
       "      <th>BRUKSAREAL_TOTALT</th>\n",
       "    </tr>\n",
       "  </thead>\n",
       "  <tbody>\n",
       "    <tr>\n",
       "      <th>11</th>\n",
       "      <td>6405143090</td>\n",
       "      <td>161</td>\n",
       "      <td>130</td>\n",
       "    </tr>\n",
       "    <tr>\n",
       "      <th>54</th>\n",
       "      <td>6280815808</td>\n",
       "      <td>161</td>\n",
       "      <td>7</td>\n",
       "    </tr>\n",
       "    <tr>\n",
       "      <th>313</th>\n",
       "      <td>6278426749</td>\n",
       "      <td>161</td>\n",
       "      <td>9</td>\n",
       "    </tr>\n",
       "    <tr>\n",
       "      <th>367</th>\n",
       "      <td>6401297080</td>\n",
       "      <td>161</td>\n",
       "      <td>27</td>\n",
       "    </tr>\n",
       "    <tr>\n",
       "      <th>632</th>\n",
       "      <td>6406822840</td>\n",
       "      <td>161</td>\n",
       "      <td>26</td>\n",
       "    </tr>\n",
       "    <tr>\n",
       "      <th>641</th>\n",
       "      <td>6406874270</td>\n",
       "      <td>161</td>\n",
       "      <td>22</td>\n",
       "    </tr>\n",
       "    <tr>\n",
       "      <th>748</th>\n",
       "      <td>6240980075</td>\n",
       "      <td>161</td>\n",
       "      <td>30</td>\n",
       "    </tr>\n",
       "    <tr>\n",
       "      <th>852</th>\n",
       "      <td>6391826660</td>\n",
       "      <td>161</td>\n",
       "      <td>24</td>\n",
       "    </tr>\n",
       "    <tr>\n",
       "      <th>860</th>\n",
       "      <td>6392050821</td>\n",
       "      <td>161</td>\n",
       "      <td>34</td>\n",
       "    </tr>\n",
       "    <tr>\n",
       "      <th>868</th>\n",
       "      <td>110270932</td>\n",
       "      <td>161</td>\n",
       "      <td>160</td>\n",
       "    </tr>\n",
       "    <tr>\n",
       "      <th>873</th>\n",
       "      <td>6421981310</td>\n",
       "      <td>161</td>\n",
       "      <td>42</td>\n",
       "    </tr>\n",
       "    <tr>\n",
       "      <th>879</th>\n",
       "      <td>398159519</td>\n",
       "      <td>161</td>\n",
       "      <td>32</td>\n",
       "    </tr>\n",
       "    <tr>\n",
       "      <th>979</th>\n",
       "      <td>6255409738</td>\n",
       "      <td>161</td>\n",
       "      <td>8</td>\n",
       "    </tr>\n",
       "    <tr>\n",
       "      <th>1010</th>\n",
       "      <td>6370850620</td>\n",
       "      <td>161</td>\n",
       "      <td>27</td>\n",
       "    </tr>\n",
       "    <tr>\n",
       "      <th>1101</th>\n",
       "      <td>6397689304</td>\n",
       "      <td>161</td>\n",
       "      <td>46</td>\n",
       "    </tr>\n",
       "    <tr>\n",
       "      <th>1102</th>\n",
       "      <td>6401915422</td>\n",
       "      <td>161</td>\n",
       "      <td>123</td>\n",
       "    </tr>\n",
       "    <tr>\n",
       "      <th>1103</th>\n",
       "      <td>6376612924</td>\n",
       "      <td>161</td>\n",
       "      <td>105</td>\n",
       "    </tr>\n",
       "    <tr>\n",
       "      <th>1142</th>\n",
       "      <td>6255711067</td>\n",
       "      <td>161</td>\n",
       "      <td>49</td>\n",
       "    </tr>\n",
       "    <tr>\n",
       "      <th>1182</th>\n",
       "      <td>6444534282</td>\n",
       "      <td>161</td>\n",
       "      <td>22</td>\n",
       "    </tr>\n",
       "    <tr>\n",
       "      <th>1235</th>\n",
       "      <td>6421051600</td>\n",
       "      <td>161</td>\n",
       "      <td>15</td>\n",
       "    </tr>\n",
       "    <tr>\n",
       "      <th>1243</th>\n",
       "      <td>6404397654</td>\n",
       "      <td>161</td>\n",
       "      <td>43</td>\n",
       "    </tr>\n",
       "  </tbody>\n",
       "</table>\n",
       "</div>"
      ],
      "text/plain": [
       "              ID  BYGNINGSTYPE  BRUKSAREAL_TOTALT\n",
       "11    6405143090           161                130\n",
       "54    6280815808           161                  7\n",
       "313   6278426749           161                  9\n",
       "367   6401297080           161                 27\n",
       "632   6406822840           161                 26\n",
       "641   6406874270           161                 22\n",
       "748   6240980075           161                 30\n",
       "852   6391826660           161                 24\n",
       "860   6392050821           161                 34\n",
       "868    110270932           161                160\n",
       "873   6421981310           161                 42\n",
       "879    398159519           161                 32\n",
       "979   6255409738           161                  8\n",
       "1010  6370850620           161                 27\n",
       "1101  6397689304           161                 46\n",
       "1102  6401915422           161                123\n",
       "1103  6376612924           161                105\n",
       "1142  6255711067           161                 49\n",
       "1182  6444534282           161                 22\n",
       "1235  6421051600           161                 15\n",
       "1243  6404397654           161                 43"
      ]
     },
     "execution_count": 34,
     "metadata": {},
     "output_type": "execute_result"
    }
   ],
   "source": [
    "igangsatte_bygg = bygg.loc[bygg['STATUS'] == \"IG\"]\n",
    "igangsatte_bygg = igangsatte_bygg[['ID', 'BYGNINGSTYPE', 'BRUKSAREAL_TOTALT']]\n",
    "igangsatte_bygg"
   ]
  },
  {
   "cell_type": "markdown",
   "id": "b3c2b246-ca43-4ec1-bf5b-ca0a14e203d7",
   "metadata": {},
   "source": [
    "#### 7) Endre datatype til kolonne\n",
    "Vi kan se hvilke datatyper de ulike kolonnene er ved å bruke \"dtypes\"-funksjonen:"
   ]
  },
  {
   "cell_type": "code",
   "execution_count": 35,
   "id": "4e5517a4-72be-4883-b2f0-10507fd49af5",
   "metadata": {},
   "outputs": [
    {
     "data": {
      "text/plain": [
       "KOMMUNENR             int64\n",
       "ID                    int64\n",
       "BYGNINGSTYPE          int64\n",
       "STATUS               object\n",
       "BRUKSAREAL_TOTALT     int64\n",
       "dtype: object"
      ]
     },
     "execution_count": 35,
     "metadata": {},
     "output_type": "execute_result"
    }
   ],
   "source": [
    "bygg.dtypes"
   ]
  },
  {
   "cell_type": "markdown",
   "id": "2af94260-c9f1-4a6b-bbe4-dfff7b99cd3d",
   "metadata": {},
   "source": [
    "KOMMUNENR er en såkalt int64-kolonne (numerisk). Denne ønsker vi å gjøre om til en \"string\"-kolonne (tekst)."
   ]
  },
  {
   "cell_type": "code",
   "execution_count": 41,
   "id": "d876e3ab-96c6-4e16-8d82-c3d5081d78c0",
   "metadata": {},
   "outputs": [],
   "source": [
    "bygg['KOMMUNENR'] = bygg['KOMMUNENR'].astype(\"string\")"
   ]
  },
  {
   "cell_type": "code",
   "execution_count": 42,
   "id": "22488803-d6a8-4f70-b8ae-4c221a76c71d",
   "metadata": {},
   "outputs": [
    {
     "data": {
      "text/plain": [
       "KOMMUNENR            string\n",
       "ID                    int64\n",
       "BYGNINGSTYPE          int64\n",
       "STATUS               object\n",
       "BRUKSAREAL_TOTALT     int64\n",
       "dtype: object"
      ]
     },
     "execution_count": 42,
     "metadata": {},
     "output_type": "execute_result"
    }
   ],
   "source": [
    "#For å sjekke om variabelen ble gjort om til string, kjør bygg.dtypes igjen:\n",
    "bygg.dtypes"
   ]
  },
  {
   "cell_type": "markdown",
   "id": "1c8bfee6-49af-4c70-ac90-292461a5715d",
   "metadata": {},
   "source": [
    "#### 8) Lag ny kolonne\n",
    "##### a) Lag en ny kolonne for fylke basert på de to første sifrene i kommunenummeret.\n",
    "Husk at i Python teller en fra 0!\n",
    "##### b) Mange av bygningene har veldig lavt bruksareal. Dette er kanskje tilbygg og påbygg eller bygninger som ikke har ført areal i det hele tatt. Vi ønsker å lage en dikotom variabel som indikerer om bruksareal er mindre enn 15 kvadratmeter."
   ]
  },
  {
   "cell_type": "code",
   "execution_count": 47,
   "id": "131960d8-ff17-4cf4-bc26-47eb5088d1c6",
   "metadata": {},
   "outputs": [
    {
     "data": {
      "text/html": [
       "<div>\n",
       "<style scoped>\n",
       "    .dataframe tbody tr th:only-of-type {\n",
       "        vertical-align: middle;\n",
       "    }\n",
       "\n",
       "    .dataframe tbody tr th {\n",
       "        vertical-align: top;\n",
       "    }\n",
       "\n",
       "    .dataframe thead th {\n",
       "        text-align: right;\n",
       "    }\n",
       "</style>\n",
       "<table border=\"1\" class=\"dataframe\">\n",
       "  <thead>\n",
       "    <tr style=\"text-align: right;\">\n",
       "      <th></th>\n",
       "      <th>KOMMUNENR</th>\n",
       "      <th>ID</th>\n",
       "      <th>BYGNINGSTYPE</th>\n",
       "      <th>STATUS</th>\n",
       "      <th>BRUKSAREAL_TOTALT</th>\n",
       "      <th>FYLKE</th>\n",
       "      <th>LITE_BRUKSAREAL</th>\n",
       "    </tr>\n",
       "  </thead>\n",
       "  <tbody>\n",
       "    <tr>\n",
       "      <th>0</th>\n",
       "      <td>3401</td>\n",
       "      <td>110292668</td>\n",
       "      <td>162</td>\n",
       "      <td>TB</td>\n",
       "      <td>38</td>\n",
       "      <td>34</td>\n",
       "      <td>False</td>\n",
       "    </tr>\n",
       "    <tr>\n",
       "      <th>1</th>\n",
       "      <td>3401</td>\n",
       "      <td>110333185</td>\n",
       "      <td>163</td>\n",
       "      <td>TB</td>\n",
       "      <td>86</td>\n",
       "      <td>34</td>\n",
       "      <td>False</td>\n",
       "    </tr>\n",
       "    <tr>\n",
       "      <th>2</th>\n",
       "      <td>3401</td>\n",
       "      <td>110311393</td>\n",
       "      <td>161</td>\n",
       "      <td>TB</td>\n",
       "      <td>16</td>\n",
       "      <td>34</td>\n",
       "      <td>True</td>\n",
       "    </tr>\n",
       "    <tr>\n",
       "      <th>3</th>\n",
       "      <td>3401</td>\n",
       "      <td>110214648</td>\n",
       "      <td>161</td>\n",
       "      <td>TB</td>\n",
       "      <td>49</td>\n",
       "      <td>34</td>\n",
       "      <td>False</td>\n",
       "    </tr>\n",
       "    <tr>\n",
       "      <th>4</th>\n",
       "      <td>3401</td>\n",
       "      <td>110293747</td>\n",
       "      <td>161</td>\n",
       "      <td>TB</td>\n",
       "      <td>29</td>\n",
       "      <td>34</td>\n",
       "      <td>True</td>\n",
       "    </tr>\n",
       "    <tr>\n",
       "      <th>...</th>\n",
       "      <td>...</td>\n",
       "      <td>...</td>\n",
       "      <td>...</td>\n",
       "      <td>...</td>\n",
       "      <td>...</td>\n",
       "      <td>...</td>\n",
       "      <td>...</td>\n",
       "    </tr>\n",
       "    <tr>\n",
       "      <th>1318</th>\n",
       "      <td>3401</td>\n",
       "      <td>110295594</td>\n",
       "      <td>163</td>\n",
       "      <td>TB</td>\n",
       "      <td>121</td>\n",
       "      <td>34</td>\n",
       "      <td>False</td>\n",
       "    </tr>\n",
       "    <tr>\n",
       "      <th>1319</th>\n",
       "      <td>3401</td>\n",
       "      <td>110261640</td>\n",
       "      <td>161</td>\n",
       "      <td>TB</td>\n",
       "      <td>73</td>\n",
       "      <td>34</td>\n",
       "      <td>False</td>\n",
       "    </tr>\n",
       "    <tr>\n",
       "      <th>1320</th>\n",
       "      <td>3401</td>\n",
       "      <td>110259903</td>\n",
       "      <td>161</td>\n",
       "      <td>TB</td>\n",
       "      <td>22</td>\n",
       "      <td>34</td>\n",
       "      <td>True</td>\n",
       "    </tr>\n",
       "    <tr>\n",
       "      <th>1321</th>\n",
       "      <td>3401</td>\n",
       "      <td>110230672</td>\n",
       "      <td>161</td>\n",
       "      <td>TB</td>\n",
       "      <td>99</td>\n",
       "      <td>34</td>\n",
       "      <td>False</td>\n",
       "    </tr>\n",
       "    <tr>\n",
       "      <th>1322</th>\n",
       "      <td>3401</td>\n",
       "      <td>110226491</td>\n",
       "      <td>161</td>\n",
       "      <td>TB</td>\n",
       "      <td>40</td>\n",
       "      <td>34</td>\n",
       "      <td>False</td>\n",
       "    </tr>\n",
       "  </tbody>\n",
       "</table>\n",
       "<p>1323 rows × 7 columns</p>\n",
       "</div>"
      ],
      "text/plain": [
       "     KOMMUNENR         ID  BYGNINGSTYPE STATUS  BRUKSAREAL_TOTALT FYLKE  \\\n",
       "0         3401  110292668           162     TB                 38    34   \n",
       "1         3401  110333185           163     TB                 86    34   \n",
       "2         3401  110311393           161     TB                 16    34   \n",
       "3         3401  110214648           161     TB                 49    34   \n",
       "4         3401  110293747           161     TB                 29    34   \n",
       "...        ...        ...           ...    ...                ...   ...   \n",
       "1318      3401  110295594           163     TB                121    34   \n",
       "1319      3401  110261640           161     TB                 73    34   \n",
       "1320      3401  110259903           161     TB                 22    34   \n",
       "1321      3401  110230672           161     TB                 99    34   \n",
       "1322      3401  110226491           161     TB                 40    34   \n",
       "\n",
       "     LITE_BRUKSAREAL  \n",
       "0              False  \n",
       "1              False  \n",
       "2               True  \n",
       "3              False  \n",
       "4               True  \n",
       "...              ...  \n",
       "1318           False  \n",
       "1319           False  \n",
       "1320            True  \n",
       "1321           False  \n",
       "1322           False  \n",
       "\n",
       "[1323 rows x 7 columns]"
      ]
     },
     "execution_count": 47,
     "metadata": {},
     "output_type": "execute_result"
    }
   ],
   "source": [
    "bygg['FYLKE'] = bygg['KOMMUNENR'].str[:2]\n",
    "\n",
    "bygg.loc[bygg['BRUKSAREAL_TOTALT'] < 35, 'LITE_BRUKSAREAL'] = True\n",
    "bygg.loc[bygg['BRUKSAREAL_TOTALT'] >= 35, 'LITE_BRUKSAREAL'] = False\n",
    "bygg"
   ]
  },
  {
   "cell_type": "markdown",
   "id": "a939a9f2-9e1c-4122-bdc8-e4056d177e0d",
   "metadata": {},
   "source": [
    "#### 9) Koble på dato-variabel fra byggesakshistorikk\n",
    "I bygningstabellen finner en datovariabler som sier noe om når et bygg er igangsatt, har fått rammetillatelse osv. med bakgrunn i byggesakshistorikk. Vi ønsker å koble på datoen som bygningen ble tatt i bruk på, som vi har lagt i en annen tabell. Denne tabellen heter byggdato_kongsvinger.csv og må lastes inn på samme måte som den andre csv-filen.\n",
    "\n",
    "Når csv-filen er lastet inn som et pandas-datasett, kan vi koble denne tabellen med nøkkelen \"ID\" (bygningid)."
   ]
  },
  {
   "cell_type": "code",
   "execution_count": 52,
   "id": "202a5364-64fd-4144-8a42-75b261c4307c",
   "metadata": {},
   "outputs": [
    {
     "data": {
      "text/html": [
       "<div>\n",
       "<style scoped>\n",
       "    .dataframe tbody tr th:only-of-type {\n",
       "        vertical-align: middle;\n",
       "    }\n",
       "\n",
       "    .dataframe tbody tr th {\n",
       "        vertical-align: top;\n",
       "    }\n",
       "\n",
       "    .dataframe thead th {\n",
       "        text-align: right;\n",
       "    }\n",
       "</style>\n",
       "<table border=\"1\" class=\"dataframe\">\n",
       "  <thead>\n",
       "    <tr style=\"text-align: right;\">\n",
       "      <th></th>\n",
       "      <th>KOMMUNENR</th>\n",
       "      <th>ID</th>\n",
       "      <th>BYGNINGSTYPE</th>\n",
       "      <th>STATUS</th>\n",
       "      <th>BRUKSAREAL_TOTALT</th>\n",
       "      <th>FYLKE</th>\n",
       "      <th>LITE_BRUKSAREAL</th>\n",
       "      <th>TATTIBRUK_DATO</th>\n",
       "    </tr>\n",
       "  </thead>\n",
       "  <tbody>\n",
       "    <tr>\n",
       "      <th>0</th>\n",
       "      <td>3401</td>\n",
       "      <td>110292668</td>\n",
       "      <td>162</td>\n",
       "      <td>TB</td>\n",
       "      <td>38</td>\n",
       "      <td>34</td>\n",
       "      <td>False</td>\n",
       "      <td>NaN</td>\n",
       "    </tr>\n",
       "    <tr>\n",
       "      <th>1</th>\n",
       "      <td>3401</td>\n",
       "      <td>110333185</td>\n",
       "      <td>163</td>\n",
       "      <td>TB</td>\n",
       "      <td>86</td>\n",
       "      <td>34</td>\n",
       "      <td>False</td>\n",
       "      <td>NaN</td>\n",
       "    </tr>\n",
       "    <tr>\n",
       "      <th>2</th>\n",
       "      <td>3401</td>\n",
       "      <td>110311393</td>\n",
       "      <td>161</td>\n",
       "      <td>TB</td>\n",
       "      <td>16</td>\n",
       "      <td>34</td>\n",
       "      <td>True</td>\n",
       "      <td>NaN</td>\n",
       "    </tr>\n",
       "    <tr>\n",
       "      <th>3</th>\n",
       "      <td>3401</td>\n",
       "      <td>110214648</td>\n",
       "      <td>161</td>\n",
       "      <td>TB</td>\n",
       "      <td>49</td>\n",
       "      <td>34</td>\n",
       "      <td>False</td>\n",
       "      <td>1970-01-01 00:00:00</td>\n",
       "    </tr>\n",
       "    <tr>\n",
       "      <th>4</th>\n",
       "      <td>3401</td>\n",
       "      <td>110293747</td>\n",
       "      <td>161</td>\n",
       "      <td>TB</td>\n",
       "      <td>29</td>\n",
       "      <td>34</td>\n",
       "      <td>True</td>\n",
       "      <td>NaN</td>\n",
       "    </tr>\n",
       "    <tr>\n",
       "      <th>...</th>\n",
       "      <td>...</td>\n",
       "      <td>...</td>\n",
       "      <td>...</td>\n",
       "      <td>...</td>\n",
       "      <td>...</td>\n",
       "      <td>...</td>\n",
       "      <td>...</td>\n",
       "      <td>...</td>\n",
       "    </tr>\n",
       "    <tr>\n",
       "      <th>1318</th>\n",
       "      <td>3401</td>\n",
       "      <td>110295594</td>\n",
       "      <td>163</td>\n",
       "      <td>TB</td>\n",
       "      <td>121</td>\n",
       "      <td>34</td>\n",
       "      <td>False</td>\n",
       "      <td>NaN</td>\n",
       "    </tr>\n",
       "    <tr>\n",
       "      <th>1319</th>\n",
       "      <td>3401</td>\n",
       "      <td>110261640</td>\n",
       "      <td>161</td>\n",
       "      <td>TB</td>\n",
       "      <td>73</td>\n",
       "      <td>34</td>\n",
       "      <td>False</td>\n",
       "      <td>1999-09-08 00:00:00</td>\n",
       "    </tr>\n",
       "    <tr>\n",
       "      <th>1320</th>\n",
       "      <td>3401</td>\n",
       "      <td>110259903</td>\n",
       "      <td>161</td>\n",
       "      <td>TB</td>\n",
       "      <td>22</td>\n",
       "      <td>34</td>\n",
       "      <td>True</td>\n",
       "      <td>NaN</td>\n",
       "    </tr>\n",
       "    <tr>\n",
       "      <th>1321</th>\n",
       "      <td>3401</td>\n",
       "      <td>110230672</td>\n",
       "      <td>161</td>\n",
       "      <td>TB</td>\n",
       "      <td>99</td>\n",
       "      <td>34</td>\n",
       "      <td>False</td>\n",
       "      <td>1940-01-01 00:00:00</td>\n",
       "    </tr>\n",
       "    <tr>\n",
       "      <th>1322</th>\n",
       "      <td>3401</td>\n",
       "      <td>110226491</td>\n",
       "      <td>161</td>\n",
       "      <td>TB</td>\n",
       "      <td>40</td>\n",
       "      <td>34</td>\n",
       "      <td>False</td>\n",
       "      <td>1901-01-01 00:00:00</td>\n",
       "    </tr>\n",
       "  </tbody>\n",
       "</table>\n",
       "<p>1323 rows × 8 columns</p>\n",
       "</div>"
      ],
      "text/plain": [
       "     KOMMUNENR         ID  BYGNINGSTYPE STATUS  BRUKSAREAL_TOTALT FYLKE  \\\n",
       "0         3401  110292668           162     TB                 38    34   \n",
       "1         3401  110333185           163     TB                 86    34   \n",
       "2         3401  110311393           161     TB                 16    34   \n",
       "3         3401  110214648           161     TB                 49    34   \n",
       "4         3401  110293747           161     TB                 29    34   \n",
       "...        ...        ...           ...    ...                ...   ...   \n",
       "1318      3401  110295594           163     TB                121    34   \n",
       "1319      3401  110261640           161     TB                 73    34   \n",
       "1320      3401  110259903           161     TB                 22    34   \n",
       "1321      3401  110230672           161     TB                 99    34   \n",
       "1322      3401  110226491           161     TB                 40    34   \n",
       "\n",
       "     LITE_BRUKSAREAL       TATTIBRUK_DATO  \n",
       "0              False                  NaN  \n",
       "1              False                  NaN  \n",
       "2               True                  NaN  \n",
       "3              False  1970-01-01 00:00:00  \n",
       "4               True                  NaN  \n",
       "...              ...                  ...  \n",
       "1318           False                  NaN  \n",
       "1319           False  1999-09-08 00:00:00  \n",
       "1320            True                  NaN  \n",
       "1321           False  1940-01-01 00:00:00  \n",
       "1322           False  1901-01-01 00:00:00  \n",
       "\n",
       "[1323 rows x 8 columns]"
      ]
     },
     "execution_count": 52,
     "metadata": {},
     "output_type": "execute_result"
    }
   ],
   "source": [
    "byggdato = pd.read_csv(\"byggdato_kongsvinger.csv\")\n",
    "koblet = bygg.merge(byggdato)\n",
    "koblet"
   ]
  },
  {
   "cell_type": "markdown",
   "id": "dea85210-e61d-4d7c-8ae4-26b539ac0dda",
   "metadata": {},
   "source": [
    "#### 10) Lag et histogram av bruksareal i tabellen\n",
    "Da må vi først importere en ny pakke, hvor plotly_express er et ypperlig alternativ. For et mer informativt histogram, kan det også være fint å fargelegge histogrammet basert på bygningstype. "
   ]
  },
  {
   "cell_type": "code",
   "execution_count": 55,
   "id": "1ecad2ce-77d8-4b10-b4fd-1d90a3e03e7d",
   "metadata": {},
   "outputs": [
    {
     "data": {
      "application/vnd.plotly.v1+json": {
       "config": {
        "plotlyServerURL": "https://plot.ly"
       },
       "data": [
        {
         "alignmentgroup": "True",
         "bingroup": "x",
         "hovertemplate": "STATUS=TB<br>BRUKSAREAL_TOTALT=%{x}<br>count=%{y}<extra></extra>",
         "legendgroup": "TB",
         "marker": {
          "color": "#636efa",
          "pattern": {
           "shape": ""
          }
         },
         "name": "TB",
         "offsetgroup": "TB",
         "orientation": "v",
         "showlegend": true,
         "type": "histogram",
         "x": [
          38,
          86,
          16,
          49,
          29,
          33,
          57,
          39,
          20,
          38,
          75,
          80,
          62,
          38,
          34,
          32,
          20,
          54,
          82,
          82,
          34,
          108,
          54,
          73,
          66,
          40,
          28,
          35,
          45,
          75,
          40,
          87,
          46,
          201,
          104,
          34,
          40,
          50,
          40,
          25,
          68,
          157,
          0,
          40,
          24,
          72,
          30,
          40,
          62,
          0,
          29,
          206,
          33,
          96,
          70,
          30,
          65,
          55,
          132,
          89,
          86,
          40,
          50,
          140,
          34,
          82,
          21,
          43,
          57,
          74,
          32,
          32,
          88,
          94,
          58,
          114,
          23,
          66,
          53,
          37,
          126,
          37,
          36,
          56,
          47,
          73,
          166,
          24,
          44,
          53,
          82,
          60,
          154,
          66,
          35,
          44,
          40,
          42,
          25,
          40,
          0,
          79,
          60,
          57,
          84,
          35,
          125,
          40,
          171,
          25,
          96,
          48,
          0,
          0,
          40,
          46,
          45,
          54,
          45,
          69,
          77,
          23,
          90,
          73,
          76,
          40,
          119,
          110,
          48,
          0,
          0,
          25,
          0,
          103,
          60,
          46,
          73,
          40,
          56,
          55,
          65,
          55,
          61,
          59,
          34,
          55,
          30,
          11,
          40,
          23,
          106,
          101,
          46,
          42,
          44,
          38,
          51,
          76,
          40,
          59,
          0,
          130,
          35,
          59,
          70,
          57,
          40,
          42,
          56,
          58,
          93,
          55,
          122,
          61,
          89,
          150,
          96,
          96,
          52,
          29,
          32,
          30,
          42,
          125,
          10,
          18,
          35,
          75,
          122,
          49,
          50,
          97,
          59,
          65,
          37,
          70,
          38,
          74,
          143,
          25,
          165,
          62,
          113,
          42,
          88,
          77,
          62,
          21,
          60,
          44,
          38,
          62,
          56,
          147,
          46,
          27,
          78,
          34,
          43,
          60,
          126,
          60,
          60,
          76,
          105,
          160,
          102,
          62,
          29,
          9,
          92,
          0,
          139,
          44,
          75,
          60,
          0,
          40,
          89,
          76,
          0,
          133,
          64,
          50,
          26,
          38,
          44,
          166,
          27,
          44,
          43,
          63,
          27,
          49,
          53,
          109,
          42,
          70,
          196,
          24,
          34,
          104,
          28,
          40,
          47,
          26,
          35,
          186,
          35,
          65,
          270,
          40,
          88,
          69,
          104,
          25,
          45,
          43,
          76,
          75,
          136,
          81,
          35,
          30,
          64,
          50,
          42,
          122,
          69,
          30,
          57,
          49,
          92,
          61,
          104,
          38,
          105,
          46,
          134,
          64,
          138,
          32,
          39,
          84,
          53,
          95,
          48,
          22,
          48,
          75,
          66,
          169,
          118,
          59,
          48,
          37,
          24,
          204,
          96,
          160,
          40,
          78,
          95,
          29,
          37,
          44,
          56,
          38,
          210,
          18,
          121,
          60,
          35,
          68,
          30,
          90,
          40,
          47,
          56,
          82,
          83,
          20,
          60,
          85,
          47,
          121,
          80,
          20,
          12,
          61,
          53,
          15,
          0,
          41,
          53,
          0,
          82,
          45,
          51,
          60,
          54,
          56,
          41,
          20,
          50,
          88,
          22,
          90,
          164,
          63,
          79,
          169,
          60,
          206,
          12,
          41,
          21,
          41,
          28,
          47,
          22,
          63,
          55,
          95,
          32,
          60,
          44,
          294,
          85,
          0,
          91,
          51,
          85,
          91,
          35,
          20,
          48,
          107,
          120,
          20,
          35,
          105,
          67,
          80,
          40,
          127,
          74,
          91,
          49,
          63,
          53,
          60,
          74,
          40,
          58,
          59,
          46,
          64,
          0,
          53,
          62,
          22,
          44,
          27,
          40,
          61,
          32,
          47,
          131,
          32,
          72,
          16,
          30,
          89,
          40,
          37,
          43,
          114,
          103,
          76,
          46,
          40,
          112,
          35,
          54,
          97,
          62,
          70,
          17,
          41,
          49,
          65,
          64,
          80,
          58,
          72,
          41,
          75,
          76,
          63,
          41,
          30,
          64,
          32,
          0,
          53,
          68,
          43,
          72,
          29,
          256,
          68,
          81,
          40,
          0,
          46,
          50,
          66,
          79,
          15,
          40,
          132,
          98,
          55,
          146,
          49,
          60,
          90,
          53,
          41,
          22,
          65,
          59,
          30,
          30,
          70,
          179,
          135,
          144,
          58,
          70,
          47,
          28,
          151,
          44,
          54,
          40,
          109,
          43,
          63,
          28,
          58,
          42,
          147,
          28,
          106,
          30,
          102,
          103,
          105,
          76,
          0,
          88,
          60,
          82,
          21,
          141,
          45,
          50,
          60,
          54,
          62,
          65,
          31,
          65,
          44,
          40,
          35,
          53,
          110,
          58,
          76,
          54,
          63,
          25,
          103,
          109,
          36,
          48,
          130,
          40,
          84,
          81,
          78,
          56,
          105,
          120,
          40,
          45,
          35,
          48,
          57,
          65,
          64,
          40,
          67,
          15,
          39,
          88,
          61,
          65,
          122,
          77,
          72,
          131,
          30,
          162,
          65,
          129,
          142,
          39,
          69,
          72,
          66,
          26,
          48,
          34,
          31,
          52,
          55,
          49,
          140,
          28,
          53,
          30,
          16,
          78,
          83,
          41,
          44,
          147,
          103,
          102,
          46,
          38,
          50,
          87,
          95,
          55,
          93,
          162,
          61,
          55,
          85,
          10,
          53,
          35,
          60,
          40,
          50,
          49,
          67,
          72,
          45,
          92,
          17,
          29,
          34,
          79,
          30,
          56,
          75,
          78,
          45,
          47,
          48,
          30,
          55,
          313,
          50,
          25,
          76,
          94,
          65,
          52,
          105,
          44,
          50,
          90,
          132,
          99,
          0,
          40,
          125,
          95,
          50,
          72,
          40,
          32,
          53,
          88,
          54,
          22,
          70,
          54,
          22,
          35,
          52,
          64,
          50,
          40,
          39,
          78,
          68,
          49,
          34,
          100,
          61,
          60,
          30,
          44,
          0,
          45,
          77,
          35,
          67,
          73,
          93,
          73,
          25,
          37,
          63,
          49,
          50,
          87,
          132,
          52,
          47,
          77,
          42,
          149,
          55,
          159,
          30,
          97,
          60,
          39,
          15,
          42,
          106,
          35,
          79,
          60,
          16,
          114,
          56,
          100,
          54,
          192,
          66,
          53,
          60,
          87,
          80,
          55,
          38,
          59,
          94,
          25,
          52,
          26,
          202,
          32,
          44,
          35,
          43,
          0,
          45,
          61,
          39,
          35,
          40,
          67,
          35,
          95,
          0,
          70,
          45,
          21,
          52,
          52,
          0,
          50,
          65,
          76,
          108,
          76,
          21,
          24,
          65,
          63,
          45,
          90,
          22,
          0,
          54,
          62,
          47,
          34,
          78,
          43,
          40,
          119,
          72,
          32,
          44,
          96,
          89,
          87,
          136,
          40,
          50,
          30,
          73,
          94,
          48,
          54,
          96,
          147,
          66,
          46,
          57,
          26,
          60,
          74,
          58,
          60,
          75,
          78,
          80,
          45,
          40,
          47,
          130,
          0,
          114,
          22,
          64,
          64,
          70,
          45,
          63,
          55,
          38,
          55,
          48,
          52,
          132,
          64,
          56,
          54,
          52,
          61,
          60,
          58,
          28,
          65,
          34,
          73,
          42,
          0,
          10,
          96,
          97,
          24,
          52,
          42,
          102,
          40,
          38,
          107,
          84,
          92,
          71,
          45,
          34,
          173,
          30,
          30,
          0,
          98,
          76,
          43,
          62,
          15,
          69,
          66,
          12,
          58,
          49,
          85,
          60,
          30,
          61,
          148,
          30,
          39,
          89,
          105,
          83,
          37,
          135,
          15,
          202,
          178,
          58,
          82,
          35,
          33,
          30,
          107,
          64,
          51,
          44,
          61,
          55,
          38,
          37,
          63,
          146,
          65,
          25,
          38,
          35,
          61,
          48,
          42,
          22,
          30,
          73,
          62,
          89,
          73,
          48,
          60,
          93,
          370,
          20,
          102,
          65,
          65,
          40,
          86,
          40,
          31,
          60,
          119,
          29,
          121,
          70,
          112,
          74,
          54,
          20,
          48,
          137,
          192,
          40,
          0,
          23,
          85,
          85,
          85,
          161,
          102,
          60,
          42,
          0,
          40,
          60,
          35,
          50,
          89,
          29,
          97,
          75,
          57,
          65,
          44,
          99,
          28,
          40,
          105,
          107,
          104,
          58,
          41,
          56,
          53,
          36,
          54,
          146,
          20,
          30,
          33,
          40,
          58,
          110,
          59,
          56,
          64,
          38,
          54,
          77,
          56,
          28,
          46,
          89,
          147,
          272,
          86,
          27,
          133,
          74,
          34,
          72,
          60,
          129,
          60,
          80,
          151,
          120,
          32,
          107,
          50,
          68,
          29,
          66,
          75,
          35,
          39,
          57,
          117,
          40,
          0,
          90,
          85,
          34,
          86,
          48,
          30,
          49,
          22,
          119,
          85,
          8,
          32,
          47,
          38,
          0,
          42,
          63,
          75,
          45,
          46,
          53,
          84,
          79,
          163,
          64,
          45,
          40,
          76,
          50,
          138,
          153,
          160,
          94,
          97,
          122,
          30,
          68,
          62,
          52,
          67,
          78,
          44,
          50,
          38,
          187,
          82,
          85,
          24,
          68,
          28,
          122,
          52,
          70,
          30,
          35,
          63,
          25,
          32,
          40,
          84,
          70,
          44,
          163,
          76,
          14,
          118,
          60,
          92,
          49,
          44,
          162,
          41,
          95,
          30,
          67,
          175,
          87,
          50,
          106,
          51,
          0,
          70,
          70,
          12,
          43,
          115,
          67,
          110,
          46,
          40,
          55,
          66,
          89,
          100,
          32,
          52,
          79,
          45,
          56,
          50,
          42,
          182,
          53,
          116,
          60,
          35,
          70,
          65,
          94,
          199,
          55,
          53,
          103,
          25,
          61,
          40,
          45,
          38,
          66,
          50,
          148,
          77,
          84,
          0,
          60,
          114,
          88,
          258,
          28,
          50,
          70,
          210,
          49,
          132,
          84,
          35,
          35,
          76,
          27,
          40,
          62,
          149,
          59,
          26,
          32,
          30,
          50,
          48,
          61,
          44,
          48,
          97,
          25,
          51,
          63,
          50,
          60,
          99,
          66,
          63,
          71,
          115,
          29,
          50,
          20,
          36,
          80,
          50,
          35,
          56,
          60,
          54,
          35,
          0,
          56,
          26,
          77,
          89,
          48,
          42,
          40,
          68,
          50,
          65,
          44,
          118,
          36,
          50,
          47,
          60,
          172,
          49,
          48,
          75,
          67,
          67,
          32,
          200,
          28,
          48,
          137,
          113,
          106,
          93,
          84,
          65,
          159,
          68,
          40,
          110,
          76,
          130,
          15,
          40,
          31,
          58,
          50,
          53,
          45,
          121,
          73,
          22,
          99,
          40
         ],
         "xaxis": "x",
         "yaxis": "y"
        },
        {
         "alignmentgroup": "True",
         "bingroup": "x",
         "hovertemplate": "STATUS=IG<br>BRUKSAREAL_TOTALT=%{x}<br>count=%{y}<extra></extra>",
         "legendgroup": "IG",
         "marker": {
          "color": "#EF553B",
          "pattern": {
           "shape": ""
          }
         },
         "name": "IG",
         "offsetgroup": "IG",
         "orientation": "v",
         "showlegend": true,
         "type": "histogram",
         "x": [
          130,
          7,
          9,
          27,
          26,
          22,
          30,
          24,
          34,
          160,
          42,
          32,
          8,
          27,
          46,
          123,
          105,
          49,
          22,
          15,
          43
         ],
         "xaxis": "x",
         "yaxis": "y"
        },
        {
         "alignmentgroup": "True",
         "bingroup": "x",
         "hovertemplate": "STATUS=FA<br>BRUKSAREAL_TOTALT=%{x}<br>count=%{y}<extra></extra>",
         "legendgroup": "FA",
         "marker": {
          "color": "#00cc96",
          "pattern": {
           "shape": ""
          }
         },
         "name": "FA",
         "offsetgroup": "FA",
         "orientation": "v",
         "showlegend": true,
         "type": "histogram",
         "x": [
          74,
          91,
          46,
          69,
          141,
          157,
          72,
          79,
          33,
          59,
          95,
          80,
          113,
          109,
          83,
          34,
          144,
          68,
          63,
          66,
          77,
          150,
          50,
          140,
          97,
          97,
          59,
          62,
          19,
          58,
          119,
          67,
          82,
          103,
          145,
          54,
          57,
          96,
          24,
          75,
          69,
          131,
          45,
          66,
          60,
          59,
          66,
          40,
          130,
          50,
          97,
          76,
          79,
          65,
          92,
          112,
          40,
          53,
          68,
          91
         ],
         "xaxis": "x",
         "yaxis": "y"
        },
        {
         "alignmentgroup": "True",
         "bingroup": "x",
         "hovertemplate": "STATUS=MF<br>BRUKSAREAL_TOTALT=%{x}<br>count=%{y}<extra></extra>",
         "legendgroup": "MF",
         "marker": {
          "color": "#ab63fa",
          "pattern": {
           "shape": ""
          }
         },
         "name": "MF",
         "offsetgroup": "MF",
         "orientation": "v",
         "showlegend": true,
         "type": "histogram",
         "x": [
          51
         ],
         "xaxis": "x",
         "yaxis": "y"
        },
        {
         "alignmentgroup": "True",
         "bingroup": "x",
         "hovertemplate": "STATUS=GR<br>BRUKSAREAL_TOTALT=%{x}<br>count=%{y}<extra></extra>",
         "legendgroup": "GR",
         "marker": {
          "color": "#FFA15A",
          "pattern": {
           "shape": ""
          }
         },
         "name": "GR",
         "offsetgroup": "GR",
         "orientation": "v",
         "showlegend": true,
         "type": "histogram",
         "x": [
          145,
          32,
          19,
          41,
          41,
          22,
          127,
          101,
          11,
          58,
          45
         ],
         "xaxis": "x",
         "yaxis": "y"
        },
        {
         "alignmentgroup": "True",
         "bingroup": "x",
         "hovertemplate": "STATUS=MB<br>BRUKSAREAL_TOTALT=%{x}<br>count=%{y}<extra></extra>",
         "legendgroup": "MB",
         "marker": {
          "color": "#19d3f3",
          "pattern": {
           "shape": ""
          }
         },
         "name": "MB",
         "offsetgroup": "MB",
         "orientation": "v",
         "showlegend": true,
         "type": "histogram",
         "x": [
          82
         ],
         "xaxis": "x",
         "yaxis": "y"
        }
       ],
       "layout": {
        "autosize": true,
        "barmode": "relative",
        "legend": {
         "title": {
          "text": "STATUS"
         },
         "tracegroupgap": 0
        },
        "margin": {
         "t": 60
        },
        "template": {
         "data": {
          "bar": [
           {
            "error_x": {
             "color": "#2a3f5f"
            },
            "error_y": {
             "color": "#2a3f5f"
            },
            "marker": {
             "line": {
              "color": "#E5ECF6",
              "width": 0.5
             },
             "pattern": {
              "fillmode": "overlay",
              "size": 10,
              "solidity": 0.2
             }
            },
            "type": "bar"
           }
          ],
          "barpolar": [
           {
            "marker": {
             "line": {
              "color": "#E5ECF6",
              "width": 0.5
             },
             "pattern": {
              "fillmode": "overlay",
              "size": 10,
              "solidity": 0.2
             }
            },
            "type": "barpolar"
           }
          ],
          "carpet": [
           {
            "aaxis": {
             "endlinecolor": "#2a3f5f",
             "gridcolor": "white",
             "linecolor": "white",
             "minorgridcolor": "white",
             "startlinecolor": "#2a3f5f"
            },
            "baxis": {
             "endlinecolor": "#2a3f5f",
             "gridcolor": "white",
             "linecolor": "white",
             "minorgridcolor": "white",
             "startlinecolor": "#2a3f5f"
            },
            "type": "carpet"
           }
          ],
          "choropleth": [
           {
            "colorbar": {
             "outlinewidth": 0,
             "ticks": ""
            },
            "type": "choropleth"
           }
          ],
          "contour": [
           {
            "colorbar": {
             "outlinewidth": 0,
             "ticks": ""
            },
            "colorscale": [
             [
              0,
              "#0d0887"
             ],
             [
              0.1111111111111111,
              "#46039f"
             ],
             [
              0.2222222222222222,
              "#7201a8"
             ],
             [
              0.3333333333333333,
              "#9c179e"
             ],
             [
              0.4444444444444444,
              "#bd3786"
             ],
             [
              0.5555555555555556,
              "#d8576b"
             ],
             [
              0.6666666666666666,
              "#ed7953"
             ],
             [
              0.7777777777777778,
              "#fb9f3a"
             ],
             [
              0.8888888888888888,
              "#fdca26"
             ],
             [
              1,
              "#f0f921"
             ]
            ],
            "type": "contour"
           }
          ],
          "contourcarpet": [
           {
            "colorbar": {
             "outlinewidth": 0,
             "ticks": ""
            },
            "type": "contourcarpet"
           }
          ],
          "heatmap": [
           {
            "colorbar": {
             "outlinewidth": 0,
             "ticks": ""
            },
            "colorscale": [
             [
              0,
              "#0d0887"
             ],
             [
              0.1111111111111111,
              "#46039f"
             ],
             [
              0.2222222222222222,
              "#7201a8"
             ],
             [
              0.3333333333333333,
              "#9c179e"
             ],
             [
              0.4444444444444444,
              "#bd3786"
             ],
             [
              0.5555555555555556,
              "#d8576b"
             ],
             [
              0.6666666666666666,
              "#ed7953"
             ],
             [
              0.7777777777777778,
              "#fb9f3a"
             ],
             [
              0.8888888888888888,
              "#fdca26"
             ],
             [
              1,
              "#f0f921"
             ]
            ],
            "type": "heatmap"
           }
          ],
          "heatmapgl": [
           {
            "colorbar": {
             "outlinewidth": 0,
             "ticks": ""
            },
            "colorscale": [
             [
              0,
              "#0d0887"
             ],
             [
              0.1111111111111111,
              "#46039f"
             ],
             [
              0.2222222222222222,
              "#7201a8"
             ],
             [
              0.3333333333333333,
              "#9c179e"
             ],
             [
              0.4444444444444444,
              "#bd3786"
             ],
             [
              0.5555555555555556,
              "#d8576b"
             ],
             [
              0.6666666666666666,
              "#ed7953"
             ],
             [
              0.7777777777777778,
              "#fb9f3a"
             ],
             [
              0.8888888888888888,
              "#fdca26"
             ],
             [
              1,
              "#f0f921"
             ]
            ],
            "type": "heatmapgl"
           }
          ],
          "histogram": [
           {
            "marker": {
             "pattern": {
              "fillmode": "overlay",
              "size": 10,
              "solidity": 0.2
             }
            },
            "type": "histogram"
           }
          ],
          "histogram2d": [
           {
            "colorbar": {
             "outlinewidth": 0,
             "ticks": ""
            },
            "colorscale": [
             [
              0,
              "#0d0887"
             ],
             [
              0.1111111111111111,
              "#46039f"
             ],
             [
              0.2222222222222222,
              "#7201a8"
             ],
             [
              0.3333333333333333,
              "#9c179e"
             ],
             [
              0.4444444444444444,
              "#bd3786"
             ],
             [
              0.5555555555555556,
              "#d8576b"
             ],
             [
              0.6666666666666666,
              "#ed7953"
             ],
             [
              0.7777777777777778,
              "#fb9f3a"
             ],
             [
              0.8888888888888888,
              "#fdca26"
             ],
             [
              1,
              "#f0f921"
             ]
            ],
            "type": "histogram2d"
           }
          ],
          "histogram2dcontour": [
           {
            "colorbar": {
             "outlinewidth": 0,
             "ticks": ""
            },
            "colorscale": [
             [
              0,
              "#0d0887"
             ],
             [
              0.1111111111111111,
              "#46039f"
             ],
             [
              0.2222222222222222,
              "#7201a8"
             ],
             [
              0.3333333333333333,
              "#9c179e"
             ],
             [
              0.4444444444444444,
              "#bd3786"
             ],
             [
              0.5555555555555556,
              "#d8576b"
             ],
             [
              0.6666666666666666,
              "#ed7953"
             ],
             [
              0.7777777777777778,
              "#fb9f3a"
             ],
             [
              0.8888888888888888,
              "#fdca26"
             ],
             [
              1,
              "#f0f921"
             ]
            ],
            "type": "histogram2dcontour"
           }
          ],
          "mesh3d": [
           {
            "colorbar": {
             "outlinewidth": 0,
             "ticks": ""
            },
            "type": "mesh3d"
           }
          ],
          "parcoords": [
           {
            "line": {
             "colorbar": {
              "outlinewidth": 0,
              "ticks": ""
             }
            },
            "type": "parcoords"
           }
          ],
          "pie": [
           {
            "automargin": true,
            "type": "pie"
           }
          ],
          "scatter": [
           {
            "fillpattern": {
             "fillmode": "overlay",
             "size": 10,
             "solidity": 0.2
            },
            "type": "scatter"
           }
          ],
          "scatter3d": [
           {
            "line": {
             "colorbar": {
              "outlinewidth": 0,
              "ticks": ""
             }
            },
            "marker": {
             "colorbar": {
              "outlinewidth": 0,
              "ticks": ""
             }
            },
            "type": "scatter3d"
           }
          ],
          "scattercarpet": [
           {
            "marker": {
             "colorbar": {
              "outlinewidth": 0,
              "ticks": ""
             }
            },
            "type": "scattercarpet"
           }
          ],
          "scattergeo": [
           {
            "marker": {
             "colorbar": {
              "outlinewidth": 0,
              "ticks": ""
             }
            },
            "type": "scattergeo"
           }
          ],
          "scattergl": [
           {
            "marker": {
             "colorbar": {
              "outlinewidth": 0,
              "ticks": ""
             }
            },
            "type": "scattergl"
           }
          ],
          "scattermapbox": [
           {
            "marker": {
             "colorbar": {
              "outlinewidth": 0,
              "ticks": ""
             }
            },
            "type": "scattermapbox"
           }
          ],
          "scatterpolar": [
           {
            "marker": {
             "colorbar": {
              "outlinewidth": 0,
              "ticks": ""
             }
            },
            "type": "scatterpolar"
           }
          ],
          "scatterpolargl": [
           {
            "marker": {
             "colorbar": {
              "outlinewidth": 0,
              "ticks": ""
             }
            },
            "type": "scatterpolargl"
           }
          ],
          "scatterternary": [
           {
            "marker": {
             "colorbar": {
              "outlinewidth": 0,
              "ticks": ""
             }
            },
            "type": "scatterternary"
           }
          ],
          "surface": [
           {
            "colorbar": {
             "outlinewidth": 0,
             "ticks": ""
            },
            "colorscale": [
             [
              0,
              "#0d0887"
             ],
             [
              0.1111111111111111,
              "#46039f"
             ],
             [
              0.2222222222222222,
              "#7201a8"
             ],
             [
              0.3333333333333333,
              "#9c179e"
             ],
             [
              0.4444444444444444,
              "#bd3786"
             ],
             [
              0.5555555555555556,
              "#d8576b"
             ],
             [
              0.6666666666666666,
              "#ed7953"
             ],
             [
              0.7777777777777778,
              "#fb9f3a"
             ],
             [
              0.8888888888888888,
              "#fdca26"
             ],
             [
              1,
              "#f0f921"
             ]
            ],
            "type": "surface"
           }
          ],
          "table": [
           {
            "cells": {
             "fill": {
              "color": "#EBF0F8"
             },
             "line": {
              "color": "white"
             }
            },
            "header": {
             "fill": {
              "color": "#C8D4E3"
             },
             "line": {
              "color": "white"
             }
            },
            "type": "table"
           }
          ]
         },
         "layout": {
          "annotationdefaults": {
           "arrowcolor": "#2a3f5f",
           "arrowhead": 0,
           "arrowwidth": 1
          },
          "autotypenumbers": "strict",
          "coloraxis": {
           "colorbar": {
            "outlinewidth": 0,
            "ticks": ""
           }
          },
          "colorscale": {
           "diverging": [
            [
             0,
             "#8e0152"
            ],
            [
             0.1,
             "#c51b7d"
            ],
            [
             0.2,
             "#de77ae"
            ],
            [
             0.3,
             "#f1b6da"
            ],
            [
             0.4,
             "#fde0ef"
            ],
            [
             0.5,
             "#f7f7f7"
            ],
            [
             0.6,
             "#e6f5d0"
            ],
            [
             0.7,
             "#b8e186"
            ],
            [
             0.8,
             "#7fbc41"
            ],
            [
             0.9,
             "#4d9221"
            ],
            [
             1,
             "#276419"
            ]
           ],
           "sequential": [
            [
             0,
             "#0d0887"
            ],
            [
             0.1111111111111111,
             "#46039f"
            ],
            [
             0.2222222222222222,
             "#7201a8"
            ],
            [
             0.3333333333333333,
             "#9c179e"
            ],
            [
             0.4444444444444444,
             "#bd3786"
            ],
            [
             0.5555555555555556,
             "#d8576b"
            ],
            [
             0.6666666666666666,
             "#ed7953"
            ],
            [
             0.7777777777777778,
             "#fb9f3a"
            ],
            [
             0.8888888888888888,
             "#fdca26"
            ],
            [
             1,
             "#f0f921"
            ]
           ],
           "sequentialminus": [
            [
             0,
             "#0d0887"
            ],
            [
             0.1111111111111111,
             "#46039f"
            ],
            [
             0.2222222222222222,
             "#7201a8"
            ],
            [
             0.3333333333333333,
             "#9c179e"
            ],
            [
             0.4444444444444444,
             "#bd3786"
            ],
            [
             0.5555555555555556,
             "#d8576b"
            ],
            [
             0.6666666666666666,
             "#ed7953"
            ],
            [
             0.7777777777777778,
             "#fb9f3a"
            ],
            [
             0.8888888888888888,
             "#fdca26"
            ],
            [
             1,
             "#f0f921"
            ]
           ]
          },
          "colorway": [
           "#636efa",
           "#EF553B",
           "#00cc96",
           "#ab63fa",
           "#FFA15A",
           "#19d3f3",
           "#FF6692",
           "#B6E880",
           "#FF97FF",
           "#FECB52"
          ],
          "font": {
           "color": "#2a3f5f"
          },
          "geo": {
           "bgcolor": "white",
           "lakecolor": "white",
           "landcolor": "#E5ECF6",
           "showlakes": true,
           "showland": true,
           "subunitcolor": "white"
          },
          "hoverlabel": {
           "align": "left"
          },
          "hovermode": "closest",
          "mapbox": {
           "style": "light"
          },
          "paper_bgcolor": "white",
          "plot_bgcolor": "#E5ECF6",
          "polar": {
           "angularaxis": {
            "gridcolor": "white",
            "linecolor": "white",
            "ticks": ""
           },
           "bgcolor": "#E5ECF6",
           "radialaxis": {
            "gridcolor": "white",
            "linecolor": "white",
            "ticks": ""
           }
          },
          "scene": {
           "xaxis": {
            "backgroundcolor": "#E5ECF6",
            "gridcolor": "white",
            "gridwidth": 2,
            "linecolor": "white",
            "showbackground": true,
            "ticks": "",
            "zerolinecolor": "white"
           },
           "yaxis": {
            "backgroundcolor": "#E5ECF6",
            "gridcolor": "white",
            "gridwidth": 2,
            "linecolor": "white",
            "showbackground": true,
            "ticks": "",
            "zerolinecolor": "white"
           },
           "zaxis": {
            "backgroundcolor": "#E5ECF6",
            "gridcolor": "white",
            "gridwidth": 2,
            "linecolor": "white",
            "showbackground": true,
            "ticks": "",
            "zerolinecolor": "white"
           }
          },
          "shapedefaults": {
           "line": {
            "color": "#2a3f5f"
           }
          },
          "ternary": {
           "aaxis": {
            "gridcolor": "white",
            "linecolor": "white",
            "ticks": ""
           },
           "baxis": {
            "gridcolor": "white",
            "linecolor": "white",
            "ticks": ""
           },
           "bgcolor": "#E5ECF6",
           "caxis": {
            "gridcolor": "white",
            "linecolor": "white",
            "ticks": ""
           }
          },
          "title": {
           "x": 0.05
          },
          "xaxis": {
           "automargin": true,
           "gridcolor": "white",
           "linecolor": "white",
           "ticks": "",
           "title": {
            "standoff": 15
           },
           "zerolinecolor": "white",
           "zerolinewidth": 2
          },
          "yaxis": {
           "automargin": true,
           "gridcolor": "white",
           "linecolor": "white",
           "ticks": "",
           "title": {
            "standoff": 15
           },
           "zerolinecolor": "white",
           "zerolinewidth": 2
          }
         }
        },
        "xaxis": {
         "anchor": "y",
         "autorange": true,
         "domain": [
          0,
          1
         ],
         "range": [
          -0.5,
          374.5
         ],
         "title": {
          "text": "BRUKSAREAL_TOTALT"
         },
         "type": "linear"
        },
        "yaxis": {
         "anchor": "x",
         "autorange": true,
         "domain": [
          0,
          1
         ],
         "range": [
          0,
          133.68421052631578
         ],
         "title": {
          "text": "count"
         }
        }
       }
      },
      "image/png": "[encoded data removed]",
      "text/html": [
       "<div>                            <div id=\"52a52c0c-e806-4abe-8d5e-db56b3987eb1\" class=\"plotly-graph-div\" style=\"height:525px; width:100%;\"></div>            <script type=\"text/javascript\">                require([\"plotly\"], function(Plotly) {                    window.PLOTLYENV=window.PLOTLYENV || {};                                    if (document.getElementById(\"52a52c0c-e806-4abe-8d5e-db56b3987eb1\")) {                    Plotly.newPlot(                        \"52a52c0c-e806-4abe-8d5e-db56b3987eb1\",                        [{\"alignmentgroup\":\"True\",\"bingroup\":\"x\",\"hovertemplate\":\"STATUS=TB<br>BRUKSAREAL_TOTALT=%{x}<br>count=%{y}<extra></extra>\",\"legendgroup\":\"TB\",\"marker\":{\"color\":\"#636efa\",\"pattern\":{\"shape\":\"\"}},\"name\":\"TB\",\"offsetgroup\":\"TB\",\"orientation\":\"v\",\"showlegend\":true,\"x\":[38,86,16,49,29,33,57,39,20,38,75,80,62,38,34,32,20,54,82,82,34,108,54,73,66,40,28,35,45,75,40,87,46,201,104,34,40,50,40,25,68,157,0,40,24,72,30,40,62,0,29,206,33,96,70,30,65,55,132,89,86,40,50,140,34,82,21,43,57,74,32,32,88,94,58,114,23,66,53,37,126,37,36,56,47,73,166,24,44,53,82,60,154,66,35,44,40,42,25,40,0,79,60,57,84,35,125,40,171,25,96,48,0,0,40,46,45,54,45,69,77,23,90,73,76,40,119,110,48,0,0,25,0,103,60,46,73,40,56,55,65,55,61,59,34,55,30,11,40,23,106,101,46,42,44,38,51,76,40,59,0,130,35,59,70,57,40,42,56,58,93,55,122,61,89,150,96,96,52,29,32,30,42,125,10,18,35,75,122,49,50,97,59,65,37,70,38,74,143,25,165,62,113,42,88,77,62,21,60,44,38,62,56,147,46,27,78,34,43,60,126,60,60,76,105,160,102,62,29,9,92,0,139,44,75,60,0,40,89,76,0,133,64,50,26,38,44,166,27,44,43,63,27,49,53,109,42,70,196,24,34,104,28,40,47,26,35,186,35,65,270,40,88,69,104,25,45,43,76,75,136,81,35,30,64,50,42,122,69,30,57,49,92,61,104,38,105,46,134,64,138,32,39,84,53,95,48,22,48,75,66,169,118,59,48,37,24,204,96,160,40,78,95,29,37,44,56,38,210,18,121,60,35,68,30,90,40,47,56,82,83,20,60,85,47,121,80,20,12,61,53,15,0,41,53,0,82,45,51,60,54,56,41,20,50,88,22,90,164,63,79,169,60,206,12,41,21,41,28,47,22,63,55,95,32,60,44,294,85,0,91,51,85,91,35,20,48,107,120,20,35,105,67,80,40,127,74,91,49,63,53,60,74,40,58,59,46,64,0,53,62,22,44,27,40,61,32,47,131,32,72,16,30,89,40,37,43,114,103,76,46,40,112,35,54,97,62,70,17,41,49,65,64,80,58,72,41,75,76,63,41,30,64,32,0,53,68,43,72,29,256,68,81,40,0,46,50,66,79,15,40,132,98,55,146,49,60,90,53,41,22,65,59,30,30,70,179,135,144,58,70,47,28,151,44,54,40,109,43,63,28,58,42,147,28,106,30,102,103,105,76,0,88,60,82,21,141,45,50,60,54,62,65,31,65,44,40,35,53,110,58,76,54,63,25,103,109,36,48,130,40,84,81,78,56,105,120,40,45,35,48,57,65,64,40,67,15,39,88,61,65,122,77,72,131,30,162,65,129,142,39,69,72,66,26,48,34,31,52,55,49,140,28,53,30,16,78,83,41,44,147,103,102,46,38,50,87,95,55,93,162,61,55,85,10,53,35,60,40,50,49,67,72,45,92,17,29,34,79,30,56,75,78,45,47,48,30,55,313,50,25,76,94,65,52,105,44,50,90,132,99,0,40,125,95,50,72,40,32,53,88,54,22,70,54,22,35,52,64,50,40,39,78,68,49,34,100,61,60,30,44,0,45,77,35,67,73,93,73,25,37,63,49,50,87,132,52,47,77,42,149,55,159,30,97,60,39,15,42,106,35,79,60,16,114,56,100,54,192,66,53,60,87,80,55,38,59,94,25,52,26,202,32,44,35,43,0,45,61,39,35,40,67,35,95,0,70,45,21,52,52,0,50,65,76,108,76,21,24,65,63,45,90,22,0,54,62,47,34,78,43,40,119,72,32,44,96,89,87,136,40,50,30,73,94,48,54,96,147,66,46,57,26,60,74,58,60,75,78,80,45,40,47,130,0,114,22,64,64,70,45,63,55,38,55,48,52,132,64,56,54,52,61,60,58,28,65,34,73,42,0,10,96,97,24,52,42,102,40,38,107,84,92,71,45,34,173,30,30,0,98,76,43,62,15,69,66,12,58,49,85,60,30,61,148,30,39,89,105,83,37,135,15,202,178,58,82,35,33,30,107,64,51,44,61,55,38,37,63,146,65,25,38,35,61,48,42,22,30,73,62,89,73,48,60,93,370,20,102,65,65,40,86,40,31,60,119,29,121,70,112,74,54,20,48,137,192,40,0,23,85,85,85,161,102,60,42,0,40,60,35,50,89,29,97,75,57,65,44,99,28,40,105,107,104,58,41,56,53,36,54,146,20,30,33,40,58,110,59,56,64,38,54,77,56,28,46,89,147,272,86,27,133,74,34,72,60,129,60,80,151,120,32,107,50,68,29,66,75,35,39,57,117,40,0,90,85,34,86,48,30,49,22,119,85,8,32,47,38,0,42,63,75,45,46,53,84,79,163,64,45,40,76,50,138,153,160,94,97,122,30,68,62,52,67,78,44,50,38,187,82,85,24,68,28,122,52,70,30,35,63,25,32,40,84,70,44,163,76,14,118,60,92,49,44,162,41,95,30,67,175,87,50,106,51,0,70,70,12,43,115,67,110,46,40,55,66,89,100,32,52,79,45,56,50,42,182,53,116,60,35,70,65,94,199,55,53,103,25,61,40,45,38,66,50,148,77,84,0,60,114,88,258,28,50,70,210,49,132,84,35,35,76,27,40,62,149,59,26,32,30,50,48,61,44,48,97,25,51,63,50,60,99,66,63,71,115,29,50,20,36,80,50,35,56,60,54,35,0,56,26,77,89,48,42,40,68,50,65,44,118,36,50,47,60,172,49,48,75,67,67,32,200,28,48,137,113,106,93,84,65,159,68,40,110,76,130,15,40,31,58,50,53,45,121,73,22,99,40],\"xaxis\":\"x\",\"yaxis\":\"y\",\"type\":\"histogram\"},{\"alignmentgroup\":\"True\",\"bingroup\":\"x\",\"hovertemplate\":\"STATUS=IG<br>BRUKSAREAL_TOTALT=%{x}<br>count=%{y}<extra></extra>\",\"legendgroup\":\"IG\",\"marker\":{\"color\":\"#EF553B\",\"pattern\":{\"shape\":\"\"}},\"name\":\"IG\",\"offsetgroup\":\"IG\",\"orientation\":\"v\",\"showlegend\":true,\"x\":[130,7,9,27,26,22,30,24,34,160,42,32,8,27,46,123,105,49,22,15,43],\"xaxis\":\"x\",\"yaxis\":\"y\",\"type\":\"histogram\"},{\"alignmentgroup\":\"True\",\"bingroup\":\"x\",\"hovertemplate\":\"STATUS=FA<br>BRUKSAREAL_TOTALT=%{x}<br>count=%{y}<extra></extra>\",\"legendgroup\":\"FA\",\"marker\":{\"color\":\"#00cc96\",\"pattern\":{\"shape\":\"\"}},\"name\":\"FA\",\"offsetgroup\":\"FA\",\"orientation\":\"v\",\"showlegend\":true,\"x\":[74,91,46,69,141,157,72,79,33,59,95,80,113,109,83,34,144,68,63,66,77,150,50,140,97,97,59,62,19,58,119,67,82,103,145,54,57,96,24,75,69,131,45,66,60,59,66,40,130,50,97,76,79,65,92,112,40,53,68,91],\"xaxis\":\"x\",\"yaxis\":\"y\",\"type\":\"histogram\"},{\"alignmentgroup\":\"True\",\"bingroup\":\"x\",\"hovertemplate\":\"STATUS=MF<br>BRUKSAREAL_TOTALT=%{x}<br>count=%{y}<extra></extra>\",\"legendgroup\":\"MF\",\"marker\":{\"color\":\"#ab63fa\",\"pattern\":{\"shape\":\"\"}},\"name\":\"MF\",\"offsetgroup\":\"MF\",\"orientation\":\"v\",\"showlegend\":true,\"x\":[51],\"xaxis\":\"x\",\"yaxis\":\"y\",\"type\":\"histogram\"},{\"alignmentgroup\":\"True\",\"bingroup\":\"x\",\"hovertemplate\":\"STATUS=GR<br>BRUKSAREAL_TOTALT=%{x}<br>count=%{y}<extra></extra>\",\"legendgroup\":\"GR\",\"marker\":{\"color\":\"#FFA15A\",\"pattern\":{\"shape\":\"\"}},\"name\":\"GR\",\"offsetgroup\":\"GR\",\"orientation\":\"v\",\"showlegend\":true,\"x\":[145,32,19,41,41,22,127,101,11,58,45],\"xaxis\":\"x\",\"yaxis\":\"y\",\"type\":\"histogram\"},{\"alignmentgroup\":\"True\",\"bingroup\":\"x\",\"hovertemplate\":\"STATUS=MB<br>BRUKSAREAL_TOTALT=%{x}<br>count=%{y}<extra></extra>\",\"legendgroup\":\"MB\",\"marker\":{\"color\":\"#19d3f3\",\"pattern\":{\"shape\":\"\"}},\"name\":\"MB\",\"offsetgroup\":\"MB\",\"orientation\":\"v\",\"showlegend\":true,\"x\":[82],\"xaxis\":\"x\",\"yaxis\":\"y\",\"type\":\"histogram\"}],                        {\"template\":{\"data\":{\"histogram2dcontour\":[{\"type\":\"histogram2dcontour\",\"colorbar\":{\"outlinewidth\":0,\"ticks\":\"\"},\"colorscale\":[[0.0,\"#0d0887\"],[0.1111111111111111,\"#46039f\"],[0.2222222222222222,\"#7201a8\"],[0.3333333333333333,\"#9c179e\"],[0.4444444444444444,\"#bd3786\"],[0.5555555555555556,\"#d8576b\"],[0.6666666666666666,\"#ed7953\"],[0.7777777777777778,\"#fb9f3a\"],[0.8888888888888888,\"#fdca26\"],[1.0,\"#f0f921\"]]}],\"choropleth\":[{\"type\":\"choropleth\",\"colorbar\":{\"outlinewidth\":0,\"ticks\":\"\"}}],\"histogram2d\":[{\"type\":\"histogram2d\",\"colorbar\":{\"outlinewidth\":0,\"ticks\":\"\"},\"colorscale\":[[0.0,\"#0d0887\"],[0.1111111111111111,\"#46039f\"],[0.2222222222222222,\"#7201a8\"],[0.3333333333333333,\"#9c179e\"],[0.4444444444444444,\"#bd3786\"],[0.5555555555555556,\"#d8576b\"],[0.6666666666666666,\"#ed7953\"],[0.7777777777777778,\"#fb9f3a\"],[0.8888888888888888,\"#fdca26\"],[1.0,\"#f0f921\"]]}],\"heatmap\":[{\"type\":\"heatmap\",\"colorbar\":{\"outlinewidth\":0,\"ticks\":\"\"},\"colorscale\":[[0.0,\"#0d0887\"],[0.1111111111111111,\"#46039f\"],[0.2222222222222222,\"#7201a8\"],[0.3333333333333333,\"#9c179e\"],[0.4444444444444444,\"#bd3786\"],[0.5555555555555556,\"#d8576b\"],[0.6666666666666666,\"#ed7953\"],[0.7777777777777778,\"#fb9f3a\"],[0.8888888888888888,\"#fdca26\"],[1.0,\"#f0f921\"]]}],\"heatmapgl\":[{\"type\":\"heatmapgl\",\"colorbar\":{\"outlinewidth\":0,\"ticks\":\"\"},\"colorscale\":[[0.0,\"#0d0887\"],[0.1111111111111111,\"#46039f\"],[0.2222222222222222,\"#7201a8\"],[0.3333333333333333,\"#9c179e\"],[0.4444444444444444,\"#bd3786\"],[0.5555555555555556,\"#d8576b\"],[0.6666666666666666,\"#ed7953\"],[0.7777777777777778,\"#fb9f3a\"],[0.8888888888888888,\"#fdca26\"],[1.0,\"#f0f921\"]]}],\"contourcarpet\":[{\"type\":\"contourcarpet\",\"colorbar\":{\"outlinewidth\":0,\"ticks\":\"\"}}],\"contour\":[{\"type\":\"contour\",\"colorbar\":{\"outlinewidth\":0,\"ticks\":\"\"},\"colorscale\":[[0.0,\"#0d0887\"],[0.1111111111111111,\"#46039f\"],[0.2222222222222222,\"#7201a8\"],[0.3333333333333333,\"#9c179e\"],[0.4444444444444444,\"#bd3786\"],[0.5555555555555556,\"#d8576b\"],[0.6666666666666666,\"#ed7953\"],[0.7777777777777778,\"#fb9f3a\"],[0.8888888888888888,\"#fdca26\"],[1.0,\"#f0f921\"]]}],\"surface\":[{\"type\":\"surface\",\"colorbar\":{\"outlinewidth\":0,\"ticks\":\"\"},\"colorscale\":[[0.0,\"#0d0887\"],[0.1111111111111111,\"#46039f\"],[0.2222222222222222,\"#7201a8\"],[0.3333333333333333,\"#9c179e\"],[0.4444444444444444,\"#bd3786\"],[0.5555555555555556,\"#d8576b\"],[0.6666666666666666,\"#ed7953\"],[0.7777777777777778,\"#fb9f3a\"],[0.8888888888888888,\"#fdca26\"],[1.0,\"#f0f921\"]]}],\"mesh3d\":[{\"type\":\"mesh3d\",\"colorbar\":{\"outlinewidth\":0,\"ticks\":\"\"}}],\"scatter\":[{\"fillpattern\":{\"fillmode\":\"overlay\",\"size\":10,\"solidity\":0.2},\"type\":\"scatter\"}],\"parcoords\":[{\"type\":\"parcoords\",\"line\":{\"colorbar\":{\"outlinewidth\":0,\"ticks\":\"\"}}}],\"scatterpolargl\":[{\"type\":\"scatterpolargl\",\"marker\":{\"colorbar\":{\"outlinewidth\":0,\"ticks\":\"\"}}}],\"bar\":[{\"error_x\":{\"color\":\"#2a3f5f\"},\"error_y\":{\"color\":\"#2a3f5f\"},\"marker\":{\"line\":{\"color\":\"#E5ECF6\",\"width\":0.5},\"pattern\":{\"fillmode\":\"overlay\",\"size\":10,\"solidity\":0.2}},\"type\":\"bar\"}],\"scattergeo\":[{\"type\":\"scattergeo\",\"marker\":{\"colorbar\":{\"outlinewidth\":0,\"ticks\":\"\"}}}],\"scatterpolar\":[{\"type\":\"scatterpolar\",\"marker\":{\"colorbar\":{\"outlinewidth\":0,\"ticks\":\"\"}}}],\"histogram\":[{\"marker\":{\"pattern\":{\"fillmode\":\"overlay\",\"size\":10,\"solidity\":0.2}},\"type\":\"histogram\"}],\"scattergl\":[{\"type\":\"scattergl\",\"marker\":{\"colorbar\":{\"outlinewidth\":0,\"ticks\":\"\"}}}],\"scatter3d\":[{\"type\":\"scatter3d\",\"line\":{\"colorbar\":{\"outlinewidth\":0,\"ticks\":\"\"}},\"marker\":{\"colorbar\":{\"outlinewidth\":0,\"ticks\":\"\"}}}],\"scattermapbox\":[{\"type\":\"scattermapbox\",\"marker\":{\"colorbar\":{\"outlinewidth\":0,\"ticks\":\"\"}}}],\"scatterternary\":[{\"type\":\"scatterternary\",\"marker\":{\"colorbar\":{\"outlinewidth\":0,\"ticks\":\"\"}}}],\"scattercarpet\":[{\"type\":\"scattercarpet\",\"marker\":{\"colorbar\":{\"outlinewidth\":0,\"ticks\":\"\"}}}],\"carpet\":[{\"aaxis\":{\"endlinecolor\":\"#2a3f5f\",\"gridcolor\":\"white\",\"linecolor\":\"white\",\"minorgridcolor\":\"white\",\"startlinecolor\":\"#2a3f5f\"},\"baxis\":{\"endlinecolor\":\"#2a3f5f\",\"gridcolor\":\"white\",\"linecolor\":\"white\",\"minorgridcolor\":\"white\",\"startlinecolor\":\"#2a3f5f\"},\"type\":\"carpet\"}],\"table\":[{\"cells\":{\"fill\":{\"color\":\"#EBF0F8\"},\"line\":{\"color\":\"white\"}},\"header\":{\"fill\":{\"color\":\"#C8D4E3\"},\"line\":{\"color\":\"white\"}},\"type\":\"table\"}],\"barpolar\":[{\"marker\":{\"line\":{\"color\":\"#E5ECF6\",\"width\":0.5},\"pattern\":{\"fillmode\":\"overlay\",\"size\":10,\"solidity\":0.2}},\"type\":\"barpolar\"}],\"pie\":[{\"automargin\":true,\"type\":\"pie\"}]},\"layout\":{\"autotypenumbers\":\"strict\",\"colorway\":[\"#636efa\",\"#EF553B\",\"#00cc96\",\"#ab63fa\",\"#FFA15A\",\"#19d3f3\",\"#FF6692\",\"#B6E880\",\"#FF97FF\",\"#FECB52\"],\"font\":{\"color\":\"#2a3f5f\"},\"hovermode\":\"closest\",\"hoverlabel\":{\"align\":\"left\"},\"paper_bgcolor\":\"white\",\"plot_bgcolor\":\"#E5ECF6\",\"polar\":{\"bgcolor\":\"#E5ECF6\",\"angularaxis\":{\"gridcolor\":\"white\",\"linecolor\":\"white\",\"ticks\":\"\"},\"radialaxis\":{\"gridcolor\":\"white\",\"linecolor\":\"white\",\"ticks\":\"\"}},\"ternary\":{\"bgcolor\":\"#E5ECF6\",\"aaxis\":{\"gridcolor\":\"white\",\"linecolor\":\"white\",\"ticks\":\"\"},\"baxis\":{\"gridcolor\":\"white\",\"linecolor\":\"white\",\"ticks\":\"\"},\"caxis\":{\"gridcolor\":\"white\",\"linecolor\":\"white\",\"ticks\":\"\"}},\"coloraxis\":{\"colorbar\":{\"outlinewidth\":0,\"ticks\":\"\"}},\"colorscale\":{\"sequential\":[[0.0,\"#0d0887\"],[0.1111111111111111,\"#46039f\"],[0.2222222222222222,\"#7201a8\"],[0.3333333333333333,\"#9c179e\"],[0.4444444444444444,\"#bd3786\"],[0.5555555555555556,\"#d8576b\"],[0.6666666666666666,\"#ed7953\"],[0.7777777777777778,\"#fb9f3a\"],[0.8888888888888888,\"#fdca26\"],[1.0,\"#f0f921\"]],\"sequentialminus\":[[0.0,\"#0d0887\"],[0.1111111111111111,\"#46039f\"],[0.2222222222222222,\"#7201a8\"],[0.3333333333333333,\"#9c179e\"],[0.4444444444444444,\"#bd3786\"],[0.5555555555555556,\"#d8576b\"],[0.6666666666666666,\"#ed7953\"],[0.7777777777777778,\"#fb9f3a\"],[0.8888888888888888,\"#fdca26\"],[1.0,\"#f0f921\"]],\"diverging\":[[0,\"#8e0152\"],[0.1,\"#c51b7d\"],[0.2,\"#de77ae\"],[0.3,\"#f1b6da\"],[0.4,\"#fde0ef\"],[0.5,\"#f7f7f7\"],[0.6,\"#e6f5d0\"],[0.7,\"#b8e186\"],[0.8,\"#7fbc41\"],[0.9,\"#4d9221\"],[1,\"#276419\"]]},\"xaxis\":{\"gridcolor\":\"white\",\"linecolor\":\"white\",\"ticks\":\"\",\"title\":{\"standoff\":15},\"zerolinecolor\":\"white\",\"automargin\":true,\"zerolinewidth\":2},\"yaxis\":{\"gridcolor\":\"white\",\"linecolor\":\"white\",\"ticks\":\"\",\"title\":{\"standoff\":15},\"zerolinecolor\":\"white\",\"automargin\":true,\"zerolinewidth\":2},\"scene\":{\"xaxis\":{\"backgroundcolor\":\"#E5ECF6\",\"gridcolor\":\"white\",\"linecolor\":\"white\",\"showbackground\":true,\"ticks\":\"\",\"zerolinecolor\":\"white\",\"gridwidth\":2},\"yaxis\":{\"backgroundcolor\":\"#E5ECF6\",\"gridcolor\":\"white\",\"linecolor\":\"white\",\"showbackground\":true,\"ticks\":\"\",\"zerolinecolor\":\"white\",\"gridwidth\":2},\"zaxis\":{\"backgroundcolor\":\"#E5ECF6\",\"gridcolor\":\"white\",\"linecolor\":\"white\",\"showbackground\":true,\"ticks\":\"\",\"zerolinecolor\":\"white\",\"gridwidth\":2}},\"shapedefaults\":{\"line\":{\"color\":\"#2a3f5f\"}},\"annotationdefaults\":{\"arrowcolor\":\"#2a3f5f\",\"arrowhead\":0,\"arrowwidth\":1},\"geo\":{\"bgcolor\":\"white\",\"landcolor\":\"#E5ECF6\",\"subunitcolor\":\"white\",\"showland\":true,\"showlakes\":true,\"lakecolor\":\"white\"},\"title\":{\"x\":0.05},\"mapbox\":{\"style\":\"light\"}}},\"xaxis\":{\"anchor\":\"y\",\"domain\":[0.0,1.0],\"title\":{\"text\":\"BRUKSAREAL_TOTALT\"}},\"yaxis\":{\"anchor\":\"x\",\"domain\":[0.0,1.0],\"title\":{\"text\":\"count\"}},\"legend\":{\"title\":{\"text\":\"STATUS\"},\"tracegroupgap\":0},\"margin\":{\"t\":60},\"barmode\":\"relative\"},                        {\"responsive\": true}                    ).then(function(){\n",
       "                            \n",
       "var gd = document.getElementById('52a52c0c-e806-4abe-8d5e-db56b3987eb1');\n",
       "var x = new MutationObserver(function (mutations, observer) {{\n",
       "        var display = window.getComputedStyle(gd).display;\n",
       "        if (!display || display === 'none') {{\n",
       "            console.log([gd, 'removed!']);\n",
       "            Plotly.purge(gd);\n",
       "            observer.disconnect();\n",
       "        }}\n",
       "}});\n",
       "\n",
       "// Listen for the removal of the full notebook cells\n",
       "var notebookContainer = gd.closest('#notebook-container');\n",
       "if (notebookContainer) {{\n",
       "    x.observe(notebookContainer, {childList: true});\n",
       "}}\n",
       "\n",
       "// Listen for the clearing of the current output cell\n",
       "var outputEl = gd.closest('.output');\n",
       "if (outputEl) {{\n",
       "    x.observe(outputEl, {childList: true});\n",
       "}}\n",
       "\n",
       "                        })                };                });            </script>        </div>"
      ]
     },
     "metadata": {},
     "output_type": "display_data"
    },
    {
     "name": "stderr",
     "output_type": "stream",
     "text": [
      "ERROR:root:Exception while sending command.\n",
      "Traceback (most recent call last):\n",
      "  File \"/usr/local/spark/python/lib/py4j-0.10.9.3-src.zip/py4j/clientserver.py\", line 480, in send_command\n",
      "    raise Py4JNetworkError(\"Answer from Java side is empty\")\n",
      "py4j.protocol.Py4JNetworkError: Answer from Java side is empty\n",
      "\n",
      "During handling of the above exception, another exception occurred:\n",
      "\n",
      "Traceback (most recent call last):\n",
      "  File \"/usr/local/spark/python/lib/py4j-0.10.9.3-src.zip/py4j/java_gateway.py\", line 1038, in send_command\n",
      "    response = connection.send_command(command)\n",
      "  File \"/usr/local/spark/python/lib/py4j-0.10.9.3-src.zip/py4j/clientserver.py\", line 503, in send_command\n",
      "    raise Py4JNetworkError(\n",
      "py4j.protocol.Py4JNetworkError: Error while sending or receiving\n",
      "/usr/local/spark/python/pyspark/context.py:468: RuntimeWarning:\n",
      "\n",
      "Unable to cleanly shutdown Spark JVM process. It is possible that the process has crashed, been killed or may also be in a zombie state.\n",
      "\n"
     ]
    }
   ],
   "source": [
    "import plotly.express as px\n",
    "\n",
    "px.histogram(bygg, x=\"BRUKSAREAL_TOTALT\", color=\"STATUS\")"
   ]
  },
  {
   "cell_type": "code",
   "execution_count": null,
   "id": "4ce9dfd9-a98e-4663-a2c3-10eb48cd9adc",
   "metadata": {},
   "outputs": [],
   "source": []
  }
 ],
 "metadata": {
  "kernelspec": {
   "display_name": "Pyspark (k8s cluster)",
   "language": "python",
   "name": "pyspark_k8s"
  },
  "language_info": {
   "codemirror_mode": {
    "name": "ipython",
    "version": 3
   },
   "file_extension": ".py",
   "mimetype": "text/x-python",
   "name": "python",
   "nbconvert_exporter": "python",
   "pygments_lexer": "ipython3",
   "version": "3.10.6"
  }
 },
 "nbformat": 4,
 "nbformat_minor": 5
}
